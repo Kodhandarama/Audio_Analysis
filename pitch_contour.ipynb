{
  "nbformat": 4,
  "nbformat_minor": 0,
  "metadata": {
    "colab": {
      "name": "pitch_contour.ipynb",
      "provenance": [],
      "collapsed_sections": [],
      "machine_shape": "hm"
    },
    "kernelspec": {
      "name": "python3",
      "display_name": "Python 3"
    }
  },
  "cells": [
    {
      "cell_type": "code",
      "metadata": {
        "id": "PGZr9ht7mIt-",
        "colab_type": "code",
        "colab": {
          "base_uri": "https://localhost:8080/",
          "height": 122
        },
        "outputId": "b273fac9-aa88-4741-8af6-71839aeaad33"
      },
      "source": [
        "# connects colab to drive\n",
        "from google.colab import drive\n",
        "from google.colab import files\n",
        "\n",
        "drive.mount('/content/drive')\n",
        "import sys\n",
        "sys.path.append('/content/drive/My Drive/Projects/AA/Code/')"
      ],
      "execution_count": null,
      "outputs": [
        {
          "output_type": "stream",
          "text": [
            "Go to this URL in a browser: https://accounts.google.com/o/oauth2/auth?client_id=947318989803-6bn6qk8qdgf4n4g3pfee6491hc0brc4i.apps.googleusercontent.com&redirect_uri=urn%3aietf%3awg%3aoauth%3a2.0%3aoob&response_type=code&scope=email%20https%3a%2f%2fwww.googleapis.com%2fauth%2fdocs.test%20https%3a%2f%2fwww.googleapis.com%2fauth%2fdrive%20https%3a%2f%2fwww.googleapis.com%2fauth%2fdrive.photos.readonly%20https%3a%2f%2fwww.googleapis.com%2fauth%2fpeopleapi.readonly\n",
            "\n",
            "Enter your authorization code:\n",
            "··········\n",
            "Mounted at /content/drive\n"
          ],
          "name": "stdout"
        }
      ]
    },
    {
      "cell_type": "code",
      "metadata": {
        "id": "2HlVRJrFMAMc",
        "colab_type": "code",
        "colab": {}
      },
      "source": [
        "import librosa\n",
        "import librosa.display\n",
        "from swipe import *\n",
        "from scipy import signal\n",
        "import math\n",
        "from collections import defaultdict, OrderedDict\n",
        "import statistics\n",
        "import copy\n",
        "import json\n",
        "\n",
        "plt.rcParams['figure.figsize'] = [20,5]\n",
        "# defining the class \n",
        "# each object of this class is an audio clip that is to be analysed\n",
        "class Audio:\n",
        "  def __init__(self, path, sr=None, duration = None): \n",
        "    # loading the audio file\n",
        "    self.x, self.sr1 = librosa.load(path= path, sr=sr,duration=duration)\n",
        "    self.pitch_contour()\n",
        "    self.constant_pitch()\n",
        "    self.find_gamaka()\n",
        "    self.find_stationary_points()\n",
        "    self.find_gamaka1()\n",
        "    self.find_stationary_points1()\n",
        "    self.develop_histogram(cpn = True)\n",
        "    self.tonic = self.find_tonic()\n",
        "    self.normalize()\n",
        "    self.develop_histogram(cpn = False)\n",
        "    self.histogram()\n",
        "    self.find_all_notes()\n",
        "    self.sequence_notes = self.find_sequence_notes(parameter = self.all_notes)\n",
        "    self.pattern=self.find_pattern()\n",
        "  # computing pitch contour\n",
        "  def pitch_contour(self,dt = 0.01):\n",
        "    self.pitch, self.time_axis, self.s = swipe(self.x,self.sr1,[100, 500],dt, 0.4)\n",
        "    \n",
        "  def constant_pitch(self ):\n",
        "    \n",
        "    time_axis_80 = []\n",
        "    pitch_80 = []\n",
        "    constant_pitch_time_80=[]\n",
        "  \n",
        "    for i in range(0,len(self.time_axis),8):\n",
        "      pitch_80.append(self.pitch[i])\n",
        "      time_axis_80.append(self.time_axis[i])\n",
        "    delta = 12\n",
        "      \n",
        "    diff_80 = np.diff(pitch_80)\n",
        "\n",
        "    for i in range(len(diff_80)):\n",
        "      # constant note when the slope(of the pitch contour) is within the thershold i.e, delta =  \n",
        "      if(diff_80[i]<delta/2 and diff_80[i]>-delta/2):\n",
        "        constant_pitch_time_80.append(time_axis_80[i])\n",
        "    self.constant_pitch_time_80 = np.array(constant_pitch_time_80)\n",
        "\n",
        "    cpt = list(self.constant_pitch_time_80.round(2))\n",
        "    tim = []\n",
        "    initial = cpt[0]\n",
        "    c= initial\n",
        "    for i in range(1,len(cpt)):\n",
        "      check = round(cpt[i]-c,2)\n",
        "      if(check == 0.08):\n",
        "        pass\n",
        "      else:\n",
        "        tim.append((initial,c))\n",
        "        initial = cpt[i]\n",
        "      if i == (len(cpt)-1):\n",
        "        c= cpt[i]\n",
        "        tim.append((initial,c))\n",
        "      c= cpt[i]\n",
        "    ta = list(self.time_axis)\n",
        "    self.cpn_and_t = []\n",
        "    for i in tim:\n",
        "      begin = int(100*i[0])\n",
        "      end = int(100*i[1])\n",
        "      self.cpn_and_t.append((self.pitch[begin:end],ta[begin:end]))\n",
        "    self.cpn_and_t = np.array(self.cpn_and_t)\n",
        "    g,h = self.cpn_and_t.T\n",
        "    self.cpn = np.array([item for sublist in g for item in sublist])\n",
        "    self.cpt = np.array([item for sublist in h for item in sublist])\n",
        "  \n",
        "  def find_all_notes(self):  \n",
        "    self.all_notes = []\n",
        "    for i in self.n_pitch:\n",
        "      if i in self.n_cpn or i in self.n_stp:\n",
        "        self.all_notes.append(i)\n",
        "\n",
        "  def find_gamaka(self):\n",
        "    def valid_gamaka(gamaka):\n",
        "      valid_gamaka= []\n",
        "      count = 0\n",
        "      for j in gamaka:\n",
        "        if math.isnan(j):\n",
        "          count+=1\n",
        "      if count <7:\n",
        "        return True\n",
        "      return False\n",
        "\n",
        "    ta = list(self.time_axis)\n",
        "    self.bt_cpn = []\n",
        "    self.bt_cpt = []\n",
        "    init = 0\n",
        "    for _,j in self.cpn_and_t:\n",
        "      if(j):\n",
        "        begin = int(100*init)\n",
        "        end = int(100*j[0])\n",
        "        temp = self.pitch[begin:end]\n",
        "        if(valid_gamaka(temp)):\n",
        "          self.bt_cpn.append(temp)\n",
        "          self.bt_cpt.append(ta[begin:end])\n",
        "        init = j[-1]\n",
        "    # bt_cpn_cpt=[]\n",
        "    # for i in bt_cpt:\n",
        "    #       begin = int(100*i[0])\n",
        "    #       end = int(100*i[1])\n",
        "    #       bt_cpn_cpt.append((self.pitch[begin:end],ta[begin:end]))\n",
        "    # self.bt_cpn_cpt = np.array(bt_cpn_cpt)\n",
        "    # self.bt_cpn,self.bt_cpt = self.bt_cpn_cpt.T\n",
        "  def find_gamaka1(self):\n",
        "    def valid_gamaka(gamaka):\n",
        "      valid_gamaka= []\n",
        "      count = 0\n",
        "      for j in gamaka:\n",
        "        if math.isnan(j):\n",
        "          count+=1\n",
        "      if count <200:\n",
        "        return True\n",
        "      return False \n",
        "\n",
        "    ta = list(self.time_axis)\n",
        "    self.bt_cpn1 = []\n",
        "    self.bt_cpt1 = []\n",
        "    init = 0\n",
        "    for _,j in self.cpn_and_t:\n",
        "      if(j):\n",
        "        begin = int(100*init)\n",
        "        end = int(100*j[0])\n",
        "        temp = self.pitch[begin:end]\n",
        "        if(valid_gamaka(temp)):\n",
        "          self.bt_cpn1.append(temp)\n",
        "          self.bt_cpt1.append(ta[begin:end])\n",
        "        init = j[-1]\n",
        "  def find_stationary_points1(self):\n",
        "    self.stp1 = []\n",
        "    self.stp_t1 = []\n",
        "    for i in range(len(self.bt_cpn1)):\n",
        "      test = self.bt_cpn1[i]\n",
        "      test_time  = self.bt_cpt1[i]\n",
        "      for i in signal.find_peaks(test)[0]:\n",
        "        self.stp1.append(test[i])\n",
        "        self.stp_t1.append(test_time[i])\n",
        "      for i in signal.find_peaks(-1*test)[0]:\n",
        "        self.stp1.append(test[i])\n",
        "        self.stp_t1.append(test_time[i])\n",
        "  def find_stationary_points(self):\n",
        "    self.stp = []\n",
        "    self.stp_t = []\n",
        "    for i in range(len(self.bt_cpn)):\n",
        "      test = self.bt_cpn[i]\n",
        "      test_time  = self.bt_cpt[i]\n",
        "      for i in signal.find_peaks(test)[0]:\n",
        "        self.stp.append(test[i])\n",
        "        self.stp_t.append(test_time[i])\n",
        "      for i in signal.find_peaks(-1*test)[0]:\n",
        "        self.stp.append(test[i])\n",
        "        self.stp_t.append(test_time[i])\n",
        "  def develop_histogram(self,cpn):\n",
        "    if(cpn):\n",
        "      d = list(self.cpn) + list(self.stp)\n",
        "      values=[x for x in d if (math.isnan(x) == False)]\n",
        "      initial = 120\n",
        "      end = 500\n",
        "      increment = 1\n",
        "      r = 0\n",
        "    else:\n",
        "      values = [x for x in self.n_pitch if (math.isnan(x) == False)]\n",
        "      initial = all_normalized_notes['lSa0']\n",
        "      end = all_normalized_notes['hNi3']\n",
        "      increment = 0.01\n",
        "      r = 2\n",
        "    # values.extend(self.stp)\n",
        "    values=[round(x,r) for x in values]\n",
        "    occur=dict()\n",
        "    self.d_hist=defaultdict(int)\n",
        "    for i in values:\n",
        "      if(i in occur):\n",
        "        occur[i]+=1;\n",
        "      else:\n",
        "        occur[i]=1;\n",
        "    j=initial\n",
        "    while(j<=end):\n",
        "      # print(j)\n",
        "      if(j in occur):\n",
        "        self.d_hist[j]=occur[j]\n",
        "        # times.append(occur[j])\n",
        "      else:\n",
        "        self.d_hist[j]=0\n",
        "      j+=increment\n",
        "      j = round(j,r)\n",
        "\n",
        "  def find_tonic(self):\n",
        "\n",
        "    def close_5(arr):\n",
        "      top5=list()\n",
        "      for i in arr:\n",
        "        count=0\n",
        "        for j in arr:\n",
        "          if(abs(i-j)<16):\n",
        "            count+=1\n",
        "        if (count>len(arr)/2):\n",
        "          top5.append(i)\n",
        "      return(top5)\n",
        "    def toniclist(self) :\n",
        "      un_notes=[]\n",
        "      for i in list(self.cpn)+list(self.stp):\n",
        "        x=round(i)\n",
        "        if(not(np.isnan(x))):\n",
        "            un_notes.append(round(i,2))\n",
        "      un_notes.sort()\n",
        "\n",
        "      occur={}\n",
        "      hist=defaultdict(int)\n",
        "      for i in un_notes:\n",
        "            if(i in occur):\n",
        "              occur[i]+=1;\n",
        "            else:\n",
        "              occur[i]=1;\n",
        "      # soccur = sorted(occur.items(), key=lambda x: x[1], reverse=True)\n",
        "      # print(\"soccur :\",soccur )\n",
        "      # occurvalues=list(occur.values())\n",
        "      #from collections import OrderedDict \n",
        "      # soccur = OrderedDict(sorted(occur.items()))\n",
        "      soccur={k: v for k, v in sorted(occur.items(), key=lambda item: item[1],reverse=True)} \n",
        "      print(\"soccur :\",soccur )\n",
        "      occurvalues=list(occur.values())\n",
        "      # occurvalues=[]\n",
        "      # for i in soccur:\n",
        "      #   occurvalues.append(i[0])\n",
        "      indexlist=[]\n",
        "      for i in range(1,len(occurvalues)-1):\n",
        "        if((occurvalues[i-1]<occurvalues[i])and(occurvalues[i+1]<occurvalues[i])):\n",
        "          indexlist.append(i)\n",
        "      it=0\n",
        "      toniclist=[]\n",
        "      for i in occur:\n",
        "        it+=1\n",
        "        if(it in indexlist):\n",
        "          # print(i,\" : \",occur[i])\n",
        "          if(i>130):\n",
        "            toniclist.append(i)\n",
        "            # print(i,\" : \",occur[i])\n",
        "      return_toniclist=sorted(toniclist)\n",
        "      return_toniclist=toniclist[:50]\n",
        "      return(return_toniclist)\n",
        "    \n",
        "    def remove_outliers(an_array):\n",
        "      if(len(an_array)<3):\n",
        "        return(an_array)\n",
        "      else:  \n",
        "        mean=statistics.mean(an_array)\n",
        "        an_array = np.array(an_array)\n",
        "        # mean = np.mean(an_array)\n",
        "        standard_deviation = np.std(an_array)\n",
        "        distance_from_mean = abs(an_array - mean)\n",
        "        max_deviations = 0.9\n",
        "        not_outlier = distance_from_mean <= 1.1* max_deviations * standard_deviation\n",
        "        no_outliers = an_array[not_outlier]\n",
        "\n",
        "        return(no_outliers)\n",
        "  \n",
        "    def half_the_Sa(ton):\n",
        "\n",
        "        if(ton>240):\n",
        "          return (ton/2)\n",
        "        else:\n",
        "          return ton\n",
        "    Sa_candidates=defaultdict(list)\n",
        "    tonic_candidates=toniclist(self)\n",
        "    Sa_tonic_candidates=[x for x in tonic_candidates if x>110 and x<240]\n",
        "    print(\"Tonic candidates :\",tonic_candidates)\n",
        "    for i in tonic_candidates:\n",
        "      for j in Sa_tonic_candidates :\n",
        "            if(((i/j)>1.48) and ((i/j) <1.51)):\n",
        "              Sa_candidates[\"Pa\"].append(half_the_Sa(j))\n",
        "            # if(((i/j)>1.06) and ((i/j) <1.067)):\n",
        "            #   Sa_candidates[\"Ri1\"].append(half_the_Sa(j))\n",
        "            # if(((i/j)>1.19) and ((i/j) <1.21)):\n",
        "            #   Sa_candidates[\"Ga2\"].append(half_the_Sa(j))\n",
        "              \n",
        "            if(((i/j)>1.12) and ((i/j) <1.127) ):\n",
        "              Sa_candidates[\"Ri2\"].append(half_the_Sa(j))\n",
        "\n",
        "            # if(((i/j)>1.4) and ((i/j) <1.42) ):\n",
        "            #   Sa_candidates[\"Ma2\"].append(half_the_Sa(j))\n",
        "              \n",
        "            # if(((i/j)>1.31) and ((i/j) <1.34) ):\n",
        "            #   Sa_candidates[\"Ma1\"].append(half_the_Sa(j))\n",
        "              \n",
        "            if(((i/j)>1.23) and ((i/j) <1.27)):\n",
        "              Sa_candidates[\"Ga3\"].append(half_the_Sa(j))\n",
        "            # if(((i/j)>1.59) and ((i/j) <1.61)):\n",
        "            #   Sa_candidates[\"Da1\"].append(half_the_Sa(j))\n",
        "              \n",
        "            if(((i/j)>1.86) and ((i/j) <1.91) ):\n",
        "              Sa_candidates[\"Ni3\"].append(half_the_Sa(j))\n",
        "            if(((i/j)>1.78) and ((i/j) <1.82) ):\n",
        "              Sa_candidates[\"Ni2\"].append(half_the_Sa(j))\n",
        "            if(i>200):  \n",
        "              if(((i/j)>1.98) and ((i/j) <2.2) ):\n",
        "                Sa_candidates[\"High_Sa\"].append(half_the_Sa(j))\n",
        "            # if(j>200):\n",
        "            #   #Pa\n",
        "            #   if(((i/j)>0.74) and ((i/j) <0.76) ):\n",
        "            #     Sa_candidates[\"High_Sa\"].append(half_the_Sa(j/2))\n",
        "            #   #Da2\n",
        "            #   if(((i/j)>0.82) and ((i/j) <0.85) ):\n",
        "            #     Sa_candidates[\"High_Sa\"].append(half_the_Sa(j/2))\n",
        "            #   #Ma\n",
        "            #   if(((i/j)>0.65) and ((i/j) <0.68) ):\n",
        "            #     Sa_candidates[\"High_Sa\"].append(half_the_Sa(j/2))\n",
        "    # print(\"The Sa_candidates are : \",(Sa_candidates)) \n",
        "\n",
        "    for i in Sa_candidates:\n",
        "      Sa_candidates[i]=remove_outliers(Sa_candidates[i])\n",
        "    #   Sa_candidates[i]=close_5(Sa_candidates[i])\n",
        "\n",
        "    if(\"Pa\" in Sa_candidates):\n",
        "      if(len(Sa_candidates[\"Pa\"])!=0):\n",
        "            Pa= mean(Sa_candidates[\"Pa\"])\n",
        "            if(\"High_Sa\" in Sa_candidates):\n",
        "              if(len(Sa_candidates[\"High_Sa\"])!=0):\n",
        "\n",
        "                      # if(Pa in Sa_candidates[\"High_Sa\"]):\n",
        "                      #   High_Sa=Pa\n",
        "                      # else:\n",
        "                        High_Sa = mean((Sa_candidates[\"High_Sa\"]))\n",
        "                        # print(\"x :\",x)\n",
        "                        # High_Sa=mean(x)\n",
        "\n",
        "                        if(abs(High_Sa-Pa)<5 ):\n",
        "                          #and (High_Sa+Pa) != 0\n",
        "                              prob = High_Sa\n",
        "                              print(\"SAPSPSAPSPASA\")\n",
        "                              return(half_the_Sa(prob))     \n",
        "                            \n",
        "    \n",
        "    for i in Sa_candidates:\n",
        "      print(\"i :\",i, \" Sa_candidates[i] :\", Sa_candidates[i])\n",
        "        # print(\"i :\",i, \" Sa_candidates[i] :\", Sa_candidates[i])\n",
        "      if(len(Sa_candidates[i])!=0):\n",
        "          Sa_candidates[i]=mean(Sa_candidates[i])\n",
        "          \n",
        "    \n",
        "\n",
        "    temp=[i for i in list(Sa_candidates.values()) if(i)]\n",
        "    # print(\"Temp :\",temp)\n",
        "\n",
        "    # temp2=remove_outliers(temp)\n",
        "    # finallist=close_5(temp2)\n",
        "    finallist=remove_outliers(temp)\n",
        "    \n",
        "    if(not(np.isnan(half_the_Sa(mean(finallist))))):\n",
        "      print((half_the_Sa(mean(finallist))))\n",
        "      return((half_the_Sa(mean(finallist))))\n",
        "\n",
        "    else:\n",
        "      print(\"Tonic not found\")\n",
        "  def histogram(self):\n",
        "    self.hist_bins,self.hist_y = np.array(list(self.d_hist.items())).T\n",
        "    self.n_hist_y = self.hist_y/len(self.pitch)\n",
        "\n",
        "  def normalize(self):\n",
        "    self.n_pitch = [12*np.log2(i/self.tonic) for i in self.pitch]\n",
        "    self.n_bt_cpn = []\n",
        "    self.n_bt_cpn1 = []\n",
        "    for i in self.bt_cpn:\n",
        "      self.n_bt_cpn.append([12*np.log2(j/self.tonic) for j in i])\n",
        "    for i in self.bt_cpn1:\n",
        "       self.n_bt_cpn1.append([12*np.log2(j/self.tonic) for j in i])\n",
        "    self.n_stp = [12*np.log2(i/self.tonic) for i in self.stp]\n",
        "    self.n_cpn = [12*np.log2(i/self.tonic) for i in self.cpn]\n",
        "  \n",
        "  def find_sequence_notes(self,parameter):\n",
        "    # print(parameter)\n",
        "    notes = []\n",
        "    for k in parameter:\n",
        "      # min = 40\n",
        "      if k in self.n_cpn:\n",
        "        a = 0.04\n",
        "      else:\n",
        "        a = 0.135\n",
        "      for i,j in all_normalized_notes.items():\n",
        "        if (math.isclose(j,k,abs_tol= a)):\n",
        "          notes.append(i)\n",
        "    # print(notes)\n",
        "    set_note = []\n",
        "    initial = notes[0]\n",
        "    set_note.append(initial)\n",
        "    for i in range(1,len(notes)):\n",
        "      if (initial != notes[i]):\n",
        "        initial = notes[i]\n",
        "        set_note.append(initial)\n",
        "    return set_note\n",
        "\n",
        "  def find_pattern(self):\n",
        "    def countme(l,sl):\n",
        "      count =0\n",
        "      for i in range(0,len(l)):\n",
        "        a=l[i:i+len(sl)]\n",
        "        if (a==sl):\n",
        "          count+=1\n",
        "      return(count)\n",
        "    cnt=0\n",
        "    pattern=dict()\n",
        "    for sublen in range(3,int(4)):\n",
        "      for i in range(0,len(self.sequence_notes)-sublen):\n",
        "        sub = self.sequence_notes[i:i+sublen]\n",
        "        if(len(set(sub))>1):\n",
        "          cnt = countme(self.sequence_notes,sub)\n",
        "          str1=\"\"\n",
        "          strsub=str1.join(sub)\n",
        "          if cnt >= (4) and strsub not in pattern:\n",
        "            pattern[strsub] = cnt\n",
        "    return pattern\n",
        "\n",
        "  def plot(self,**kwargs):\n",
        "    for key,value in kwargs.items():\n",
        "      if(key=='contour' and value):\n",
        "        plt.plot(self.time_axis,self.n_pitch,label = 'Pitch Contour')\n",
        "      if(key == 'cpn' and value):\n",
        "        plt.plot(self.time_axis,self.n_pitch,c=\"#FF0000\",label = 'Pitch Contour')\n",
        "        plt.scatter(self.cpt,self.n_cpn,c='0',label = 'Constant Pitch')\n",
        "      if(key =='stp' and value):\n",
        "        plt.scatter(self.stp_t,self.n_stp,c='#00FF00',label = 'Stationary Points')\n",
        "        # plt.plot(self.time_axis,self.n_pitch,c=\"#FF0000\",label = 'Pitch Contour')\n",
        "      if(key =='histogram' and value):\n",
        "        plt.plot(self.hist_bins,  self.n_hist_y,label = \"histogram\")\n",
        "      plt.legend(loc='upper center', bbox_to_anchor=(0.5, -0.05), shadow=True, ncol=2)\n",
        "\n",
        "\n",
        "ratios = {'Sa0':1,'Ri1':16/15,'Ri2':9/8,'Ga2':6/5,'Ga3':5/4,'Ma1':4/3,'Ma2':17/12,'Pa0':3/2,'Da1':8/5,\n",
        "          'Da2':5/3,'Ni2':9/5,'Ni3':15/8,'Sa2':2}\n",
        "all_normalized_notes = dict()\n",
        "for i,j in ratios.items():\n",
        "  all_normalized_notes[i] = 12*np.log2(j)\n",
        "  all_normalized_notes['l'+i] = 12*np.log2(0.5*j)\n",
        "  all_normalized_notes['h'+i] = 12*np.log2(2*j)\n",
        "\n",
        "del all_normalized_notes['lSa2']\n",
        "del all_normalized_notes['hSa0']\n",
        "all_normalized_notes = OrderedDict(sorted(all_normalized_notes.items(),key=lambda kv: kv[1]))"
      ],
      "execution_count": null,
      "outputs": []
    },
    {
      "cell_type": "code",
      "metadata": {
        "id": "wfypqhehfMTm",
        "colab_type": "code",
        "colab": {}
      },
      "source": [
        "import json\n",
        "def store_compare_features(audio,name):\n",
        "\n",
        "    # data={}\n",
        "    # data['songs'] = []\n",
        "\n",
        "    # data['songs'].append({ 'song_name': name,\n",
        "    # 'pattern_data': list(audio.pattern.keys()),\n",
        "    # 'hist_data': list(audio.n_hist_y),\n",
        "    # 'gamaka_data':audio.n_bt_cpn1\n",
        "    # })\n",
        "\n",
        "    # with open(\"/content/drive/My Drive/Projects/AA/Audio_data.txt\", 'w') as outfile:\n",
        "    #  json.dump(data, outfile)\n",
        "    data1={ 'song_name': name,\n",
        "    'pattern_data': list(audio.pattern.keys()),\n",
        "    'hist_data': list(audio.n_hist_y),\n",
        "    'gamaka_data':audio.n_bt_cpn1\n",
        "    }\n",
        "    with open(\"/content/drive/My Drive/Projects/AA/Audio_data.txt\", 'r+') as file:\n",
        "        filedata = json.load(file)\n",
        "        # filedata.update(data)\n",
        "        filedata['songs'].append(data1)\n",
        "        file.seek(0)\n",
        "        json.dump(filedata, file)\n",
        "\n",
        "# store_compare_features(kalyani_0,\"kalyani_0_song\")\n",
        "store_compare_features(shankarabarana,\"Shankarabharana_song\")"
      ],
      "execution_count": null,
      "outputs": []
    },
    {
      "cell_type": "code",
      "metadata": {
        "id": "VFNktt0sEzC-",
        "colab_type": "code",
        "colab": {
          "base_uri": "https://localhost:8080/",
          "height": 92
        },
        "outputId": "a7cbe413-3791-4d7b-f602-8530dbef2b1d"
      },
      "source": [
        "def read_compare_features():\n",
        "  with open(\"/content/drive/My Drive/Projects/AA/Audio_data.txt\",'r+') as json_file:\n",
        "    data = json.load(json_file)\n",
        "    print(data['songs'])\n",
        "    for p in data['songs']:\n",
        "        if(bool(p)):\n",
        "          print('Name: ' + p['song_name'])\n",
        "          #can do any manipulation here\n",
        "\n",
        "read_compare_features()    "
      ],
      "execution_count": null,
      "outputs": [
        {
          "output_type": "stream",
          "text": [
            "[{'song_name': 'kalyani_0_song', 'pattern_data': [], 'hist_data': [0.0, 0.0, 0.0, 0.0, 0.0, 0.0, 0.0, 0.0, 0.0, 0.0, 0.0, 0.0, 0.0, 0.0, 0.0, 0.0, 0.0, 0.0, 0.0, 0.0, 0.0, 0.0, 0.0, 0.0, 0.0, 0.0, 0.0, 0.0, 0.0, 0.0, 0.0, 0.0, 0.0, 0.0, 0.0, 0.0, 0.0, 0.0, 0.0, 0.0, 0.0, 0.0, 0.0, 0.0, 0.0, 0.0, 0.0, 0.0, 0.0, 0.0, 0.0, 0.0, 0.0, 0.0, 0.0, 0.0, 0.0, 0.0, 0.0, 0.0, 0.0, 0.0, 0.0, 0.0, 0.0, 0.0, 0.0, 0.0, 0.0, 0.0, 0.0, 0.0, 0.0, 0.0, 0.0, 0.0, 0.0, 0.0, 0.0, 0.0, 0.0, 0.0, 0.0, 0.0, 0.0, 0.0, 0.0, 0.0, 0.0, 0.0, 0.0, 0.0, 0.0, 0.0, 0.0, 0.0, 0.0, 0.0, 0.0, 0.0, 0.0, 0.0, 0.0, 0.0, 0.0, 0.0, 0.0, 0.0, 0.0, 0.0, 0.0, 0.0, 0.0, 0.0, 0.0, 0.0, 0.0, 0.0, 0.0, 0.0, 0.0, 0.0, 0.0, 0.0, 0.0, 0.0, 0.0, 0.0, 0.0, 0.0, 0.0, 0.0, 0.0, 0.0, 0.0, 0.0, 0.0, 0.0, 0.0, 0.0, 0.0, 0.0, 0.0, 0.0, 0.0, 0.0, 0.0, 0.0, 0.0, 0.0, 0.0, 0.0, 0.0, 0.0, 0.0, 0.0, 0.0, 0.0, 0.0, 0.0, 0.0, 0.0, 0.0, 0.0, 0.0, 0.0, 0.0, 0.0, 0.0, 0.0, 0.0, 0.0, 0.0, 0.0, 0.0, 0.0, 0.0, 0.0, 0.0, 0.0, 0.0, 0.0, 0.0, 0.0, 0.0, 0.0, 0.0, 0.0, 0.0, 0.0, 0.0, 0.0, 0.0, 0.0, 0.0, 0.0, 0.0, 0.0, 0.0, 0.0, 0.0, 0.0, 0.0, 0.0, 0.0, 0.0, 0.0, 0.0, 0.0, 0.0, 0.0, 0.0, 0.0, 0.0, 0.0, 0.0, 0.0, 0.0, 0.0, 0.0, 0.0, 0.0, 0.0, 0.0, 0.0, 0.0, 0.0, 0.0, 0.0, 0.0, 0.0, 0.0, 0.0, 0.0, 0.0, 0.0, 0.0, 0.0, 0.0, 0.0, 0.0, 0.0, 0.0, 0.0, 0.0, 0.0, 0.0, 0.0, 0.0, 0.0, 0.0, 0.0, 0.0, 0.0, 0.0, 0.0, 0.0, 0.0, 0.0, 0.0, 0.0, 0.0, 0.0, 0.0, 0.0, 0.0, 0.0, 0.0, 0.0, 0.0, 0.0, 0.0, 0.0, 0.0, 0.0, 0.0, 0.0, 0.0, 0.0, 0.0, 0.0, 0.0, 0.0, 0.0, 0.0, 0.0, 0.0, 0.0, 0.0, 0.0, 0.0, 0.0, 0.0, 0.0, 0.0, 0.0, 0.0, 0.0, 0.0, 0.0, 0.0, 0.0, 0.0, 0.0, 0.0, 0.0, 0.0, 0.0, 0.0, 0.0, 0.0, 0.0, 0.0, 0.0, 0.0, 0.0, 0.0, 0.0, 0.0, 0.0, 0.0, 0.0, 0.0, 0.0, 0.0, 0.0, 0.0, 0.0, 0.0, 0.0, 0.0, 0.0, 0.0, 0.0, 0.0, 0.0, 0.0, 0.0, 0.0, 0.0, 0.0, 0.0, 0.0, 0.0, 0.0, 0.0, 0.0, 0.0, 0.0, 0.0, 0.0, 0.0, 0.0, 0.0, 0.0, 0.0, 0.0, 0.0, 0.0, 0.0, 0.0, 0.0, 0.0, 0.0, 0.0, 0.0, 0.0, 0.0, 0.0, 0.0, 0.0, 0.0, 0.0, 0.0, 0.0, 0.0, 0.0, 0.0, 0.0, 0.0, 0.0, 0.0, 0.0, 0.0, 0.0, 0.0, 0.0, 0.0, 0.0, 0.0, 0.0, 0.0, 0.0, 0.0, 0.0, 0.0, 0.0, 0.0, 0.0, 0.0, 0.0, 0.0, 0.0, 0.0, 0.0, 0.0, 0.0, 0.0, 0.0, 0.0, 0.0, 0.0, 0.0, 0.0, 0.0, 0.0, 0.0, 0.0, 0.0, 0.0, 0.0, 0.0, 0.0, 0.0, 0.0, 0.0, 0.0, 0.0, 0.0, 0.0, 0.0, 0.0, 0.0, 0.0, 0.0, 0.0, 0.0, 0.0, 0.0, 0.0, 0.0, 0.0, 0.0, 0.0, 0.0, 0.0, 0.0, 0.0, 0.0, 0.0, 0.0, 0.0, 0.0, 0.0, 0.0, 0.0, 0.0, 0.0, 0.0, 0.0, 0.0, 0.0, 0.0, 0.0, 0.0, 0.0, 0.0, 0.0, 0.0, 0.0, 0.0, 0.0, 0.0, 0.0, 0.0, 0.0, 0.0, 0.0, 0.0, 0.0, 0.0, 0.0, 0.0, 0.0, 0.0, 0.0, 0.0, 0.0, 0.0, 0.0, 0.0, 0.0, 0.0, 0.0, 0.0, 0.0, 0.0, 0.0, 0.0, 0.0, 0.0, 0.0, 0.0, 0.0, 0.0, 0.0, 0.0, 0.0, 0.0, 0.0, 0.0, 0.0, 0.0, 0.0, 0.0, 0.0, 0.0, 0.0, 0.0, 0.0, 0.0, 0.0, 0.0, 0.0, 0.0, 0.0, 0.0, 0.0, 0.0, 0.0, 0.0, 0.0, 0.0, 0.0, 0.0, 0.0, 0.0, 0.0, 0.0, 0.0, 0.0, 0.0, 0.0, 0.0, 0.0, 0.0, 0.0, 0.0, 0.0, 0.0, 0.0, 0.0, 0.0, 0.0, 0.0, 0.0, 0.0, 0.0, 0.0, 0.0, 0.0, 0.0, 0.0, 0.0, 0.0, 0.0, 0.0, 0.0, 0.0, 0.0, 0.0, 0.0, 0.0, 0.0, 0.0, 0.0, 0.0, 0.0, 0.0, 0.0, 0.0, 0.0, 0.0, 0.0, 0.0, 0.0, 0.0, 0.0, 0.0, 0.0, 0.0, 0.0, 0.0, 0.0, 0.0, 0.0, 0.0, 0.0, 0.0, 0.0, 0.0, 0.0, 0.0, 0.0, 0.0, 0.0, 0.0, 0.0, 0.0, 0.0, 0.0, 0.0, 0.0, 0.0, 0.0, 0.0, 0.0, 0.0, 0.0, 0.0, 0.0, 0.0, 0.0, 0.0, 0.0, 0.0, 0.0, 0.0, 0.0, 0.0, 0.0, 0.0, 0.0, 0.0, 0.0, 0.0, 0.0, 0.0, 0.0, 0.0, 0.0, 0.0, 0.0, 0.0, 0.0, 0.0, 0.0, 0.0, 0.0, 0.0, 0.0, 0.0, 0.0, 0.0, 0.0, 0.0, 0.0, 0.0, 0.0, 0.0, 0.0, 0.0, 0.0, 0.0, 0.0, 0.0, 0.0, 0.0, 0.0, 0.0, 0.0, 0.0, 0.0, 0.0, 0.0, 0.0, 0.0, 0.0, 0.0, 0.0, 0.0, 0.0, 0.0, 0.0, 0.0, 0.0, 0.0, 0.0, 0.0, 0.0, 0.0, 0.0, 0.0, 0.0, 0.0, 0.0, 0.0, 0.0, 0.0, 0.0, 0.0, 0.0, 0.0, 0.0, 0.0, 0.0, 0.0, 0.0, 0.0, 0.0, 0.0, 0.0, 0.0, 0.0, 0.0, 0.0, 0.0, 0.0, 0.0, 0.0, 0.0, 0.0, 0.0, 0.0, 0.0, 0.0, 0.0, 0.0, 0.0, 0.0, 0.0, 0.0, 0.0, 0.0, 0.0, 0.0, 0.0, 0.0, 0.0, 0.0, 0.0, 0.0, 0.0, 0.0, 0.0, 0.0, 0.0, 0.0, 0.0, 0.0, 0.0, 0.0, 0.0, 0.0, 0.0, 0.0, 0.0, 0.0, 0.0, 0.0, 0.0, 0.0, 0.0, 0.0, 0.0, 0.0, 0.0, 0.0, 0.0, 0.0, 0.0, 0.0, 0.0, 0.0, 0.0, 0.0, 0.0, 0.0, 0.0, 0.0, 0.0, 0.0, 0.0, 0.0, 0.0, 0.0, 0.0, 0.0, 0.0, 0.0, 0.0, 0.0, 0.0, 0.0, 0.0, 0.0, 0.0, 0.0, 0.0, 0.0, 0.0, 0.0, 0.0, 0.0, 0.0, 0.0, 0.0, 0.0, 0.0, 0.0, 0.0, 0.0, 0.0, 0.0, 0.0, 0.0, 0.0, 0.0, 0.0, 0.0, 0.0, 0.0, 0.0, 0.0, 0.0, 0.0, 0.0, 0.0, 0.0, 0.0, 0.0, 0.0, 0.0, 0.0, 0.0, 0.0, 0.0, 0.0, 0.0, 0.0, 0.0, 0.0, 0.0, 0.0, 0.0, 0.0, 0.0, 0.0, 0.0, 0.0, 0.0, 0.0, 0.0, 0.0, 0.0, 0.0, 0.0, 0.0, 0.0, 0.0, 0.0, 0.0, 0.0, 0.0, 0.0, 0.0, 0.0, 0.0, 0.0, 0.0, 0.0, 0.0, 0.0, 0.0, 0.0, 0.0, 0.0, 0.0, 0.0, 0.0, 0.0, 0.0, 0.0, 0.0, 0.0, 0.0, 0.0, 0.0, 0.0, 0.0, 0.0, 0.0, 0.0, 0.0, 0.0, 0.0, 0.0, 0.0, 0.0, 0.0, 0.0, 0.0, 0.0, 0.0, 0.0, 0.0, 0.0, 0.0, 0.0, 0.0, 0.0, 0.0, 0.0, 0.0, 0.0, 0.0, 0.0, 0.0, 0.0, 0.0, 0.0, 0.0, 0.0, 0.0, 0.0, 0.0, 0.0, 0.0, 0.0, 0.0, 0.0, 0.0, 0.0, 0.0, 0.0, 0.0, 0.0, 0.0, 0.0, 0.0, 0.0, 0.0, 0.0, 0.0, 0.0, 0.0, 0.0, 0.0, 0.0, 0.0, 0.0, 0.0, 0.0, 0.0, 0.0, 0.0, 0.0, 0.0, 0.0, 0.0, 0.0, 0.0, 0.0, 0.0, 0.0, 0.0, 0.0, 0.0, 0.0, 0.0, 0.0, 0.0, 0.0, 0.0, 0.0, 0.0, 0.0, 0.0, 0.0, 0.0, 0.0, 0.0, 0.0, 0.0, 0.0, 0.0, 0.0, 0.0, 0.0, 0.0, 0.0, 0.0, 0.0, 0.0, 0.0, 0.0, 0.0, 0.0, 0.0, 0.0, 0.0, 0.0, 0.0, 0.0, 0.0, 0.0, 0.0, 0.0, 0.0, 0.0, 0.0, 0.0, 0.0, 0.0, 0.0, 0.0, 0.0, 0.0, 0.0, 0.0, 0.0, 0.0, 0.0, 0.0, 0.0, 0.0, 0.0, 0.0, 0.0, 0.0, 0.0, 0.0, 0.0, 0.0, 0.0, 0.0, 0.0, 0.0, 0.0, 0.0, 0.0, 0.0, 0.0, 0.0, 0.0, 0.0, 0.0, 0.0, 0.0, 0.0, 0.0, 0.0, 0.0, 0.0, 0.0, 0.0, 0.0, 0.0, 0.0, 0.0005141388174807198, 0.0, 0.0, 0.0, 0.0, 0.0, 0.0, 0.0, 0.0, 0.0, 0.0, 0.0005141388174807198, 0.0, 0.0, 0.0, 0.0, 0.0005141388174807198, 0.0, 0.0, 0.0, 0.0, 0.0, 0.0, 0.0, 0.0, 0.0, 0.0, 0.0, 0.0, 0.0, 0.0, 0.0, 0.0, 0.0, 0.0, 0.0, 0.0, 0.0, 0.0, 0.0, 0.0, 0.0, 0.0, 0.0, 0.0, 0.0, 0.0015424164524421595, 0.0, 0.0, 0.0, 0.0, 0.0, 0.0, 0.0010282776349614395, 0.0, 0.0005141388174807198, 0.0, 0.0, 0.0, 0.0, 0.0, 0.0, 0.0, 0.0005141388174807198, 0.0005141388174807198, 0.0, 0.0005141388174807198, 0.0, 0.0, 0.0, 0.0, 0.0, 0.0, 0.0, 0.0, 0.0005141388174807198, 0.0, 0.0, 0.0015424164524421595, 0.0, 0.0, 0.0005141388174807198, 0.0, 0.0005141388174807198, 0.0, 0.0005141388174807198, 0.0005141388174807198, 0.0, 0.0005141388174807198, 0.0010282776349614395, 0.0, 0.0005141388174807198, 0.0005141388174807198, 0.0, 0.0, 0.0, 0.0005141388174807198, 0.0005141388174807198, 0.0, 0.0010282776349614395, 0.0010282776349614395, 0.0, 0.0, 0.0005141388174807198, 0.0, 0.0, 0.0005141388174807198, 0.0, 0.0, 0.0, 0.0010282776349614395, 0.0, 0.0, 0.0, 0.0005141388174807198, 0.0, 0.0005141388174807198, 0.0005141388174807198, 0.0, 0.0005141388174807198, 0.0, 0.0, 0.0015424164524421595, 0.0, 0.0005141388174807198, 0.0010282776349614395, 0.0, 0.0005141388174807198, 0.0010282776349614395, 0.0, 0.0, 0.0010282776349614395, 0.0, 0.0005141388174807198, 0.0, 0.0010282776349614395, 0.0010282776349614395, 0.0, 0.0010282776349614395, 0.002056555269922879, 0.0, 0.002056555269922879, 0.0010282776349614395, 0.0, 0.0015424164524421595, 0.0, 0.0, 0.0015424164524421595, 0.0, 0.0015424164524421595, 0.0015424164524421595, 0.0, 0.0010282776349614395, 0.0035989717223650387, 0.0, 0.003084832904884319, 0.009254498714652956, 0.0, 0.003084832904884319, 0.0, 0.004627249357326478, 0.005141388174807198, 0.0, 0.005141388174807198, 0.005141388174807198, 0.0, 0.006169665809768638, 0.005141388174807198, 0.0, 0.004113110539845758, 0.0, 0.004113110539845758, 0.0005141388174807198, 0.0, 0.0010282776349614395, 0.0010282776349614395, 0.0, 0.0010282776349614395, 0.0005141388174807198, 0.0, 0.0010282776349614395, 0.0005141388174807198, 0.0, 0.0005141388174807198, 0.0, 0.0005141388174807198, 0.0010282776349614395, 0.0, 0.0010282776349614395, 0.0010282776349614395, 0.0, 0.0005141388174807198, 0.002056555269922879, 0.0, 0.0015424164524421595, 0.0, 0.002570694087403599, 0.0005141388174807198, 0.0, 0.0005141388174807198, 0.0005141388174807198, 0.0, 0.0, 0.0015424164524421595, 0.0, 0.0, 0.0005141388174807198, 0.0, 0.0010282776349614395, 0.0, 0.0, 0.0005141388174807198, 0.0, 0.0, 0.0, 0.0, 0.0, 0.0, 0.0, 0.0, 0.0, 0.0, 0.0, 0.0, 0.0, 0.0, 0.0, 0.0, 0.0, 0.0, 0.0, 0.0, 0.0, 0.0, 0.0, 0.0005141388174807198, 0.0005141388174807198, 0.0, 0.0, 0.0, 0.0, 0.0, 0.0, 0.0, 0.0, 0.0, 0.0, 0.0, 0.0, 0.0, 0.0005141388174807198, 0.0, 0.0, 0.0, 0.0, 0.0, 0.0, 0.0, 0.0, 0.0, 0.0, 0.0, 0.0, 0.0005141388174807198, 0.0005141388174807198, 0.0, 0.0, 0.0, 0.0, 0.0, 0.0, 0.0, 0.0005141388174807198, 0.0, 0.0, 0.0, 0.0, 0.0, 0.0, 0.0, 0.0, 0.0, 0.0, 0.0, 0.0, 0.0005141388174807198, 0.0, 0.0, 0.0, 0.0, 0.0, 0.0, 0.0, 0.0, 0.0, 0.0, 0.0, 0.0, 0.0, 0.0, 0.0, 0.0, 0.0, 0.0005141388174807198, 0.0, 0.0, 0.0, 0.0, 0.0, 0.0, 0.0005141388174807198, 0.0, 0.0, 0.0005141388174807198, 0.0, 0.0, 0.0, 0.0005141388174807198, 0.0, 0.0, 0.0, 0.0, 0.0, 0.0, 0.0, 0.0, 0.0, 0.0, 0.0, 0.0, 0.0, 0.0, 0.0, 0.0, 0.0, 0.0, 0.0, 0.0, 0.0, 0.0, 0.0, 0.0, 0.0005141388174807198, 0.0, 0.0010282776349614395, 0.0, 0.0, 0.0005141388174807198, 0.0, 0.0010282776349614395, 0.0015424164524421595, 0.0, 0.004113110539845758, 0.004113110539845758, 0.0, 0.002056555269922879, 0.002056555269922879, 0.0, 0.0005141388174807198, 0.0, 0.0010282776349614395, 0.0010282776349614395, 0.0, 0.0005141388174807198, 0.0010282776349614395, 0.0, 0.002570694087403599, 0.0010282776349614395, 0.0, 0.002570694087403599, 0.0, 0.002056555269922879, 0.0005141388174807198, 0.0, 0.0010282776349614395, 0.0015424164524421595, 0.0, 0.0015424164524421595, 0.0035989717223650387, 0.0, 0.0035989717223650387, 0.004627249357326478, 0.0, 0.0010282776349614395, 0.0, 0.0005141388174807198, 0.0015424164524421595, 0.0, 0.0, 0.0005141388174807198, 0.0, 0.0010282776349614395, 0.0010282776349614395, 0.0, 0.0015424164524421595, 0.0, 0.0, 0.0005141388174807198, 0.0, 0.0005141388174807198, 0.0015424164524421595, 0.0, 0.0010282776349614395, 0.0005141388174807198, 0.0, 0.0, 0.0005141388174807198, 0.0, 0.0005141388174807198, 0.0, 0.0, 0.0005141388174807198, 0.0, 0.0, 0.0, 0.0, 0.0015424164524421595, 0.0005141388174807198, 0.0, 0.0005141388174807198, 0.0, 0.0, 0.0005141388174807198, 0.0, 0.0005141388174807198, 0.0005141388174807198, 0.0, 0.0005141388174807198, 0.0, 0.0, 0.0, 0.0005141388174807198, 0.0, 0.0010282776349614395, 0.0, 0.0, 0.0010282776349614395, 0.0, 0.0005141388174807198, 0.0010282776349614395, 0.0, 0.0, 0.0, 0.0, 0.0, 0.0, 0.0, 0.0010282776349614395, 0.0, 0.0, 0.0005141388174807198, 0.0, 0.0, 0.0005141388174807198, 0.0, 0.0005141388174807198, 0.0005141388174807198, 0.0, 0.0010282776349614395, 0.0, 0.0, 0.0, 0.0, 0.0010282776349614395, 0.0015424164524421595, 0.0, 0.0005141388174807198, 0.0, 0.0, 0.0, 0.0, 0.0, 0.0015424164524421595, 0.0, 0.0010282776349614395, 0.0010282776349614395, 0.0, 0.0015424164524421595, 0.0, 0.0, 0.0, 0.0005141388174807198, 0.0, 0.0005141388174807198, 0.0, 0.0, 0.0010282776349614395, 0.0, 0.0, 0.0010282776349614395, 0.0, 0.0005141388174807198, 0.0010282776349614395, 0.0, 0.0015424164524421595, 0.0, 0.0, 0.0, 0.0, 0.0015424164524421595, 0.002056555269922879, 0.0, 0.0010282776349614395, 0.0010282776349614395, 0.0, 0.002056555269922879, 0.0010282776349614395, 0.0, 0.0015424164524421595, 0.0, 0.0015424164524421595, 0.0, 0.0, 0.002056555269922879, 0.002570694087403599, 0.0, 0.0015424164524421595, 0.0015424164524421595, 0.0, 0.0015424164524421595, 0.0, 0.0015424164524421595, 0.0015424164524421595, 0.0, 0.0015424164524421595, 0.002056555269922879, 0.0, 0.003084832904884319, 0.002056555269922879, 0.0, 0.006169665809768638, 0.002570694087403599, 0.0, 0.002056555269922879, 0.0, 0.0015424164524421595, 0.0015424164524421595, 0.0, 0.0010282776349614395, 0.0010282776349614395, 0.0, 0.0015424164524421595, 0.002570694087403599, 0.0, 0.002570694087403599, 0.0, 0.003084832904884319, 0.004113110539845758, 0.0, 0.002570694087403599, 0.002570694087403599, 0.0, 0.005655526992287918, 0.004113110539845758, 0.0, 0.004627249357326478, 0.002056555269922879, 0.0, 0.002056555269922879, 0.0, 0.0035989717223650387, 0.0010282776349614395, 0.0, 0.003084832904884319, 0.002570694087403599, 0.0, 0.0015424164524421595, 0.0, 0.0, 0.0015424164524421595, 0.0, 0.0010282776349614395, 0.0, 0.0, 0.0005141388174807198, 0.0010282776349614395, 0.0, 0.0010282776349614395, 0.0005141388174807198, 0.0, 0.0005141388174807198, 0.0005141388174807198, 0.0, 0.0015424164524421595, 0.0, 0.0, 0.0015424164524421595, 0.0, 0.0, 0.0, 0.0, 0.0, 0.0005141388174807198, 0.0, 0.0005141388174807198, 0.0, 0.0, 0.0, 0.0, 0.0005141388174807198, 0.0005141388174807198, 0.0, 0.0005141388174807198, 0.0, 0.0, 0.0005141388174807198, 0.0010282776349614395, 0.0, 0.0, 0.0, 0.0, 0.0010282776349614395, 0.0, 0.0, 0.0, 0.0, 0.0005141388174807198, 0.0, 0.0, 0.0, 0.0, 0.0005141388174807198, 0.0, 0.0, 0.0, 0.0, 0.0, 0.0, 0.0, 0.0, 0.0, 0.0010282776349614395, 0.0, 0.0005141388174807198, 0.0, 0.0, 0.0, 0.0, 0.0, 0.0, 0.0, 0.0005141388174807198, 0.0005141388174807198, 0.0, 0.0, 0.0, 0.0005141388174807198, 0.0, 0.0, 0.0, 0.0, 0.0, 0.0010282776349614395, 0.0, 0.0, 0.0, 0.0, 0.0, 0.0, 0.0, 0.0, 0.0, 0.0, 0.0, 0.0005141388174807198, 0.0, 0.0005141388174807198, 0.0, 0.0, 0.0, 0.0, 0.0, 0.0, 0.0, 0.0, 0.0005141388174807198, 0.0, 0.0, 0.0, 0.0, 0.0010282776349614395, 0.0, 0.0, 0.0010282776349614395, 0.0, 0.0, 0.0005141388174807198, 0.0, 0.0, 0.0, 0.0, 0.0, 0.0, 0.0, 0.0, 0.0, 0.0, 0.0, 0.0, 0.0005141388174807198, 0.0005141388174807198, 0.0, 0.0, 0.0005141388174807198, 0.0, 0.0, 0.0, 0.0, 0.0005141388174807198, 0.0, 0.0, 0.0005141388174807198, 0.0, 0.0, 0.0005141388174807198, 0.0, 0.0005141388174807198, 0.0, 0.0, 0.0, 0.0, 0.0, 0.0, 0.0, 0.0005141388174807198, 0.0005141388174807198, 0.0, 0.002056555269922879, 0.0010282776349614395, 0.0, 0.0005141388174807198, 0.0, 0.0, 0.0010282776349614395, 0.0, 0.0, 0.0010282776349614395, 0.0, 0.0, 0.0, 0.0, 0.0010282776349614395, 0.0, 0.0, 0.0010282776349614395, 0.0, 0.0010282776349614395, 0.0005141388174807198, 0.0, 0.0, 0.0, 0.0, 0.0, 0.0010282776349614395, 0.0, 0.0015424164524421595, 0.002056555269922879, 0.0, 0.002570694087403599, 0.0, 0.002056555269922879, 0.002570694087403599, 0.0, 0.003084832904884319, 0.003084832904884319, 0.0, 0.0015424164524421595, 0.002056555269922879, 0.0, 0.0015424164524421595, 0.0, 0.0015424164524421595, 0.0010282776349614395, 0.0, 0.0010282776349614395, 0.003084832904884319, 0.0, 0.0005141388174807198, 0.0005141388174807198, 0.0, 0.0010282776349614395, 0.0010282776349614395, 0.0, 0.0015424164524421595, 0.0, 0.0010282776349614395, 0.0010282776349614395, 0.0, 0.0005141388174807198, 0.0015424164524421595, 0.0, 0.0015424164524421595, 0.0010282776349614395, 0.0, 0.002056555269922879, 0.0, 0.0005141388174807198, 0.0005141388174807198, 0.0, 0.0010282776349614395, 0.0015424164524421595, 0.0, 0.0, 0.0010282776349614395, 0.0, 0.0015424164524421595, 0.0005141388174807198, 0.0, 0.0, 0.0, 0.0015424164524421595, 0.0010282776349614395, 0.0, 0.0005141388174807198, 0.0005141388174807198, 0.0, 0.002056555269922879, 0.002570694087403599, 0.0, 0.0010282776349614395, 0.0, 0.0005141388174807198, 0.002570694087403599, 0.0, 0.0015424164524421595, 0.0010282776349614395, 0.0, 0.0015424164524421595, 0.0005141388174807198, 0.0, 0.002056555269922879, 0.002570694087403599, 0.0, 0.0015424164524421595, 0.0, 0.0015424164524421595, 0.002056555269922879, 0.0, 0.0035989717223650387, 0.003084832904884319, 0.0, 0.005141388174807198, 0.0035989717223650387, 0.0, 0.004113110539845758, 0.0, 0.004627249357326478, 0.002056555269922879, 0.0, 0.003084832904884319, 0.002570694087403599, 0.0, 0.0035989717223650387, 0.005141388174807198, 0.0, 0.002570694087403599, 0.006169665809768638, 0.0, 0.008740359897172237, 0.0, 0.005655526992287918, 0.006169665809768638, 0.0, 0.006683804627249357, 0.003084832904884319, 0.0, 0.002570694087403599, 0.0035989717223650387, 0.0, 0.002570694087403599, 0.0, 0.005141388174807198, 0.005141388174807198, 0.0, 0.0015424164524421595, 0.002570694087403599, 0.0, 0.003084832904884319, 0.005141388174807198, 0.0, 0.002056555269922879, 0.002056555269922879, 0.0, 0.0010282776349614395, 0.0, 0.0035989717223650387, 0.004627249357326478, 0.0, 0.0010282776349614395, 0.0010282776349614395, 0.0, 0.0005141388174807198, 0.0010282776349614395, 0.0, 0.0010282776349614395, 0.0, 0.0, 0.0005141388174807198, 0.0, 0.0005141388174807198, 0.0010282776349614395, 0.0, 0.0, 0.0, 0.0, 0.0010282776349614395, 0.0, 0.0, 0.0, 0.0, 0.0, 0.0, 0.0, 0.0, 0.0005141388174807198, 0.0, 0.0, 0.0, 0.0, 0.0, 0.0, 0.0, 0.0, 0.0, 0.0, 0.0, 0.0, 0.0, 0.0005141388174807198, 0.0, 0.0005141388174807198, 0.0005141388174807198, 0.0, 0.0, 0.0, 0.0005141388174807198, 0.0005141388174807198, 0.0, 0.0, 0.0005141388174807198, 0.0, 0.0005141388174807198, 0.0, 0.0, 0.0, 0.0, 0.0, 0.0, 0.0, 0.0, 0.0, 0.0, 0.0, 0.0, 0.0, 0.0, 0.0005141388174807198, 0.0, 0.0, 0.0, 0.0005141388174807198, 0.0, 0.0, 0.0, 0.0, 0.0, 0.0, 0.0, 0.0, 0.0005141388174807198, 0.0, 0.0, 0.0, 0.0, 0.0005141388174807198, 0.0, 0.0, 0.0, 0.0, 0.0, 0.0, 0.0, 0.0, 0.0, 0.0, 0.0, 0.0, 0.0, 0.0, 0.0, 0.0, 0.0005141388174807198, 0.0005141388174807198, 0.0, 0.0, 0.0, 0.0, 0.0, 0.0, 0.0, 0.0005141388174807198, 0.0, 0.0, 0.0, 0.0, 0.0005141388174807198, 0.0, 0.0, 0.0, 0.0, 0.0, 0.0005141388174807198, 0.0, 0.0010282776349614395, 0.0, 0.0, 0.0, 0.0005141388174807198, 0.0, 0.0005141388174807198, 0.0, 0.0005141388174807198, 0.0015424164524421595, 0.0, 0.0, 0.0015424164524421595, 0.0, 0.0, 0.0010282776349614395, 0.0, 0.0005141388174807198, 0.002056555269922879, 0.0, 0.0015424164524421595, 0.0, 0.0005141388174807198, 0.0010282776349614395, 0.0, 0.0010282776349614395, 0.003084832904884319, 0.0, 0.003084832904884319, 0.0010282776349614395, 0.0, 0.0, 0.0, 0.002570694087403599, 0.0005141388174807198, 0.0, 0.0, 0.0010282776349614395, 0.0, 0.0005141388174807198, 0.0015424164524421595, 0.0, 0.0010282776349614395, 0.002570694087403599, 0.0, 0.002570694087403599, 0.0, 0.0, 0.0010282776349614395, 0.0, 0.0010282776349614395, 0.0, 0.0, 0.0005141388174807198, 0.0005141388174807198, 0.0, 0.0010282776349614395, 0.0, 0.0005141388174807198, 0.0010282776349614395, 0.0, 0.0010282776349614395, 0.0005141388174807198, 0.0, 0.0005141388174807198, 0.0005141388174807198, 0.0, 0.0010282776349614395, 0.0010282776349614395, 0.0, 0.0010282776349614395, 0.0, 0.0005141388174807198, 0.0005141388174807198, 0.0, 0.002056555269922879, 0.002056555269922879, 0.0, 0.0010282776349614395, 0.0010282776349614395, 0.0, 0.0005141388174807198, 0.0, 0.0, 0.0, 0.0, 0.0005141388174807198, 0.0, 0.0, 0.0010282776349614395, 0.0, 0.0, 0.0005141388174807198, 0.0, 0.0, 0.0005141388174807198, 0.0, 0.0005141388174807198, 0.0015424164524421595, 0.0, 0.0, 0.0005141388174807198, 0.0, 0.0, 0.0010282776349614395, 0.0, 0.0, 0.0, 0.0, 0.0, 0.0, 0.0010282776349614395, 0.0005141388174807198, 0.0, 0.0005141388174807198, 0.0, 0.0, 0.0, 0.0, 0.0, 0.0, 0.0, 0.0, 0.0010282776349614395, 0.0, 0.0, 0.0005141388174807198, 0.0, 0.0005141388174807198, 0.0, 0.0, 0.0005141388174807198, 0.0, 0.0005141388174807198, 0.0, 0.0, 0.0010282776349614395, 0.0, 0.0, 0.0, 0.0005141388174807198, 0.0, 0.0, 0.0, 0.0, 0.0015424164524421595, 0.0, 0.0, 0.0005141388174807198, 0.0, 0.0010282776349614395, 0.0, 0.0, 0.0, 0.0010282776349614395, 0.0, 0.0, 0.0, 0.0, 0.0, 0.0, 0.0, 0.0005141388174807198, 0.0, 0.0010282776349614395, 0.0, 0.0, 0.0, 0.0005141388174807198, 0.0, 0.0, 0.0, 0.0, 0.0, 0.0, 0.0005141388174807198, 0.0, 0.0, 0.0, 0.0005141388174807198, 0.0, 0.0, 0.0, 0.0015424164524421595, 0.0005141388174807198, 0.0, 0.0010282776349614395, 0.0, 0.0, 0.0005141388174807198, 0.0005141388174807198, 0.0, 0.0, 0.0, 0.0, 0.0, 0.0, 0.0, 0.0, 0.0, 0.0, 0.0, 0.0, 0.0005141388174807198, 0.0005141388174807198, 0.0, 0.0, 0.0, 0.0005141388174807198, 0.0, 0.0, 0.0005141388174807198, 0.0, 0.0, 0.0, 0.0005141388174807198, 0.0, 0.0005141388174807198, 0.0005141388174807198, 0.0, 0.0, 0.0, 0.0010282776349614395, 0.0010282776349614395, 0.0, 0.0010282776349614395, 0.002056555269922879, 0.0, 0.0005141388174807198, 0.0005141388174807198, 0.0, 0.0005141388174807198, 0.0, 0.0005141388174807198, 0.0, 0.0, 0.0010282776349614395, 0.0, 0.0, 0.0005141388174807198, 0.0005141388174807198, 0.0, 0.0010282776349614395, 0.0, 0.0, 0.0010282776349614395, 0.0, 0.0, 0.0, 0.0, 0.0, 0.0, 0.0, 0.0005141388174807198, 0.0015424164524421595, 0.0, 0.0010282776349614395, 0.0, 0.0015424164524421595, 0.0010282776349614395, 0.0, 0.0005141388174807198, 0.002056555269922879, 0.0, 0.0015424164524421595, 0.0005141388174807198, 0.0, 0.0, 0.0005141388174807198, 0.0, 0.0005141388174807198, 0.0, 0.0005141388174807198, 0.0010282776349614395, 0.0, 0.0010282776349614395, 0.0010282776349614395, 0.0, 0.0005141388174807198, 0.0010282776349614395, 0.0, 0.0010282776349614395, 0.0, 0.0010282776349614395, 0.0005141388174807198, 0.0, 0.0010282776349614395, 0.0, 0.0, 0.0, 0.002056555269922879, 0.0, 0.0010282776349614395, 0.0, 0.0, 0.0010282776349614395, 0.0, 0.0010282776349614395, 0.0010282776349614395, 0.0, 0.0005141388174807198, 0.0005141388174807198, 0.0, 0.0005141388174807198, 0.0010282776349614395, 0.0, 0.0005141388174807198, 0.0, 0.003084832904884319, 0.0, 0.0, 0.003084832904884319, 0.0005141388174807198, 0.0, 0.002056555269922879, 0.0010282776349614395, 0.0, 0.002056555269922879, 0.002056555269922879, 0.0, 0.0015424164524421595, 0.0, 0.0010282776349614395, 0.0015424164524421595, 0.0, 0.0015424164524421595, 0.002056555269922879, 0.0, 0.005655526992287918, 0.004627249357326478, 0.0, 0.006169665809768638, 0.0, 0.006169665809768638, 0.006683804627249357, 0.0, 0.004113110539845758, 0.005655526992287918, 0.0, 0.002570694087403599, 0.0035989717223650387, 0.0, 0.004627249357326478, 0.004627249357326478, 0.0, 0.0071979434447300775, 0.0, 0.005141388174807198, 0.005655526992287918, 0.0, 0.006169665809768638, 0.0071979434447300775, 0.0, 0.0035989717223650387, 0.003084832904884319, 0.0, 0.005141388174807198, 0.0, 0.005655526992287918, 0.003084832904884319, 0.0, 0.0035989717223650387, 0.004113110539845758, 0.0, 0.002056555269922879, 0.003084832904884319, 0.0, 0.0015424164524421595, 0.0005141388174807198, 0.0, 0.0015424164524421595, 0.0, 0.0010282776349614395, 0.0005141388174807198, 0.0, 0.0015424164524421595, 0.0010282776349614395, 0.0, 0.0, 0.0005141388174807198, 0.0, 0.0010282776349614395, 0.0, 0.0010282776349614395, 0.0010282776349614395, 0.0, 0.0, 0.0, 0.0, 0.0, 0.0005141388174807198, 0.0, 0.0, 0.0, 0.0, 0.0, 0.0, 0.0, 0.0, 0.0, 0.0, 0.0, 0.0, 0.0, 0.0, 0.0, 0.0, 0.0, 0.0, 0.0, 0.0, 0.0005141388174807198, 0.0005141388174807198, 0.0, 0.0, 0.0005141388174807198, 0.0, 0.0, 0.0, 0.0, 0.0, 0.0, 0.0, 0.0005141388174807198, 0.0, 0.0, 0.0, 0.0, 0.0, 0.0, 0.0, 0.0, 0.0, 0.0, 0.0, 0.0, 0.0, 0.0, 0.0, 0.0, 0.0, 0.0, 0.0, 0.0, 0.0, 0.0005141388174807198, 0.0, 0.0005141388174807198, 0.0, 0.0, 0.0, 0.0, 0.0, 0.0, 0.0, 0.0, 0.0, 0.0, 0.0, 0.0, 0.0, 0.0005141388174807198, 0.0005141388174807198, 0.0, 0.0005141388174807198, 0.0, 0.0, 0.0, 0.0005141388174807198, 0.0, 0.0, 0.0, 0.0005141388174807198, 0.0, 0.0, 0.0, 0.0, 0.0, 0.0, 0.0010282776349614395, 0.0, 0.0, 0.0, 0.0005141388174807198, 0.0, 0.0, 0.0, 0.0010282776349614395, 0.0, 0.0, 0.0, 0.0, 0.0005141388174807198, 0.0, 0.0, 0.0, 0.0, 0.0005141388174807198, 0.0, 0.0, 0.0005141388174807198, 0.0005141388174807198, 0.0, 0.0010282776349614395, 0.0010282776349614395, 0.0, 0.0010282776349614395, 0.0, 0.0010282776349614395, 0.0005141388174807198, 0.0, 0.0015424164524421595, 0.0010282776349614395, 0.0, 0.0010282776349614395, 0.0, 0.0, 0.0010282776349614395, 0.0005141388174807198, 0.0, 0.002056555269922879, 0.0, 0.0005141388174807198, 0.0005141388174807198, 0.0, 0.0010282776349614395, 0.0005141388174807198, 0.0, 0.0005141388174807198, 0.0010282776349614395, 0.0, 0.0, 0.0, 0.0010282776349614395, 0.0005141388174807198, 0.0, 0.0005141388174807198, 0.0, 0.0, 0.0, 0.0, 0.0, 0.0015424164524421595, 0.0, 0.0, 0.0005141388174807198, 0.0, 0.0010282776349614395, 0.0015424164524421595, 0.0, 0.0010282776349614395, 0.0005141388174807198, 0.0, 0.0015424164524421595, 0.0005141388174807198, 0.0, 0.0, 0.0, 0.0015424164524421595, 0.0005141388174807198, 0.0, 0.0, 0.0, 0.0, 0.0, 0.0, 0.0, 0.0005141388174807198, 0.0010282776349614395, 0.0, 0.0, 0.0, 0.0, 0.0, 0.0, 0.0, 0.0005141388174807198, 0.0, 0.0015424164524421595, 0.0010282776349614395, 0.0, 0.0015424164524421595, 0.0, 0.0, 0.0010282776349614395, 0.0, 0.0, 0.0015424164524421595, 0.0, 0.0005141388174807198, 0.0015424164524421595, 0.0, 0.0010282776349614395, 0.0005141388174807198, 0.0, 0.0, 0.0, 0.0010282776349614395, 0.0005141388174807198, 0.0, 0.0010282776349614395, 0.0, 0.0, 0.0, 0.0005141388174807198, 0.0, 0.0, 0.0, 0.0010282776349614395, 0.0005141388174807198, 0.0, 0.0, 0.0, 0.0, 0.0005141388174807198, 0.0010282776349614395, 0.0, 0.0005141388174807198, 0.0010282776349614395, 0.0, 0.0005141388174807198, 0.0, 0.002056555269922879, 0.0005141388174807198, 0.0, 0.0, 0.0, 0.0, 0.0, 0.0, 0.0, 0.0005141388174807198, 0.0, 0.0, 0.0, 0.0, 0.0, 0.0, 0.0, 0.0, 0.0, 0.0, 0.0, 0.0, 0.0, 0.0, 0.0, 0.0, 0.0005141388174807198, 0.0, 0.0, 0.0005141388174807198, 0.0, 0.0, 0.0, 0.0, 0.0, 0.0, 0.0005141388174807198, 0.0, 0.0, 0.0010282776349614395, 0.0, 0.0, 0.0, 0.0, 0.0, 0.0, 0.0, 0.0, 0.0, 0.0, 0.0005141388174807198, 0.0, 0.0, 0.0, 0.0, 0.0, 0.0, 0.0, 0.0, 0.0005141388174807198, 0.0, 0.0, 0.0, 0.0, 0.0, 0.0, 0.0, 0.0005141388174807198, 0.0, 0.0, 0.0, 0.0, 0.0, 0.0005141388174807198, 0.0, 0.0, 0.0010282776349614395, 0.0, 0.0, 0.0, 0.0, 0.0, 0.0, 0.0, 0.0, 0.0, 0.0, 0.0, 0.0, 0.0, 0.0, 0.0, 0.0, 0.0005141388174807198, 0.0, 0.0, 0.0, 0.0, 0.0, 0.0, 0.0, 0.0, 0.0, 0.0005141388174807198, 0.0, 0.0, 0.0, 0.0005141388174807198, 0.0, 0.0, 0.0, 0.0, 0.0, 0.0, 0.0, 0.0010282776349614395, 0.0, 0.002570694087403599, 0.0, 0.0, 0.0, 0.0, 0.0, 0.0, 0.0, 0.0, 0.0, 0.0, 0.0, 0.0, 0.0, 0.0, 0.0, 0.0, 0.0, 0.0, 0.0, 0.0, 0.0, 0.0, 0.0, 0.0, 0.0, 0.0, 0.0, 0.0, 0.0, 0.0, 0.0, 0.0, 0.0, 0.0, 0.0, 0.0, 0.0, 0.0, 0.0, 0.0, 0.0, 0.0, 0.0, 0.0, 0.0, 0.0, 0.0, 0.0, 0.0, 0.0, 0.0, 0.0, 0.0, 0.0, 0.0, 0.0, 0.0, 0.0, 0.0, 0.0, 0.0, 0.0, 0.0, 0.0, 0.0, 0.0, 0.0, 0.0, 0.0, 0.0, 0.0, 0.0, 0.0, 0.0, 0.0, 0.0, 0.0, 0.0, 0.0, 0.0, 0.0, 0.0, 0.0, 0.0, 0.0, 0.0, 0.0, 0.0, 0.0, 0.0, 0.0, 0.0, 0.0, 0.0, 0.0, 0.0, 0.0, 0.0, 0.0, 0.0, 0.0, 0.0, 0.0, 0.0, 0.0, 0.0, 0.0, 0.0, 0.0, 0.0, 0.0, 0.0, 0.0, 0.0, 0.0, 0.0, 0.0, 0.0, 0.0, 0.0, 0.0, 0.0, 0.0, 0.0, 0.0, 0.0, 0.0, 0.0, 0.0, 0.0, 0.0, 0.0, 0.0, 0.0, 0.0, 0.0, 0.0, 0.0, 0.0, 0.0, 0.0, 0.0, 0.0, 0.0, 0.0, 0.0, 0.0, 0.0, 0.0, 0.0, 0.0, 0.0, 0.0, 0.0, 0.0, 0.0, 0.0, 0.0, 0.0, 0.0, 0.0, 0.0, 0.0, 0.0, 0.0, 0.0, 0.0, 0.0, 0.0, 0.0, 0.0, 0.0, 0.0, 0.0, 0.0, 0.0, 0.0, 0.0, 0.0, 0.0, 0.0, 0.0, 0.0, 0.0, 0.0, 0.0, 0.0, 0.0, 0.0, 0.0, 0.0, 0.0, 0.0, 0.0, 0.0, 0.0, 0.0, 0.0, 0.0, 0.0, 0.0, 0.0, 0.0, 0.0, 0.0, 0.0, 0.0, 0.0, 0.0, 0.0, 0.0, 0.0, 0.0, 0.0, 0.0, 0.0, 0.0, 0.0, 0.0, 0.0, 0.0, 0.0, 0.0, 0.0, 0.0, 0.0, 0.0, 0.0, 0.0, 0.0, 0.0, 0.0, 0.0, 0.0, 0.0, 0.0, 0.0, 0.0, 0.0, 0.0, 0.0, 0.0, 0.0, 0.0, 0.0, 0.0, 0.0, 0.0, 0.0, 0.0, 0.0, 0.0, 0.0, 0.0, 0.0, 0.0, 0.0, 0.0, 0.0, 0.0, 0.0, 0.0, 0.0, 0.0, 0.0, 0.0, 0.0, 0.0, 0.0, 0.0, 0.0, 0.0, 0.0, 0.0, 0.0, 0.0, 0.0, 0.0, 0.0, 0.0, 0.0, 0.0, 0.0, 0.0, 0.0, 0.0, 0.0, 0.0, 0.0, 0.0, 0.0, 0.0, 0.0, 0.0, 0.0, 0.0, 0.0, 0.0, 0.0, 0.0, 0.0, 0.0, 0.0, 0.0, 0.0, 0.0, 0.0, 0.0, 0.0, 0.0, 0.0, 0.0, 0.0, 0.0, 0.0, 0.0, 0.0, 0.0, 0.0, 0.0, 0.0, 0.0, 0.0, 0.0, 0.0, 0.0, 0.0, 0.0, 0.0, 0.0, 0.0, 0.0, 0.0, 0.0, 0.0, 0.0, 0.0, 0.0, 0.0, 0.0, 0.0, 0.0, 0.0, 0.0, 0.0, 0.0, 0.0, 0.0, 0.0, 0.0, 0.0, 0.0, 0.0, 0.0, 0.0, 0.0, 0.0, 0.0, 0.0, 0.0, 0.0, 0.0, 0.0, 0.0, 0.0, 0.0, 0.0, 0.0, 0.0, 0.0, 0.0, 0.0, 0.0, 0.0, 0.0, 0.0, 0.0, 0.0, 0.0, 0.0, 0.0, 0.0, 0.0, 0.0, 0.0, 0.0, 0.0, 0.0, 0.0, 0.0, 0.0, 0.0, 0.0, 0.0, 0.0, 0.0, 0.0, 0.0, 0.0, 0.0, 0.0, 0.0, 0.0, 0.0, 0.0, 0.0, 0.0, 0.0, 0.0, 0.0, 0.0, 0.0, 0.0, 0.0, 0.0, 0.0, 0.0, 0.0, 0.0, 0.0, 0.0, 0.0, 0.0, 0.0, 0.0, 0.0, 0.0, 0.0, 0.0, 0.0, 0.0, 0.0, 0.0, 0.0, 0.0, 0.0, 0.0, 0.0, 0.0, 0.0, 0.0, 0.0, 0.0, 0.0, 0.0, 0.0, 0.0, 0.0, 0.0, 0.0, 0.0, 0.0, 0.0, 0.0, 0.0, 0.0, 0.0, 0.0, 0.0, 0.0, 0.0, 0.0, 0.0, 0.0, 0.0, 0.0, 0.0, 0.0, 0.0, 0.0, 0.0, 0.0, 0.0, 0.0, 0.0, 0.0, 0.0, 0.0, 0.0, 0.0, 0.0, 0.0, 0.0, 0.0, 0.0, 0.0, 0.0, 0.0, 0.0, 0.0, 0.0, 0.0, 0.0, 0.0, 0.0, 0.0, 0.0, 0.0, 0.0, 0.0, 0.0, 0.0, 0.0, 0.0, 0.0, 0.0, 0.0, 0.0, 0.0, 0.0, 0.0, 0.0, 0.0, 0.0, 0.0, 0.0, 0.0, 0.0, 0.0, 0.0, 0.0, 0.0, 0.0, 0.0, 0.0, 0.0, 0.0, 0.0, 0.0, 0.0, 0.0, 0.0, 0.0, 0.0, 0.0, 0.0, 0.0, 0.0, 0.0, 0.0, 0.0, 0.0, 0.0, 0.0, 0.0, 0.0, 0.0, 0.0, 0.0, 0.0, 0.0, 0.0, 0.0, 0.0, 0.0, 0.0, 0.0, 0.0, 0.0, 0.0, 0.0, 0.0, 0.0, 0.0, 0.0, 0.0, 0.0, 0.0, 0.0, 0.0, 0.0, 0.0, 0.0, 0.0, 0.0, 0.0, 0.0, 0.0, 0.0, 0.0, 0.0, 0.0, 0.0, 0.0, 0.0, 0.0, 0.0, 0.0, 0.0, 0.0, 0.0, 0.0, 0.0, 0.0, 0.0, 0.0, 0.0, 0.0, 0.0, 0.0, 0.0, 0.0, 0.0, 0.0, 0.0, 0.0, 0.0, 0.0, 0.0, 0.0, 0.0, 0.0, 0.0, 0.0, 0.0, 0.0, 0.0, 0.0, 0.0, 0.0, 0.0, 0.0, 0.0, 0.0, 0.0, 0.0, 0.0, 0.0, 0.0, 0.0, 0.0, 0.0, 0.0, 0.0, 0.0, 0.0, 0.0, 0.0, 0.0, 0.0, 0.0, 0.0, 0.0, 0.0, 0.0, 0.0, 0.0, 0.0, 0.0, 0.0, 0.0, 0.0, 0.0, 0.0, 0.0, 0.0, 0.0, 0.0, 0.0, 0.0, 0.0, 0.0, 0.0, 0.0, 0.0, 0.0, 0.0, 0.0, 0.0, 0.0, 0.0, 0.0, 0.0, 0.0, 0.0, 0.0, 0.0], 'gamaka_data': [[nan, 13.998205367557855, 14.404455367557865, 14.045080367557857, 13.904455367557855, 13.920080367557862, 13.810705367557834, 15.326330367557883, 14.21695536755785, 13.920080367557862, 14.20133036755784, 13.920080367557862, 13.716955367557835, nan, 13.435705367557834, 13.63883036755782, 13.779455367557837, 13.857580367557834, 14.01383036755784, 13.920080367557862, 13.826330367557842, 14.513830367557855, 14.170080367557848, 14.248205367557864, 14.388830367557862, 14.498205367557869, 14.638830367557848, 14.857580367557883, 14.560705367557855, nan, 14.513830367557855, 14.87320536755789, 14.935705367557878, 14.935705367557878, 16.107580367557897, 15.60758036755788, 15.232580367557883, 16.091955367557915, 15.70133036755788, 16.107580367557897, 16.091955367557915, 15.87320536755792, 16.107580367557897, 16.107580367557897, 16.0138303675579, nan, 15.96695536755792, 16.107580367557897, nan, nan, nan, nan, 15.326330367557883, nan, nan, 15.70133036755788, nan, 15.670080367557892, 15.43570536755789, nan, 15.201330367557869, 15.29508036755789, nan, 14.935705367557878, 15.529455367557892, 14.701330367557855, 15.029455367557878, 14.935705367557878, 14.904455367557883, 14.951330367557885, 14.92008036755789, 14.716955367557862, 14.87320536755789, 13.888830367557848, 14.529455367557862, 14.295080367557862, 14.13883036755783, 14.498205367557869, 14.529455367557862, 13.513830367557826, nan, 13.513830367557826, 13.826330367557842, 13.841955367557848, 13.35758036755782, 13.170080367557816, nan, nan, nan, nan, nan, nan, nan, nan, nan, nan, nan, nan, nan, nan, nan, nan, nan, nan, nan, nan, nan, nan, nan, nan, nan, 1.2325803675574847, 0.935705367557478, 0.6232053675574617, 0.3888303675574637, 0.26383036755746186, 0.1544553675574552, 0.1388303675574574, 0.1544553675574552, 0.17008036755745015], [0.12320536755744768, 0.060705367557450735, -0.017419632442550553, -0.03304463244255798, -0.017419632442550553, 0.02945536755745038, 0.07633036755744686, 0.12320536755744768, 0.1544553675574552, 0.18570536755745484, 0.18570536755745484, 0.10758036755745409, -0.0017946324425549222, -0.12679463244255695, -0.42366963244256495, -0.6267946324425715, -0.9549196324425842, -1.4080446324425966, -1.2986696324425882, -1.2517946324425895, -0.876794632442579, -0.6267946324425715, -0.5486696324425692, -0.5174196324425652, -0.5330446324425723, -0.6267946324425715, -0.7517946324425769, -0.6580446324425747, -0.5955446324425673, -0.48616963244256295, -0.3142946324425577, -0.18929463244255312, -0.07991963244255872], [0.4513303675574608, 0.5138303675574676, 0.545080367557462, 0.5607053675574665, 0.5919553675574605, 0.6232053675574617, 0.670080367557465, 0.7013303675574649, 0.670080367557465, 0.6544553675574664, 0.5763303675574637, 0.4982053675574606, 0.4825803675574633, 0.529455367557464, 0.6232053675574617, 0.9513303675574725, 1.3107053675574885, 1.7169553675574925, 2.107580367557511, 2.57633036755752, 3.310705367557546, 3.857580367557558, 4.357580367557574, 4.576330367557576, 4.654455367557581, 4.654455367557581, 4.638830367557584, 4.529455367557578, 4.341955367557565, 4.04508036755756, 3.795080367557551, 3.60758036755755, 3.48258036755755, 3.357580367557545, 3.232580367557542, 3.123205367557534, 3.0607053675575377, 2.982580367557534, 2.904455367557531, 2.85758036755753, 2.810705367557533, 2.7638303675575298], [2.4513303675575164, 2.4357053675575187, 2.420080367557512, 2.3419553675575093, 2.248205367557508, 2.248205367557508, 2.2950803675575084, 2.38883036755752, 2.5919553675575178, 2.7482053675575253, 2.9513303675575306, 3.170080367557535, 3.32633036755754, 3.5138303675575537, 3.5763303675575497, 3.5763303675575497, 3.5138303675575537, 3.4044553675575457, 3.232580367557542, 3.0607053675575377, 2.8263303675575266, 2.6700803675575213, 2.5138303675575244, 2.4044553675575155, 2.38883036755752], [2.013830367557511, 2.107580367557511, 2.1232053675575058, 2.154455367557509, 2.1857053675575124, 1.6857053675575004, 1.2169553675574765, 1.4357053675574936, 1.6232053675574916, 2.029455367557507, 2.2325803675575138, 2.38883036755752, 3.5294553675575484, 3.6700803675575493, 4.04508036755756, 4.107580367557566, 4.107580367557566], [4.0763303675575635, 4.09195536755756, 4.154455367557566, 4.232580367557569, 4.27945536755757, 4.326330367557571, 4.388830367557579, 4.420080367557569, 4.420080367557569, 4.404455367557573, 4.357580367557574, 4.295080367557565, 4.170080367557563, 4.04508036755756, 3.951330367557558, 3.8888303675575613, 3.8419553675575537, 3.779455367557554, 3.732580367557554, 3.732580367557554, 3.732580367557554, 3.6700803675575493, 3.6388303675575573, 3.6388303675575573, 3.6232053675575493, 3.6388303675575573, 3.7169553675575484, 3.7638303675575604, 3.8732053675575564, 3.998205367557561, 4.154455367557566, 4.27945536755757, 4.451330367557572, 4.904455367557596, 5.42008036755762, 6.154455367557612, 6.498205367557641, 6.951330367557654, 7.357580367557648, 7.341955367557662, 7.185705367557634, 7.045080367557655, 6.857580367557633, 6.748205367557648, 6.576330367557634, 6.420080367557648, 6.248205367557636, 6.060705367557612, 5.857580367557626, 5.701330367557597, 5.591955367557613, 5.3888303675576035, 5.232580367557576, 5.107580367557583, 4.998205367557597, 4.920080367557585, 4.748205367557581, 4.591955367557573, 4.451330367557572, 4.295080367557565, 4.185705367557571, 4.060705367557567, 3.951330367557558, 3.8732053675575564, 3.779455367557554, 3.7482053675575533, 3.7169553675575484, 3.7169553675575484, 3.7482053675575533, 3.8419553675575537, 4.123205367557562, 4.3732053675575715, 4.70133036755758, 5.045080367557599, 5.42008036755762, 5.8888303675576195, 6.2169553675576195, 6.6388303675576195, 6.951330367557654, 7.216955367557649, 7.326330367557655], [7.310705367557649, 7.295080367557662, 7.295080367557662, 7.326330367557655, 7.326330367557655, 7.357580367557648, 7.404455367557668, 7.435705367557662, 7.435705367557662, 7.435705367557662, 7.373205367557675, 7.310705367557649, 7.216955367557649, 7.107580367557642, 6.935705367557649, 6.779455367557638, 6.591955367557641, 6.404455367557641, 6.248205367557636, 6.185705367557604, 6.1700803675576195, 6.1700803675576195, 6.201330367557612, 6.279455367557626, 6.404455367557641, 6.529455367557634, 6.6857053675576195, 6.810705367557634, 6.888830367557648, 6.966955367557661, 7.045080367557655, 7.138830367557634, 7.185705367557634, 7.185705367557634, 7.1700803675576505, 7.1700803675576505, 7.1700803675576505, 7.1700803675576505, 7.185705367557634, 7.1700803675576505, 7.107580367557642, 7.091955367557655, 6.998205367557658, 6.951330367557654, 6.904455367557655, 6.841955367557645, 6.763830367557634, 6.6388303675576195, 6.498205367557641, 6.420080367557648, 6.326330367557629, 6.2638303675576195, 6.2638303675576195, 6.341955367557634, 6.529455367557634, 6.779455367557638, 7.029455367557647, 7.248205367557663, 7.310705367557649, 7.295080367557662, 7.185705367557634, 6.935705367557649, 6.529455367557634, 5.826330367557613, 5.623205367557606, 6.1700803675576195, nan, nan, 6.748205367557648, 6.716955367557635, nan, 6.623205367557635, nan, nan, nan, nan, nan, nan, 6.982580367557648, 7.013830367557643, 6.998205367557658], [7.310705367557649, 7.295080367557662, 7.295080367557662, 7.279455367557658, 7.279455367557658, 7.279455367557658, 7.263830367557649, 7.232580367557655, 7.201330367557641, 7.185705367557634, 7.154455367557642, 7.138830367557634, 7.107580367557642, 7.045080367557655, 6.904455367557655, 6.7950803675576505, 6.763830367557634, 6.388830367557634, 5.732580367557613, 4.451330367557572, 4.248205367557569, 3.9357053675575653, 3.32633036755754, 3.2482053675575364, 3.232580367557542, 3.310705367557546, 6.2169553675576195, nan, 7.154455367557642, 7.1232053675576505, 7.107580367557642, 7.154455367557642, 7.1700803675576505], [7.404455367557668, 7.451330367557669, 7.466955367557676, 7.498205367557669, 7.529455367557662, 7.560705367557655, 7.5919553675576665, 7.5919553675576665, 7.576330367557662, 7.529455367557662, 7.451330367557669, 7.373205367557675, 7.279455367557658, 7.154455367557642, 7.060705367557638, 6.998205367557658, 6.951330367557654, 6.920080367557662, 6.888830367557648, 6.920080367557662, 7.060705367557638, 7.279455367557658, 7.638830367557648, 7.935705367557676, 8.279455367557684, 8.96695536755772, 9.826330367557725, 10.545080367557755, 11.029455367557762, 11.451330367557782, 11.79508036755779, 12.07633036755779, 12.201330367557784], [11.920080367557805, 11.998205367557798, 12.029455367557793, 12.0450803675578, 12.029455367557793, 12.013830367557784, 11.998205367557798, 11.951330367557798, 11.88883036755779, 11.79508036755779, 11.670080367557777, 11.529455367557777, 11.341955367557777, 11.138830367557746, 10.873205367557777, 10.404455367557755, 10.076330367557736, 9.732580367557706, 9.466955367557734, 9.216955367557706, 9.045080367557714, 8.998205367557713, 9.013830367557697, 9.138830367557693, 9.404455367557725, 9.57633036755772, 9.76383036755772, 10.216955367557734, 11.076330367557762, 11.341955367557777, 11.529455367557777, 11.79508036755779, 12.3263303675578, 12.42008036755782, 12.466955367557821, 12.466955367557821, 12.37320536755782, 12.295080367557802, 12.185705367557773, 12.107580367557784, 12.013830367557784, 11.88883036755779, 11.763830367557778, 11.623205367557777, 11.451330367557782, 11.248205367557777, 10.982580367557762, 10.748205367557762, 10.545080367557755, 10.341955367557748, 10.170080367557732, 10.045080367557741, 9.982580367557734, 9.826330367557725, 9.638830367557704, 9.466955367557734, 9.34195536755772, 9.248205367557722, 9.170080367557707, 9.154455367557699, 9.154455367557699, 9.154455367557699, 9.154455367557699, 9.154455367557699, 9.170080367557707, 9.326330367557713, 9.513830367557713, 9.701330367557713, 9.841955367557734, 10.170080367557732, 10.56070536755774, 10.90445536755777, 11.076330367557762, 11.373205367557789, 11.545080367557784, 11.685705367557762, 11.88883036755779, 12.029455367557793, 12.060705367557784, 12.12320536755779, 12.232580367557777], [12.295080367557802, 12.279455367557798, 12.232580367557794, 12.21695536755779, 12.21695536755779, 12.138830367557778, 12.138830367557778, 12.091955367557798, 12.091955367557798, 12.060705367557784, 12.029455367557793, 12.029455367557793, 12.029455367557793, 11.920080367557805, 11.638830367557762, 10.99820536755777, 10.57633036755775, nan, nan, nan, nan, nan, nan, nan, nan, nan, nan, nan, 11.341955367557777, 11.920080367557805, 12.12320536755779, 12.295080367557802, 12.37320536755782], [12.12320536755779, 12.07633036755779, 12.201330367557784, 12.232580367557794, 12.26383036755779, nan, nan, nan, 12.279455367557798, 12.07633036755779, 12.154455367557784, 12.248205367557807, nan, nan, nan, 12.26383036755779, nan, 12.42008036755782, 12.529455367557805, 12.623205367557802, 12.451330367557814, nan, nan, 12.26383036755779, nan, 12.466955367557821, 12.388830367557807, 12.435705367557802, nan, nan, nan, nan, nan, nan, 12.826330367557809, 12.84195536755782, 13.40445536755784, nan, nan, 13.545080367557842, 14.18570536755783, 14.295080367557862, 13.966955367557862, 13.34195536755783, 14.20133036755784, 14.310705367557848, nan, 14.795080367557876, 14.623205367557862, 14.21695536755785, 13.841955367557848, 13.748205367557844, 14.18570536755783, 14.685705367557848, 14.810705367557864, 14.795080367557876, 14.716955367557862, 14.607580367557857, 14.685705367557848, 14.763830367557864, 14.591955367557869, 14.482580367557864, 14.404455367557865, 14.623205367557862, 14.904455367557883, 14.623205367557862, 14.591955367557869, 14.888830367557873, 14.654455367557855, 14.638830367557848, 14.529455367557862, 14.295080367557862, 14.498205367557869, 14.263830367557848, 14.591955367557869, 14.560705367557855, 14.045080367557857, 13.763830367557834, 13.779455367557837, 13.59195536755784, 13.73258036755782, 13.888830367557848, 13.763830367557834, 14.060705367557842, 13.857580367557855, 13.68570536755782, 13.795080367557844, 13.748205367557844, 14.232580367557834, 14.20133036755784, 14.248205367557864, 14.13883036755783, 14.01383036755784, 13.826330367557842, nan, 13.185705367557805, nan, nan, nan, nan, nan, nan, nan, nan, nan, nan, nan, nan, 7.732580367557648, 7.998205367557681, 7.951330367557683, 7.8732053675576905, 7.888830367557676, 7.982580367557675, 8.15445536755767, 8.326330367557684, 8.4982053675577, 8.591955367557699, 8.638830367557674, 8.701330367557684, 8.779455367557699, 8.87320536755772, 8.982580367557706, 9.138830367557693, 9.29508036755772, 9.466955367557734, 9.701330367557713, 9.951330367557741, 10.170080367557732, 10.357580367557734, 10.607580367557741, 10.826330367557755, 10.982580367557762, 11.123205367557762, 11.263830367557762, 11.357580367557762, 11.420080367557789, 11.482580367557777, 11.545080367557784, 11.623205367557777, 11.685705367557762, 11.732580367557762, 11.74820536755779, 11.763830367557778, 11.826330367557784], [11.998205367557798, 12.029455367557793, 11.98258036755779, 12.013830367557784, 12.0450803675578, 12.029455367557793, 12.013830367557784, 12.013830367557784, 12.0450803675578, 12.107580367557784, 12.138830367557778, 12.17008036755779, 12.232580367557794, 12.279455367557798, 12.295080367557802, 12.3263303675578, 12.37320536755782], [12.091955367557798, 12.07633036755779, 12.060705367557784, 12.0450803675578, 12.0450803675578, 12.029455367557793, 11.998205367557798, 11.998205367557798, 11.966955367557805, 11.904455367557796, 11.826330367557784, 11.779455367557784, 11.701330367557771, 11.576330367557777, 11.46695536755779, 11.357580367557762, 11.32633036755777, 11.107580367557754, 11.04508036755777, 10.982580367557762, 10.935705367557762, 10.966955367557777, 10.982580367557762, 11.013830367557755, 11.170080367557762, 11.295080367557775, 11.498205367557784, 11.670080367557777, 11.79508036755779, 11.93570536755779, 11.98258036755779, 12.013830367557784, 12.029455367557793, 12.0450803675578, 12.060705367557784, 12.0450803675578, 12.0450803675578, 12.07633036755779, 12.060705367557784, 12.0450803675578, 12.013830367557784, 11.966955367557805, 11.904455367557796, 11.857580367557798, 11.79508036755779, 11.701330367557771, 11.638830367557762, 11.576330367557777, 11.51383036755777, 11.482580367557777, 11.46695536755779, 11.404455367557784, 11.31070536755776, 11.31070536755776, 11.295080367557775, 11.27945536755777, 11.263830367557762, 11.263830367557762, 11.295080367557775, 11.357580367557762, 11.341955367557777, 10.951330367557768, 10.513830367557741, 10.545080367557755, 10.216955367557734, 10.966955367557777, 10.935705367557762, 10.57633036755775, 10.201330367557727, 11.623205367557777, 12.295080367557802, 12.3263303675578, 12.3263303675578, 12.37320536755782, 12.341955367557802, 12.295080367557802, 12.232580367557777, 12.17008036755779, 12.138830367557778, 12.12320536755779, 12.091955367557798, 12.060705367557784, 11.998205367557798, 11.857580367557798, 11.716955367557777, 11.623205367557777, 11.51383036755777, 11.435705367557777, 11.27945536755777, 11.138830367557746, 10.951330367557768, 10.79508036755776, 10.623205367557746, 10.466955367557762, 10.263830367557734, 10.076330367557736, 9.85758036755772, 9.685705367557706, 9.48258036755772, 9.310705367557707, 9.170080367557707, 9.123205367557706, 9.091955367557713, 9.060705367557699, 9.045080367557714], [8.81070536755769, 8.81070536755769, 8.841955367557706, 8.841955367557706, 8.904455367557713, 8.920080367557718, 8.982580367557706, 8.982580367557706, 8.998205367557713, 9.045080367557714, 9.107580367557697, 9.170080367557707, 9.310705367557707, 9.43570536755772, 9.529455367557718, 9.607580367557713, 9.67008036755772, 9.701330367557713, 9.607580367557713, 9.513830367557713, 9.404455367557725, 9.279455367557713, 9.201330367557699, 9.123205367557706, 9.045080367557714, 8.998205367557713, 8.998205367557713, 8.920080367557718, 8.920080367557718, 8.904455367557713, 8.888830367557706, 8.904455367557713, 8.935705367557706, 8.998205367557713, 9.091955367557713, 9.170080367557707, 9.263830367557706, 9.326330367557713, 9.37320536755773, 9.420080367557734, 9.420080367557734, 9.48258036755772, 9.498205367557727, 9.48258036755772, 9.48258036755772, 9.466955367557734, 9.388830367557718, 9.388830367557718, 9.357580367557704, 9.279455367557713, 9.216955367557706, 9.123205367557706, 9.045080367557714, 8.982580367557706, 8.87320536755772, 8.81070536755769, 8.763830367557691, 8.716955367557691, 8.716955367557691, 8.795080367557706, 8.982580367557706, 9.201330367557699, 9.498205367557727, 9.998205367557738, 10.357580367557734, 10.763830367557748, 11.170080367557762, 11.56070536755777, 11.998205367557798, 12.873205367557834, 13.326330367557826, 12.951330367557826, nan, nan, nan, nan, nan, nan, 10.888830367557762, nan, nan, nan, nan, nan, nan, nan, 10.263830367557734, 10.123205367557732, 10.029455367557732, 9.951330367557741, 9.76383036755772, 9.451330367557725, 8.951330367557711, 8.513830367557684, 8.185705367557663, 7.904455367557684, 7.638830367557648], [7.013830367557643, 7.029455367557647, 7.029455367557647, 7.045080367557655, 7.076330367557647, 7.060705367557638, 7.029455367557647, 6.998205367557658, 6.920080367557662, 6.763830367557634, 6.529455367557634, 6.341955367557634, 6.154455367557612, 6.0294553675576195, 5.951330367557627, 5.920080367557635, 5.920080367557635, 6.045080367557627, 6.2638303675576195, 6.482580367557634, 6.623205367557635, 6.763830367557634, 6.904455367557655, 6.966955367557661, 7.076330367557647], [7.1700803675576505, 7.1232053675576505, 6.998205367557658, 6.810705367557634, 6.232580367557627, 5.9982053675576275, 6.185705367557604, nan, 6.82633036755764, 7.013830367557643, 6.888830367557648, nan, nan, nan, nan, nan, nan, nan, nan, nan, nan, nan, nan, nan, nan, nan, nan, nan, nan, 14.07633036755785, 13.966955367557862, 14.248205367557864, nan, nan, nan, nan, nan, nan, 13.951330367557851, 13.59195536755784, nan, nan, nan, nan, 13.795080367557844, 14.13883036755783, 13.93570536755785, 13.98258036755785, 6.482580367557634, 6.2169553675576195, 6.232580367557605, 6.451330367557642, 6.560705367557629, 6.701330367557627, 6.82633036755764, 7.107580367557642, 7.248205367557663], [7.029455367557647, 6.998205367557658, 6.998205367557658, 6.998205367557658, 7.013830367557643, 6.966955367557661, 6.935705367557649, 6.904455367557655, 6.857580367557652, 6.82633036755764, 6.748205367557648, 6.6857053675576195, 6.576330367557634, 6.498205367557641, 6.451330367557642, 6.420080367557648, 6.373205367557648], [6.2169553675576195, 6.201330367557612, 6.185705367557604, 6.1700803675576195, 6.154455367557612, 6.138830367557605, 6.138830367557605, 6.123205367557619, 6.123205367557619, 6.154455367557612, 6.185705367557604, 6.232580367557605, 6.341955367557634, 6.466955367557648, 6.591955367557641, 6.763830367557634, 6.841955367557645, 6.873205367557662, 6.857580367557652, 6.810705367557634, 6.748205367557648, 6.701330367557627, 6.6388303675576195, 6.545080367557641, 6.513830367557624], [6.201330367557612, 6.201330367557612, 6.2169553675576195, 6.232580367557627, 6.295080367557631, 6.3575803675576195, 6.31070536755762, 6.248205367557636, 6.1700803675576195, 6.045080367557627, 5.857580367557626, 5.857580367557604, 5.9982053675576275, 5.873205367557634, 5.3888303675576035, 3.8732053675575564, 3.591955367557544, 3.591955367557544, 5.841955367557622, 5.873205367557634, 6.295080367557631, 6.810705367557634, 6.904455367557655, 6.888830367557648, 6.810705367557634, 6.732580367557638, 6.6857053675576195, 6.654455367557627, 6.591955367557641, 6.513830367557624, 6.435705367557634, 6.341955367557634, 6.2169553675576195, 6.138830367557605, 6.0294553675576195, 5.951330367557627, 5.857580367557626, 5.748205367557623, 5.670080367557605, 5.576330367557607, 5.4513303675576115, 5.341955367557605, 5.248205367557604, 5.107580367557583, 5.013830367557583, 4.904455367557596, 4.795080367557581, 4.70133036755758, 4.607580367557581, 4.513830367557581, 4.420080367557569, 4.341955367557565, 4.27945536755757, 4.2169553675575635, 4.138830367557572, 4.107580367557566], [3.8888303675575613, 3.904455367557559, 3.9357053675575653, 3.998205367557561, 4.04508036755756, 4.0763303675575635, 4.123205367557562, 4.154455367557566, 4.185705367557571, 4.170080367557563, 4.138830367557572, 4.09195536755756, 4.013830367557565, 3.9200803675575546, 3.81070536755756, 3.7169553675575484, 3.6544553675575506], [4.0294553675575635, 4.0294553675575635, 4.0294553675575635, 3.998205367557561, 3.9357053675575653, 3.8888303675575613, 3.857580367557558, 3.795080367557551, 3.732580367557554, 3.6700803675575493, 3.591955367557544, 3.498205367557545, 3.3419553675575386, 3.2169553675575333, 3.154455367557537, 3.091955367557532, 2.982580367557534, 2.9200803675575266, 2.841955367557523, 2.7482053675575253, 2.607580367557525, 2.4825803675575195, 2.4044553675575155, 2.357580367557518, 2.279455367557513], [2.091955367557504, 2.076330367557504, 2.060705367557508, 2.091955367557504, 2.107580367557511, 2.1700803675575053, 2.216955367557507, 2.279455367557513, 2.3732053675575138, 2.498205367557518, 2.7482053675575253, 2.9669553675575266, 3.170080367557535, 3.4513303675575457, 3.5763303675575497, 3.6544553675575506, 3.6857053675575555, 3.591955367557544, 3.420080367557542, 3.2169553675575333, 2.9513303675575306, 2.7794553675575258, 2.607580367557525, 2.5138303675575244, 2.4513303675575164], [2.38883036755752, 2.3732053675575138, 2.3263303675575138, 2.2950803675575084, 2.279455367557513, 2.248205367557508, 2.248205367557508, 2.279455367557513, 2.2325803675575138, 2.1857053675575124, 2.154455367557509, 2.1232053675575058, 2.107580367557511, 2.107580367557511, 2.1232053675575058, 2.2950803675575084, 2.5919553675575178, 2.9200803675575266, 3.48258036755755, 3.7638303675575604, 3.8888303675575613, 3.857580367557558, 3.357580367557545, 2.529455367557522, 2.357580367557518, 2.279455367557513, nan, 2.2638303675575173, 2.3263303675575138, 2.3732053675575138, 2.3419553675575093, 2.38883036755752, 2.38883036755752, 2.4044553675575155, 2.420080367557512, nan, 2.4513303675575164, 3.138830367557542, 2.529455367557522, nan, nan, 1.091955367557474, 0.24820536755745337, 0.12320536755744768, -0.0017946324425549222, -0.09554463244255362, -0.22054463244255776, -0.37679463244256395, -0.43929463244256217], [0.2950803675574549, 0.2794553675574564, 0.26383036755746186, 0.23258036755745393, 0.20133036755745243, 0.18570536755745484, 0.2169553675574472, 0.24820536755745337, 0.24820536755745337, 0.23258036755745393, 0.20133036755745243, 0.1544553675574552, 0.09195536755744506, -0.0017946324425549222, -0.06429463244254983, -0.12679463244255695, -0.2674196324425584]]}, {'song_name': 'Shankarabharana_song', 'pattern_data': [], 'hist_data': [0.0, 0.0, 0.0, 0.0, 0.0, 0.0, 0.0, 0.0, 0.0, 0.0, 0.0, 0.0, 0.0, 0.0, 0.0, 0.0, 0.0, 0.0, 0.0, 0.0, 0.0, 0.0, 0.0, 0.0, 0.0, 0.0, 0.0, 0.0, 0.0, 0.0, 0.0, 0.0, 0.0, 0.0, 0.0, 0.0, 0.0, 0.0, 0.0, 0.0, 0.0, 0.0, 0.0, 0.0, 0.0, 0.0, 0.0, 0.0, 0.0, 0.0, 0.0, 0.0, 0.0, 0.0, 0.0, 0.0, 0.0, 0.0, 0.0, 0.0, 0.0, 0.0, 0.0, 0.0, 0.0, 0.0, 0.0, 0.0, 0.0, 0.0, 0.0, 0.0, 0.0, 0.0, 0.0, 0.0, 0.0, 0.0, 0.0, 0.0, 0.0, 0.0, 0.0, 0.0, 0.0, 0.0, 0.0, 0.0, 0.0, 0.0, 0.0, 0.0, 0.0, 0.0, 0.0, 0.0, 0.0, 0.0, 0.0, 0.0, 0.0, 0.0, 0.0, 0.0, 0.0, 0.0, 0.0, 0.0, 0.0, 0.0, 0.0, 0.0, 0.0, 0.0, 0.0, 0.0, 0.0, 0.0, 0.0, 0.0, 0.0, 0.0, 0.0, 0.0, 0.0, 0.0, 0.0, 0.0, 0.0, 0.0, 0.0, 0.0, 0.0, 0.0, 0.0, 0.0, 0.0, 0.0, 0.0, 0.0, 0.0, 0.0, 0.0, 0.0, 0.0, 0.0, 0.0, 0.0, 0.0, 0.0, 0.0, 0.0, 0.0, 0.0, 0.0, 0.0, 0.0, 0.0, 0.0, 0.0, 0.0, 0.0, 0.0, 0.0, 0.0, 0.0, 0.0, 0.0, 0.0, 0.0, 0.0, 0.0, 0.0, 0.0, 0.0, 0.0, 0.0, 0.0, 0.0, 0.0, 0.0, 0.0, 0.0, 0.0, 0.0, 0.0, 0.0, 0.0, 0.0, 0.0, 0.0, 0.0, 0.0, 0.0, 0.0, 0.0, 0.0, 0.0, 0.0, 0.0, 0.0, 0.0, 0.0, 0.0, 0.0, 0.0, 0.0, 0.0, 0.0, 0.0, 0.0, 0.0, 0.0, 0.0, 0.0, 0.0, 0.0, 0.0, 0.0, 0.0, 0.0, 0.0, 0.0, 0.0, 0.0, 0.0, 0.0, 0.0, 0.0, 0.0, 0.0, 0.0, 0.0, 0.0, 0.0, 0.0, 0.0, 0.0, 0.0, 0.0, 0.0, 0.0, 0.0, 0.0, 0.0, 0.0, 0.0, 0.0, 0.0, 0.0, 0.0, 0.0, 0.0, 0.0, 0.0, 0.0, 0.0, 0.0, 0.0, 0.0, 0.0, 0.0, 0.0, 0.0, 0.0, 0.0, 0.0, 0.0, 0.0, 0.0, 0.0, 0.0, 0.0, 0.0, 0.0, 0.0, 0.0, 0.0, 0.0, 0.0, 0.0, 0.0, 0.0, 0.0, 0.0, 0.0, 0.0, 0.0, 0.0, 0.0, 0.0, 0.0, 0.0, 0.0, 0.0, 0.0, 0.0, 0.0, 0.0, 0.0, 0.0, 0.0, 0.0, 0.0, 0.0, 0.0, 0.0, 0.0, 0.0, 0.0, 0.0, 0.0, 0.0, 0.0, 0.0, 0.0, 0.0, 0.0, 0.0, 0.0, 0.0, 0.0, 0.0, 0.0, 0.0, 0.0, 0.0, 0.0, 0.0, 0.0, 0.0, 0.0, 0.0, 0.0, 0.0, 0.0, 0.0, 0.0, 0.0, 0.0, 0.0, 0.0, 0.0, 0.0, 0.0, 0.0, 0.0, 0.0, 0.0, 0.0, 0.0, 0.0, 0.0, 0.0, 0.0, 0.0, 0.0, 0.0, 0.0, 0.0, 0.0, 0.0, 0.0, 0.0, 0.0, 0.0, 0.0, 0.0, 0.0, 0.0, 0.0, 0.0, 0.0, 0.0, 0.0, 0.0, 0.0, 0.0, 0.0, 0.0, 0.0, 0.0, 0.0, 0.0, 0.0, 0.0, 0.0, 0.0, 0.0, 0.0, 0.0, 0.0, 0.0, 0.0, 0.0, 0.0, 0.0, 0.0, 0.0, 0.0, 0.0, 0.0, 0.0, 0.0, 0.0, 0.0, 0.0, 0.0, 0.0, 0.0, 0.0, 0.0, 0.0, 0.0, 0.0, 0.0, 0.0, 0.0, 0.0, 0.0, 0.0, 0.0, 0.0, 0.0, 0.0, 0.0, 0.0, 0.0, 0.0, 0.0, 0.0, 0.0, 0.0, 0.0, 0.0, 0.0, 0.0, 0.0, 0.0, 0.0, 0.0, 0.0, 0.0, 0.0, 0.0, 0.0, 0.0, 0.0, 0.0, 0.0, 0.0, 0.0, 0.0, 0.0, 0.0, 0.0, 0.0, 0.0, 0.0, 0.0, 0.0, 0.0, 0.0, 0.0, 0.0, 0.0, 0.0, 0.0, 0.0, 0.0, 0.0, 0.0, 0.0, 0.0, 0.0, 0.0, 0.0, 0.0, 0.0, 0.0, 0.0, 0.0, 0.0, 0.0, 0.0, 0.0, 0.0, 0.0, 0.0, 0.0, 0.0, 0.0, 0.0, 0.0, 0.0, 0.0, 0.0, 0.0, 0.0, 0.0, 0.0, 0.0, 0.0, 0.0, 0.0, 0.0, 0.0, 0.0, 0.0, 0.0, 0.0, 0.0, 0.0, 0.0, 0.0, 0.0, 0.0, 0.0, 0.0, 0.0, 0.0, 0.0, 0.0, 0.0, 0.0, 0.0, 0.0, 0.0, 0.0, 0.0, 0.0, 0.0, 0.0, 0.0, 0.0, 0.0, 0.0, 0.0, 0.0, 0.0, 0.0, 0.0, 0.0, 0.0, 0.0, 0.0, 0.0, 0.0, 0.0, 0.0, 0.0, 0.0, 0.0, 0.0, 0.0, 0.0, 0.0, 0.0, 0.0, 0.0, 0.0, 0.0, 0.0, 0.0, 0.0, 0.0, 0.0, 0.0, 0.0, 0.0, 0.0, 0.0, 0.0, 0.0, 0.0, 0.0, 0.0, 0.0, 0.0, 0.0, 0.0, 0.0, 0.0, 0.0, 0.0, 0.0, 0.0, 0.0, 0.0, 0.0, 0.0, 0.0, 0.0, 0.0, 0.0, 0.0, 0.0, 0.0, 0.0, 0.0, 0.0, 0.0, 0.0, 0.0, 0.0, 0.0, 0.0, 0.0, 0.0, 0.0, 0.0, 0.0, 0.0, 0.0, 0.0, 0.0, 0.0, 0.0, 0.0, 0.0, 0.0, 0.0, 0.0, 0.0, 0.0, 0.0, 0.0, 0.0, 0.0, 0.0, 0.0, 0.0, 0.0, 0.0, 0.0, 0.0, 0.0, 0.0, 0.0, 0.0, 0.0, 0.0, 0.0, 0.0, 0.0, 0.0, 0.0, 0.0, 0.0, 0.0, 0.0, 0.0, 0.0, 0.0, 0.0, 0.0, 0.0, 0.0, 0.0, 0.0, 0.0, 0.0, 0.0, 0.0, 0.0, 0.0, 0.0, 0.0, 0.0, 0.0, 0.0, 0.0, 0.0, 0.0, 0.0, 0.0, 0.0, 0.0, 0.0, 0.0, 0.0, 0.0, 0.0, 0.0, 0.0, 0.0, 0.0, 0.0, 0.0, 0.0, 0.0, 0.0, 0.0, 0.0, 0.0, 0.0, 0.0, 0.0, 0.0, 0.0, 0.0, 0.0, 0.0, 0.0, 0.0, 0.0, 0.0, 0.0, 0.0, 0.0, 0.0, 0.0, 0.0, 0.0, 0.0, 0.0, 0.0, 0.0, 0.0, 0.0, 0.0, 0.0, 0.0, 0.0, 0.0, 0.0, 0.0, 0.0, 0.0, 0.0, 0.0, 0.0, 0.0, 0.0, 0.0, 0.0, 0.0, 0.0, 0.0, 0.0, 0.0, 0.0, 0.0, 0.0, 0.0, 0.0, 0.0, 0.0, 0.0, 0.0, 0.0, 0.0, 0.0, 0.0, 0.0, 0.0, 0.0, 0.0, 0.0, 0.0, 0.0, 0.0, 0.0, 0.0, 0.0, 0.0, 0.0, 0.0, 0.0, 0.0, 0.0, 0.0, 0.0, 0.0, 0.0, 0.0, 0.0, 0.0, 0.0, 0.0, 0.0, 0.0, 0.0, 0.0, 0.0, 0.0, 0.0, 0.0, 0.0, 0.0, 0.0, 0.0, 0.0, 0.0, 0.0, 0.0, 0.0, 0.0, 0.0, 0.0, 0.0, 0.0, 0.0, 0.0, 0.0, 0.0, 0.0, 0.0, 0.0, 0.0, 0.0, 0.0, 0.0, 0.0, 0.0, 0.0, 0.0, 0.0, 0.0, 0.0, 0.0, 0.0, 0.0, 0.0, 0.0, 0.0, 0.0, 0.0, 0.0, 0.0, 0.0, 0.0, 0.0, 0.0, 0.0, 0.0, 0.0, 0.0, 0.0, 0.0, 0.0, 0.0, 0.0, 0.0, 0.0, 0.0, 0.0, 0.0, 0.0, 0.0, 0.0, 0.0, 0.0, 0.0, 0.0, 0.0, 0.0, 0.0, 0.0, 0.0, 0.0, 0.0, 0.0, 0.0, 0.0, 0.0, 0.0, 0.0, 0.0, 0.0, 0.0, 0.0, 0.0, 0.0, 0.0, 0.0, 0.0, 0.0, 0.0, 0.0, 0.0, 0.0, 0.0, 0.0, 0.0, 0.0, 0.0, 0.0, 0.0, 0.0, 0.0, 0.0, 0.0, 0.0, 0.0, 0.0, 0.0, 0.0, 0.0, 0.0, 0.0, 0.0, 0.0, 0.0, 0.0, 0.0, 0.0, 0.0, 0.0, 0.0, 0.0, 0.0, 0.0, 0.0, 0.0, 0.0, 0.0, 0.0, 0.0, 0.0, 0.0, 0.0, 0.0, 0.0, 0.0, 0.0, 0.0, 0.0, 0.0, 0.0, 0.0, 0.0, 0.0, 0.0, 0.0, 0.0, 0.0, 0.0, 0.0, 0.0, 0.0, 0.0, 0.0, 0.0, 0.0, 0.0, 0.0, 0.0, 0.0, 0.0, 0.0, 0.0, 0.0, 0.0, 0.0, 0.0, 0.0, 0.0, 0.0, 0.0, 0.0, 0.0, 0.0, 0.0, 0.0, 0.0, 0.0, 0.0, 0.0, 0.0, 0.0, 0.0, 0.0, 0.0, 0.0, 0.0, 0.0, 0.0, 0.0, 0.0, 0.0, 0.0, 0.0, 0.0, 0.0, 0.0, 0.0, 0.0, 0.0, 0.0, 0.0, 0.0, 0.0, 0.0, 0.0, 0.0, 0.0, 0.0, 0.0, 0.0, 0.0, 0.0, 0.0, 0.0, 0.0, 0.0, 0.0, 0.0, 0.0, 0.0, 0.0, 0.0, 0.0, 0.0, 0.0, 0.0, 0.0, 0.0, 0.0, 0.0, 0.0, 0.0, 0.0, 0.0, 0.0, 0.0, 0.0, 0.0, 0.0, 0.0, 0.0, 0.0, 0.0, 0.001272264631043257, 0.0, 0.0, 0.0, 0.0, 0.0, 0.0, 0.0, 0.0006361323155216285, 0.0, 0.0, 0.0, 0.0, 0.0, 0.0, 0.0, 0.0, 0.0, 0.0, 0.0, 0.0, 0.0, 0.0, 0.0, 0.0, 0.0, 0.0, 0.0006361323155216285, 0.0006361323155216285, 0.0, 0.0, 0.0, 0.0, 0.0, 0.0, 0.0, 0.0, 0.0, 0.0006361323155216285, 0.0, 0.0, 0.0006361323155216285, 0.0, 0.0, 0.0, 0.0, 0.0, 0.0, 0.0, 0.0, 0.0, 0.0, 0.0, 0.0, 0.0, 0.0, 0.0, 0.0, 0.0, 0.0, 0.0, 0.0, 0.0, 0.0, 0.0, 0.0, 0.0, 0.0006361323155216285, 0.0, 0.0, 0.0, 0.0, 0.0, 0.0, 0.0, 0.0, 0.0, 0.0, 0.0, 0.0, 0.0, 0.0, 0.0, 0.0006361323155216285, 0.0, 0.0, 0.0, 0.0, 0.0, 0.0, 0.0, 0.0, 0.0, 0.0, 0.0, 0.0, 0.0, 0.0, 0.0, 0.0, 0.0006361323155216285, 0.0, 0.0, 0.0, 0.0, 0.0, 0.0, 0.0, 0.0, 0.0006361323155216285, 0.0, 0.0, 0.0, 0.0, 0.0, 0.0, 0.0006361323155216285, 0.0, 0.0, 0.0, 0.0, 0.0, 0.0, 0.0, 0.0, 0.0, 0.0, 0.0, 0.0, 0.0, 0.0, 0.0, 0.0, 0.0, 0.0, 0.0, 0.0006361323155216285, 0.0, 0.0, 0.0, 0.0, 0.0006361323155216285, 0.0006361323155216285, 0.0, 0.0006361323155216285, 0.0, 0.0, 0.0019083969465648854, 0.0006361323155216285, 0.0, 0.0006361323155216285, 0.0, 0.004452926208651399, 0.004452926208651399, 0.0, 0.0019083969465648854, 0.0031806615776081423, 0.0, 0.002544529262086514, 0.003816793893129771, 0.0, 0.0019083969465648854, 0.0, 0.0031806615776081423, 0.002544529262086514, 0.0, 0.005089058524173028, 0.006361323155216285, 0.0, 0.0019083969465648854, 0.007633587786259542, 0.0, 0.0031806615776081423, 0.004452926208651399, 0.0, 0.008905852417302799, 0.0, 0.0031806615776081423, 0.006361323155216285, 0.0, 0.0031806615776081423, 0.0031806615776081423, 0.0, 0.003816793893129771, 0.006997455470737914, 0.0, 0.005089058524173028, 0.0, 0.005089058524173028, 0.001272264631043257, 0.0, 0.0, 0.002544529262086514, 0.0, 0.001272264631043257, 0.0006361323155216285, 0.0, 0.0006361323155216285, 0.0006361323155216285, 0.0, 0.0006361323155216285, 0.0, 0.001272264631043257, 0.0, 0.0, 0.002544529262086514, 0.0, 0.0, 0.0, 0.0006361323155216285, 0.0, 0.001272264631043257, 0.0, 0.001272264631043257, 0.0, 0.0, 0.0, 0.001272264631043257, 0.0, 0.0006361323155216285, 0.0006361323155216285, 0.0, 0.0006361323155216285, 0.0006361323155216285, 0.0, 0.0, 0.0, 0.0, 0.0, 0.0, 0.0, 0.0, 0.0, 0.0, 0.0, 0.0, 0.0006361323155216285, 0.0, 0.0006361323155216285, 0.0, 0.0, 0.0, 0.0006361323155216285, 0.0, 0.0, 0.0, 0.0, 0.0, 0.0, 0.0, 0.0006361323155216285, 0.0, 0.0, 0.001272264631043257, 0.0, 0.0006361323155216285, 0.0, 0.0, 0.0, 0.0, 0.0, 0.0, 0.0, 0.0006361323155216285, 0.0006361323155216285, 0.0, 0.0, 0.0006361323155216285, 0.0, 0.0, 0.0, 0.0, 0.0, 0.0, 0.0, 0.0, 0.0, 0.0, 0.0, 0.0, 0.0, 0.0, 0.0, 0.0, 0.0, 0.0, 0.001272264631043257, 0.0, 0.0, 0.0, 0.0, 0.0006361323155216285, 0.0006361323155216285, 0.0, 0.0, 0.0, 0.0, 0.0, 0.0, 0.0, 0.0, 0.0, 0.0006361323155216285, 0.001272264631043257, 0.0, 0.0, 0.0, 0.0, 0.0, 0.0, 0.0, 0.0, 0.0, 0.0, 0.0, 0.0, 0.0, 0.0006361323155216285, 0.0, 0.0, 0.0, 0.0, 0.0, 0.0006361323155216285, 0.0, 0.0, 0.0, 0.0, 0.0, 0.0, 0.0, 0.0019083969465648854, 0.0, 0.0, 0.0, 0.0, 0.0, 0.0, 0.0, 0.0006361323155216285, 0.0, 0.0006361323155216285, 0.0, 0.0, 0.0, 0.0, 0.0, 0.0006361323155216285, 0.0, 0.0, 0.0, 0.0, 0.0006361323155216285, 0.0, 0.0, 0.001272264631043257, 0.0006361323155216285, 0.0, 0.0, 0.0006361323155216285, 0.0, 0.0006361323155216285, 0.0, 0.0006361323155216285, 0.0, 0.0, 0.0006361323155216285, 0.0006361323155216285, 0.0, 0.002544529262086514, 0.0019083969465648854, 0.0, 0.004452926208651399, 0.0, 0.0, 0.0019083969465648854, 0.0, 0.0006361323155216285, 0.001272264631043257, 0.0, 0.0, 0.0006361323155216285, 0.0, 0.0006361323155216285, 0.0006361323155216285, 0.0, 0.0, 0.0, 0.0, 0.0, 0.0, 0.0006361323155216285, 0.0006361323155216285, 0.0, 0.0006361323155216285, 0.001272264631043257, 0.0, 0.0, 0.0006361323155216285, 0.0, 0.0, 0.0, 0.0006361323155216285, 0.0, 0.0, 0.001272264631043257, 0.0, 0.0, 0.0, 0.0006361323155216285, 0.0, 0.0, 0.0, 0.0, 0.0006361323155216285, 0.0, 0.0006361323155216285, 0.001272264631043257, 0.0, 0.0, 0.0, 0.0, 0.0006361323155216285, 0.0, 0.0, 0.0, 0.0, 0.0, 0.0, 0.0, 0.0006361323155216285, 0.0006361323155216285, 0.0, 0.0006361323155216285, 0.0, 0.0, 0.0, 0.0, 0.0006361323155216285, 0.0006361323155216285, 0.0, 0.0, 0.001272264631043257, 0.0, 0.0006361323155216285, 0.0, 0.0, 0.0006361323155216285, 0.0, 0.0, 0.0006361323155216285, 0.0, 0.0006361323155216285, 0.0, 0.0, 0.0, 0.001272264631043257, 0.0, 0.001272264631043257, 0.0, 0.0, 0.001272264631043257, 0.0, 0.0, 0.0, 0.0, 0.001272264631043257, 0.0, 0.0, 0.0006361323155216285, 0.0, 0.0, 0.0, 0.0, 0.0, 0.0, 0.0, 0.0, 0.0006361323155216285, 0.0, 0.0006361323155216285, 0.001272264631043257, 0.0, 0.0, 0.0, 0.0, 0.0006361323155216285, 0.0, 0.0019083969465648854, 0.0, 0.0, 0.0, 0.0, 0.0, 0.0006361323155216285, 0.0006361323155216285, 0.0, 0.0, 0.0, 0.0, 0.0, 0.0, 0.0006361323155216285, 0.0006361323155216285, 0.0, 0.0019083969465648854, 0.0, 0.0, 0.0, 0.0006361323155216285, 0.0, 0.0, 0.0, 0.0, 0.0006361323155216285, 0.0, 0.0, 0.0, 0.0, 0.0, 0.0006361323155216285, 0.0, 0.001272264631043257, 0.0019083969465648854, 0.0, 0.001272264631043257, 0.0, 0.0006361323155216285, 0.0006361323155216285, 0.0, 0.001272264631043257, 0.0006361323155216285, 0.0, 0.0019083969465648854, 0.001272264631043257, 0.0, 0.0006361323155216285, 0.0, 0.001272264631043257, 0.004452926208651399, 0.0, 0.0019083969465648854, 0.0031806615776081423, 0.0, 0.002544529262086514, 0.006997455470737914, 0.0, 0.002544529262086514, 0.0031806615776081423, 0.0, 0.002544529262086514, 0.0, 0.002544529262086514, 0.0019083969465648854, 0.0, 0.0006361323155216285, 0.002544529262086514, 0.0, 0.005089058524173028, 0.002544529262086514, 0.0, 0.004452926208651399, 0.0, 0.003816793893129771, 0.005089058524173028, 0.0, 0.005089058524173028, 0.0031806615776081423, 0.0, 0.005089058524173028, 0.006997455470737914, 0.0, 0.004452926208651399, 0.007633587786259542, 0.0, 0.005089058524173028, 0.0, 0.002544529262086514, 0.003816793893129771, 0.0, 0.0019083969465648854, 0.0057251908396946565, 0.0, 0.004452926208651399, 0.0031806615776081423, 0.0, 0.0031806615776081423, 0.0, 0.001272264631043257, 0.006361323155216285, 0.0, 0.0031806615776081423, 0.002544529262086514, 0.0, 0.004452926208651399, 0.004452926208651399, 0.0, 0.0006361323155216285, 0.002544529262086514, 0.0, 0.002544529262086514, 0.0, 0.0006361323155216285, 0.0019083969465648854, 0.0, 0.0031806615776081423, 0.002544529262086514, 0.0, 0.0006361323155216285, 0.0019083969465648854, 0.0, 0.0006361323155216285, 0.0, 0.001272264631043257, 0.0019083969465648854, 0.0, 0.0, 0.0019083969465648854, 0.0, 0.0019083969465648854, 0.001272264631043257, 0.0, 0.0, 0.0019083969465648854, 0.0, 0.001272264631043257, 0.0, 0.0031806615776081423, 0.0006361323155216285, 0.0, 0.0006361323155216285, 0.001272264631043257, 0.0, 0.0, 0.001272264631043257, 0.0, 0.0006361323155216285, 0.0, 0.0, 0.0, 0.0, 0.0, 0.0031806615776081423, 0.0, 0.0006361323155216285, 0.0006361323155216285, 0.0, 0.0019083969465648854, 0.001272264631043257, 0.0, 0.003816793893129771, 0.0, 0.001272264631043257, 0.001272264631043257, 0.0, 0.001272264631043257, 0.001272264631043257, 0.0, 0.0006361323155216285, 0.0019083969465648854, 0.0, 0.0006361323155216285, 0.0, 0.001272264631043257, 0.001272264631043257, 0.0, 0.001272264631043257, 0.001272264631043257, 0.0, 0.0, 0.0, 0.0, 0.0019083969465648854, 0.0006361323155216285, 0.0, 0.0006361323155216285, 0.0, 0.001272264631043257, 0.0006361323155216285, 0.0, 0.0, 0.0006361323155216285, 0.0, 0.001272264631043257, 0.0, 0.0, 0.0, 0.0, 0.0006361323155216285, 0.001272264631043257, 0.0, 0.0, 0.001272264631043257, 0.0, 0.0, 0.0, 0.0, 0.0, 0.0, 0.0, 0.0, 0.0, 0.0, 0.0, 0.0, 0.0, 0.0, 0.0, 0.0, 0.0, 0.0, 0.0, 0.0, 0.0, 0.0, 0.0, 0.0, 0.0, 0.0, 0.0, 0.0, 0.0, 0.0, 0.0, 0.0, 0.0, 0.0, 0.0, 0.0, 0.0, 0.0, 0.0, 0.0, 0.0, 0.0, 0.0, 0.0, 0.0, 0.0, 0.0, 0.0, 0.0, 0.0, 0.0, 0.0, 0.0, 0.0, 0.0, 0.0, 0.0, 0.0, 0.0, 0.0, 0.0, 0.0, 0.0, 0.0, 0.0, 0.0, 0.0, 0.0, 0.0, 0.0, 0.0, 0.0, 0.0, 0.0, 0.0, 0.0, 0.0, 0.0006361323155216285, 0.0, 0.0, 0.0, 0.0, 0.0, 0.0, 0.0, 0.0, 0.0, 0.0, 0.0, 0.0, 0.0, 0.0, 0.0, 0.0, 0.0, 0.0, 0.0, 0.0, 0.0, 0.0, 0.0, 0.0, 0.0, 0.0, 0.0, 0.0, 0.0, 0.0006361323155216285, 0.0, 0.0, 0.0, 0.0, 0.0, 0.0, 0.0, 0.0, 0.0, 0.0, 0.0006361323155216285, 0.0, 0.0, 0.0, 0.0, 0.0, 0.0, 0.0, 0.0, 0.0, 0.0, 0.0, 0.0, 0.0, 0.0006361323155216285, 0.0, 0.0, 0.0006361323155216285, 0.0, 0.0, 0.0006361323155216285, 0.0, 0.0, 0.0, 0.0, 0.0, 0.0, 0.0, 0.0, 0.0, 0.0, 0.001272264631043257, 0.0, 0.0, 0.0, 0.0, 0.0006361323155216285, 0.0006361323155216285, 0.0, 0.0, 0.0, 0.0, 0.0, 0.0, 0.0, 0.0, 0.0, 0.0, 0.0, 0.0, 0.0, 0.0, 0.0, 0.0, 0.0, 0.0006361323155216285, 0.002544529262086514, 0.0, 0.001272264631043257, 0.001272264631043257, 0.0, 0.0019083969465648854, 0.0031806615776081423, 0.0, 0.0019083969465648854, 0.0, 0.005089058524173028, 0.004452926208651399, 0.0, 0.003816793893129771, 0.003816793893129771, 0.0, 0.006361323155216285, 0.005089058524173028, 0.0, 0.008905852417302799, 0.0, 0.002544529262086514, 0.005089058524173028, 0.0, 0.007633587786259542, 0.0057251908396946565, 0.0, 0.00826972010178117, 0.004452926208651399, 0.0, 0.001272264631043257, 0.002544529262086514, 0.0, 0.0006361323155216285, 0.0, 0.002544529262086514, 0.001272264631043257, 0.0, 0.001272264631043257, 0.0006361323155216285, 0.0, 0.0006361323155216285, 0.0, 0.0, 0.0006361323155216285, 0.0, 0.0, 0.0, 0.0, 0.0006361323155216285, 0.0, 0.0, 0.0, 0.0, 0.0, 0.0006361323155216285, 0.0, 0.0, 0.0, 0.0, 0.0, 0.0, 0.0, 0.0, 0.0, 0.0, 0.0, 0.0, 0.0, 0.0, 0.0, 0.0, 0.0, 0.0, 0.0, 0.0006361323155216285, 0.0, 0.0, 0.0006361323155216285, 0.0, 0.0, 0.0, 0.0, 0.0, 0.0, 0.0006361323155216285, 0.0, 0.0, 0.0, 0.0, 0.0, 0.0, 0.0, 0.0, 0.0, 0.0, 0.0, 0.0, 0.0, 0.0, 0.0, 0.0, 0.0, 0.0006361323155216285, 0.0, 0.0, 0.0, 0.0, 0.0, 0.0, 0.0, 0.0, 0.0, 0.0006361323155216285, 0.0, 0.0, 0.0, 0.0, 0.0, 0.0, 0.0, 0.0, 0.0, 0.0, 0.0006361323155216285, 0.0, 0.0, 0.0, 0.0006361323155216285, 0.0, 0.0, 0.0, 0.0, 0.0, 0.0, 0.0, 0.0, 0.0, 0.0, 0.0, 0.0, 0.0, 0.0, 0.0, 0.0, 0.0, 0.0, 0.0006361323155216285, 0.0, 0.0, 0.0, 0.0, 0.0, 0.0006361323155216285, 0.0, 0.0, 0.0, 0.0, 0.0, 0.0, 0.001272264631043257, 0.0, 0.0, 0.0, 0.0, 0.0, 0.0, 0.0, 0.0, 0.0006361323155216285, 0.0, 0.0006361323155216285, 0.0006361323155216285, 0.0, 0.0, 0.0006361323155216285, 0.0, 0.0, 0.0, 0.0, 0.001272264631043257, 0.0, 0.0, 0.0, 0.0, 0.0, 0.0, 0.0, 0.0, 0.0, 0.0, 0.0006361323155216285, 0.0019083969465648854, 0.0, 0.0, 0.0, 0.0, 0.0006361323155216285, 0.0, 0.0006361323155216285, 0.0006361323155216285, 0.0, 0.0, 0.0006361323155216285, 0.0, 0.0019083969465648854, 0.001272264631043257, 0.0, 0.0006361323155216285, 0.0, 0.0006361323155216285, 0.0019083969465648854, 0.0, 0.0006361323155216285, 0.001272264631043257, 0.0, 0.001272264631043257, 0.002544529262086514, 0.0, 0.003816793893129771, 0.0, 0.0031806615776081423, 0.001272264631043257, 0.0, 0.0, 0.0031806615776081423, 0.0, 0.004452926208651399, 0.002544529262086514, 0.0, 0.0031806615776081423, 0.0031806615776081423, 0.0, 0.001272264631043257, 0.0, 0.002544529262086514, 0.0, 0.0, 0.002544529262086514, 0.0006361323155216285, 0.0, 0.002544529262086514, 0.0019083969465648854, 0.0, 0.0006361323155216285, 0.0, 0.0006361323155216285, 0.001272264631043257, 0.0, 0.0006361323155216285, 0.001272264631043257, 0.0, 0.0, 0.0, 0.0, 0.0, 0.0006361323155216285, 0.0, 0.0, 0.0, 0.001272264631043257, 0.0006361323155216285, 0.0, 0.001272264631043257, 0.0006361323155216285, 0.0, 0.0, 0.0, 0.0, 0.0006361323155216285, 0.0, 0.0006361323155216285, 0.001272264631043257, 0.0, 0.0006361323155216285, 0.0, 0.0, 0.0, 0.0, 0.0, 0.0006361323155216285, 0.0, 0.0, 0.0006361323155216285, 0.0, 0.0, 0.0, 0.0, 0.0, 0.001272264631043257, 0.0, 0.0, 0.0, 0.0, 0.001272264631043257, 0.0, 0.0006361323155216285, 0.0006361323155216285, 0.0, 0.0, 0.0, 0.0, 0.0, 0.0006361323155216285, 0.0, 0.0, 0.001272264631043257, 0.0, 0.001272264631043257, 0.0, 0.0006361323155216285, 0.0, 0.0, 0.0, 0.0, 0.0, 0.001272264631043257, 0.0, 0.0, 0.0006361323155216285, 0.0, 0.0, 0.0, 0.0, 0.001272264631043257, 0.0, 0.0, 0.0, 0.0006361323155216285, 0.0, 0.0, 0.0, 0.0, 0.0, 0.0, 0.0006361323155216285, 0.0, 0.0, 0.0, 0.0006361323155216285, 0.0, 0.0006361323155216285, 0.0, 0.0, 0.0, 0.0, 0.0, 0.0006361323155216285, 0.0, 0.0, 0.001272264631043257, 0.0, 0.001272264631043257, 0.0, 0.0, 0.0, 0.0, 0.0, 0.0006361323155216285, 0.0, 0.001272264631043257, 0.0, 0.0, 0.0, 0.0, 0.0, 0.0, 0.0, 0.0, 0.0, 0.0, 0.0, 0.0, 0.0, 0.0006361323155216285, 0.002544529262086514, 0.0, 0.0, 0.0, 0.0, 0.0006361323155216285, 0.0, 0.0, 0.0006361323155216285, 0.0, 0.001272264631043257, 0.0, 0.0, 0.0, 0.0, 0.0, 0.0, 0.001272264631043257, 0.0, 0.0, 0.0, 0.0, 0.0, 0.0, 0.0006361323155216285, 0.0006361323155216285, 0.0, 0.0, 0.0, 0.0, 0.001272264631043257, 0.0, 0.0, 0.0006361323155216285, 0.0, 0.001272264631043257, 0.0, 0.0, 0.001272264631043257, 0.0, 0.0, 0.0, 0.0, 0.0, 0.0019083969465648854, 0.0, 0.0006361323155216285, 0.002544529262086514, 0.0, 0.0, 0.0, 0.0, 0.0031806615776081423, 0.0006361323155216285, 0.0, 0.0, 0.0006361323155216285, 0.0, 0.0006361323155216285, 0.0, 0.001272264631043257, 0.0006361323155216285, 0.0, 0.0, 0.001272264631043257, 0.0, 0.0, 0.0006361323155216285, 0.0, 0.0006361323155216285, 0.0, 0.001272264631043257, 0.001272264631043257, 0.0, 0.0006361323155216285, 0.0006361323155216285, 0.0, 0.0006361323155216285, 0.0006361323155216285, 0.0, 0.0, 0.002544529262086514, 0.0, 0.0006361323155216285, 0.0, 0.0006361323155216285, 0.0006361323155216285, 0.0, 0.0, 0.001272264631043257, 0.0, 0.0, 0.0, 0.0, 0.0019083969465648854, 0.0, 0.0006361323155216285, 0.001272264631043257, 0.0, 0.002544529262086514, 0.0006361323155216285, 0.0, 0.001272264631043257, 0.0006361323155216285, 0.0, 0.001272264631043257, 0.001272264631043257, 0.0, 0.0, 0.0, 0.001272264631043257, 0.004452926208651399, 0.0, 0.003816793893129771, 0.001272264631043257, 0.0, 0.0031806615776081423, 0.0006361323155216285, 0.0, 0.003816793893129771, 0.0, 0.0031806615776081423, 0.002544529262086514, 0.0, 0.0019083969465648854, 0.0, 0.0, 0.0019083969465648854, 0.001272264631043257, 0.0, 0.0019083969465648854, 0.0031806615776081423, 0.0, 0.002544529262086514, 0.0, 0.0019083969465648854, 0.006997455470737914, 0.0, 0.0031806615776081423, 0.0031806615776081423, 0.0, 0.010178117048346057, 0.007633587786259542, 0.0, 0.00826972010178117, 0.0, 0.007633587786259542, 0.0031806615776081423, 0.0, 0.003816793893129771, 0.006997455470737914, 0.0, 0.006997455470737914, 0.004452926208651399, 0.0, 0.005089058524173028, 0.002544529262086514, 0.0, 0.004452926208651399, 0.0, 0.006997455470737914, 0.0019083969465648854, 0.0, 0.0006361323155216285, 0.0, 0.0, 0.0, 0.0, 0.0, 0.0, 0.0, 0.0, 0.001272264631043257, 0.0, 0.0, 0.0, 0.0, 0.001272264631043257, 0.0006361323155216285, 0.0, 0.0006361323155216285, 0.0, 0.0, 0.0, 0.0, 0.0, 0.0, 0.0, 0.0, 0.0, 0.0, 0.0, 0.0, 0.0, 0.0, 0.0, 0.0, 0.0006361323155216285, 0.0, 0.0, 0.0, 0.0, 0.0, 0.0, 0.0, 0.0, 0.0, 0.0, 0.0, 0.0, 0.0, 0.0, 0.0, 0.0, 0.0, 0.0, 0.0, 0.0, 0.0, 0.0, 0.0, 0.0, 0.0, 0.0, 0.0, 0.0, 0.0, 0.0, 0.0, 0.0, 0.0, 0.0, 0.0, 0.0, 0.0, 0.0, 0.0, 0.0, 0.0, 0.0, 0.0, 0.0, 0.0, 0.0, 0.0, 0.0, 0.0, 0.0, 0.0, 0.0, 0.0, 0.0, 0.0, 0.0, 0.0, 0.0, 0.0, 0.0, 0.0, 0.0, 0.0, 0.0, 0.0, 0.0, 0.0, 0.0, 0.0, 0.0, 0.0, 0.0, 0.0, 0.0, 0.0, 0.0, 0.0, 0.0, 0.0, 0.0, 0.0, 0.0, 0.0, 0.0, 0.0, 0.0, 0.0, 0.0, 0.0, 0.0, 0.0, 0.0, 0.0, 0.0, 0.0, 0.0, 0.0, 0.0, 0.0, 0.0, 0.0, 0.0, 0.0, 0.0, 0.0, 0.0, 0.0, 0.0, 0.0, 0.0, 0.0, 0.0, 0.0, 0.0, 0.0, 0.0, 0.0, 0.0, 0.0, 0.0, 0.0, 0.0, 0.0, 0.0, 0.0, 0.0, 0.0, 0.0, 0.0, 0.0, 0.0, 0.0, 0.0, 0.0, 0.0, 0.0, 0.0, 0.0, 0.0, 0.0, 0.0, 0.0, 0.0, 0.0, 0.0, 0.0, 0.0, 0.0, 0.0, 0.0, 0.0, 0.0, 0.0, 0.0, 0.0, 0.0, 0.0, 0.0, 0.0, 0.0, 0.0, 0.0, 0.0, 0.0, 0.0, 0.0, 0.0, 0.0, 0.0, 0.0, 0.0, 0.0, 0.0, 0.0, 0.0, 0.0, 0.0, 0.0, 0.0, 0.0, 0.0, 0.0, 0.0, 0.0, 0.0, 0.0, 0.0, 0.0, 0.0, 0.0, 0.0, 0.0, 0.0, 0.0, 0.0, 0.0, 0.0, 0.0, 0.0, 0.0, 0.0, 0.0, 0.0, 0.0, 0.0, 0.0, 0.0, 0.0, 0.0, 0.0, 0.0, 0.0, 0.0, 0.0, 0.0, 0.0, 0.0, 0.0, 0.0, 0.0, 0.0, 0.0, 0.0, 0.0, 0.0, 0.0, 0.0, 0.0, 0.0, 0.0, 0.0, 0.0, 0.0, 0.0, 0.0, 0.0, 0.0, 0.0, 0.0, 0.0, 0.0, 0.0, 0.0, 0.0, 0.0, 0.0, 0.0, 0.0, 0.0, 0.0, 0.0, 0.0, 0.0, 0.0, 0.0, 0.0, 0.0, 0.0, 0.0, 0.0, 0.0, 0.0, 0.0, 0.0, 0.0, 0.0, 0.0, 0.0, 0.0, 0.0, 0.0, 0.0, 0.0, 0.0, 0.0, 0.0, 0.0, 0.0, 0.0, 0.0, 0.0, 0.0, 0.0, 0.0, 0.0, 0.0, 0.0, 0.0, 0.0, 0.0, 0.0, 0.0, 0.0, 0.0, 0.0, 0.0, 0.0, 0.0, 0.0, 0.0, 0.0, 0.0, 0.0, 0.0, 0.0, 0.0, 0.0, 0.0, 0.0, 0.0, 0.0, 0.0, 0.0, 0.0, 0.0, 0.0, 0.0, 0.0, 0.0, 0.0, 0.0, 0.0, 0.0, 0.0, 0.0, 0.0, 0.0, 0.0, 0.0, 0.0, 0.0, 0.0, 0.0, 0.0, 0.0, 0.0, 0.0, 0.0, 0.0, 0.0, 0.0, 0.0, 0.0, 0.0, 0.0, 0.0, 0.0, 0.0, 0.0, 0.0, 0.0, 0.0, 0.0, 0.0, 0.0, 0.0, 0.0, 0.0, 0.0, 0.0, 0.0, 0.0, 0.0, 0.0, 0.0, 0.0, 0.0, 0.0, 0.0, 0.0, 0.0, 0.0, 0.0, 0.0, 0.0, 0.0, 0.0, 0.0, 0.0, 0.0, 0.0, 0.0, 0.0, 0.0, 0.0, 0.0, 0.0, 0.0, 0.0, 0.0, 0.0, 0.0, 0.0, 0.0, 0.0, 0.0, 0.0, 0.0, 0.0, 0.0, 0.0, 0.0, 0.0, 0.0, 0.0, 0.0, 0.0, 0.0, 0.0, 0.0, 0.0, 0.0, 0.0, 0.0, 0.0, 0.0, 0.0, 0.0, 0.0, 0.0, 0.0, 0.0, 0.0, 0.0, 0.0, 0.0, 0.0, 0.0, 0.0, 0.0, 0.0, 0.0, 0.0, 0.0, 0.0, 0.0, 0.0, 0.0, 0.0, 0.0, 0.0, 0.0, 0.0, 0.0, 0.0, 0.0, 0.0, 0.0, 0.0, 0.0, 0.0, 0.0, 0.0, 0.0, 0.0, 0.0, 0.0, 0.0, 0.0, 0.0, 0.0, 0.0, 0.0, 0.0, 0.0, 0.0, 0.0, 0.0, 0.0, 0.0, 0.0, 0.0, 0.0, 0.0, 0.0, 0.0, 0.0, 0.0, 0.0, 0.0, 0.0, 0.0, 0.0, 0.0, 0.0, 0.0, 0.0, 0.0, 0.0, 0.0, 0.0, 0.0, 0.0, 0.0, 0.0, 0.0, 0.0, 0.0, 0.0, 0.0, 0.0, 0.0, 0.0, 0.0, 0.0, 0.0, 0.0, 0.0, 0.0, 0.0, 0.0, 0.0, 0.0, 0.0, 0.0, 0.0, 0.0, 0.0, 0.0, 0.0, 0.0, 0.0, 0.0, 0.0, 0.0, 0.0, 0.0, 0.0, 0.0, 0.0, 0.0, 0.0, 0.0, 0.0, 0.0, 0.0, 0.0, 0.0, 0.0, 0.0, 0.0, 0.0, 0.0, 0.0, 0.0, 0.0, 0.0, 0.0, 0.0, 0.0, 0.0, 0.0, 0.0, 0.0, 0.0, 0.0, 0.0, 0.0, 0.0, 0.0, 0.0, 0.0, 0.0, 0.0, 0.0, 0.0, 0.0, 0.0, 0.0, 0.0, 0.0, 0.0, 0.0, 0.0, 0.0, 0.0, 0.0, 0.0, 0.0, 0.0, 0.0, 0.0, 0.0, 0.0, 0.0, 0.0, 0.0, 0.0, 0.0, 0.0, 0.0, 0.0, 0.0, 0.0, 0.0, 0.0, 0.0, 0.0, 0.0, 0.0, 0.0, 0.0, 0.0, 0.0, 0.0, 0.0, 0.0, 0.0, 0.0, 0.0, 0.0, 0.0, 0.0, 0.0, 0.0, 0.0, 0.0, 0.0, 0.0, 0.0, 0.0, 0.0, 0.0, 0.0, 0.0, 0.0, 0.0, 0.0, 0.0, 0.0, 0.0, 0.0, 0.0, 0.0, 0.0, 0.0, 0.0, 0.0, 0.0, 0.0, 0.0, 0.0, 0.0, 0.0, 0.0, 0.0, 0.0, 0.0, 0.0, 0.0, 0.0, 0.0, 0.0, 0.0, 0.0, 0.0, 0.0, 0.0, 0.0, 0.0, 0.0, 0.0, 0.0, 0.0, 0.0, 0.0, 0.0, 0.0, 0.0, 0.0, 0.0, 0.0, 0.0, 0.0, 0.0, 0.0, 0.0, 0.0, 0.0, 0.0, 0.0, 0.0, 0.0, 0.0, 0.0, 0.0, 0.0, 0.0, 0.0, 0.0, 0.0, 0.0, 0.0, 0.0, 0.0, 0.0, 0.0, 0.0, 0.0, 0.0, 0.0, 0.0, 0.0, 0.0, 0.0, 0.0, 0.0, 0.0, 0.0, 0.0, 0.0, 0.0, 0.0, 0.0, 0.0, 0.0, 0.0, 0.0, 0.0, 0.0, 0.0, 0.0, 0.0, 0.0, 0.0, 0.0, 0.0, 0.0, 0.0, 0.0, 0.0, 0.0, 0.0, 0.0, 0.0, 0.0, 0.0, 0.0, 0.0, 0.0, 0.0, 0.0, 0.0, 0.0, 0.0, 0.0, 0.0, 0.0, 0.0, 0.0, 0.0, 0.0, 0.0, 0.0, 0.0, 0.0, 0.0, 0.0, 0.0, 0.0, 0.0, 0.0, 0.0, 0.0, 0.0, 0.0, 0.0, 0.0, 0.0, 0.0, 0.0, 0.0, 0.0, 0.0, 0.0, 0.0, 0.0, 0.0, 0.0, 0.0, 0.0, 0.0, 0.0, 0.0, 0.0, 0.0, 0.0, 0.0, 0.0, 0.0, 0.0, 0.0, 0.0, 0.0, 0.0, 0.0, 0.0, 0.0, 0.0, 0.0, 0.0, 0.0, 0.0, 0.0, 0.0, 0.0, 0.0, 0.0, 0.0, 0.0, 0.0, 0.0, 0.0, 0.0, 0.0, 0.0, 0.0, 0.0, 0.0, 0.0, 0.0, 0.0, 0.0, 0.0, 0.0, 0.0, 0.0, 0.0, 0.0, 0.0, 0.0, 0.0, 0.0, 0.0, 0.0, 0.0, 0.0, 0.0, 0.0, 0.0, 0.0, 0.0, 0.0, 0.0, 0.0, 0.0, 0.0, 0.0, 0.0, 0.0, 0.0, 0.0, 0.0, 0.0, 0.0, 0.0, 0.0, 0.0, 0.0, 0.0, 0.0, 0.0, 0.0, 0.0, 0.0, 0.0, 0.0, 0.0, 0.0, 0.0, 0.0, 0.0, 0.0, 0.0, 0.0, 0.0, 0.0, 0.0, 0.0, 0.0, 0.0, 0.0, 0.0, 0.0, 0.0, 0.0, 0.0, 0.0, 0.0, 0.0, 0.0, 0.0, 0.0, 0.0, 0.0, 0.0, 0.0, 0.0, 0.0, 0.0, 0.0, 0.0, 0.0, 0.0, 0.0, 0.0, 0.0, 0.0, 0.0, 0.0, 0.0, 0.0, 0.0, 0.0, 0.0, 0.0, 0.0, 0.0, 0.0, 0.0, 0.0, 0.0, 0.0, 0.0, 0.0, 0.0, 0.0, 0.0, 0.0, 0.0, 0.0, 0.0, 0.0, 0.0, 0.0, 0.0, 0.0, 0.0, 0.0, 0.0, 0.0, 0.0, 0.0, 0.0, 0.0, 0.0, 0.0, 0.0, 0.0, 0.0, 0.0, 0.0, 0.0, 0.0, 0.0, 0.0, 0.0, 0.0, 0.0, 0.0, 0.0, 0.0, 0.0, 0.0, 0.0, 0.0, 0.0, 0.0, 0.0, 0.0, 0.0, 0.0, 0.0, 0.0, 0.0, 0.0, 0.0, 0.0, 0.0, 0.0, 0.0, 0.0, 0.0, 0.0, 0.0, 0.0, 0.0, 0.0, 0.0, 0.0, 0.0, 0.0, 0.0, 0.0, 0.0, 0.0, 0.0, 0.0, 0.0, 0.0, 0.0, 0.0, 0.0, 0.0, 0.0, 0.0, 0.0, 0.0, 0.0, 0.0, 0.0, 0.0, 0.0, 0.0, 0.0, 0.0], 'gamaka_data': [[nan, nan, nan, nan, nan, nan, nan, nan, nan, nan, nan, nan, nan, nan, nan, nan, nan, nan, nan, nan, nan, nan, nan, nan, nan, nan, nan, nan, nan, nan, nan, nan, nan, nan, nan, nan, nan, nan, nan, nan, nan, nan, nan, nan, nan, nan, nan, nan, nan, nan, nan, nan, nan, nan, nan, nan, nan, nan, nan, nan, nan, nan, nan, nan, nan, nan, nan, nan, nan, nan, nan, nan, nan, nan, nan, nan, nan, nan, nan, nan, nan, nan, nan, nan, nan, nan, nan, nan, nan, nan, nan, 1.1895329057695712, 1.0020329057695632, 0.8614079057695612, 0.7051579057695568, 0.5645329057695535], [0.15828290576954138, 0.14265790576954573, 0.14265790576954573, 0.15828290576954138, 0.1739079057695376, 0.18953290576954712, 0.20515790576954307, 0.20515790576954307, 0.20515790576954307, 0.18953290576954712, 0.1739079057695376, 0.11140790576954053, 0.0020329057695340482, -0.1854670942304655, -0.5760920942304836, -1.2948420942305006, -1.4042170942305077, -1.6698420942305132, -1.6698420942305132, -1.591717094230507, -1.3885920942305023, -1.2635920942304975, -0.997967094230495, -0.8417170942304872, -0.6698420942304846, -0.5135920942304768, -0.20109209423047306, 0.0020329057695340482, 0.08015790576953832, 0.11140790576954053, 0.09578290576953366, 0.08015790576953832, 0.09578290576953366], [-0.04484209423046579, -0.02921709423046978, -0.013592094230461715, -0.013592094230461715, -0.04484209423046579, -0.06046709423046273, -0.06046709423046273, -0.02921709423046978, -0.013592094230461715, 0.0020329057695340482, 0.0020329057695340482, 0.03328290576954043, 0.08015790576953832, 0.20515790576954307, 0.5489079057695472, 0.8301579057695572, 1.3614079057695747, 2.0489079057695885, 2.892657905769624, 3.673907905769637, 4.04890790576965, 4.392657905769665, 4.533282905769667, 4.595782905769662, 4.627032905769666, 4.517657905769668, 4.392657905769665, 4.267657905769662, 4.04890790576965, 3.830157905769645, 3.564532905769642, 3.3457829057696267, 3.1114079057696267, 2.9082829057696196, 2.752032905769612, 2.6270329057696107, 2.4864079057696107, 2.3145329057696054, 2.1582829057695982, 2.0489079057695885, 1.9239079057695894, 1.7989079057695834, 1.3614079057695747, 0.9707829057695567, 0.8614079057695612, 0.6895329057695607, 0.7520329057695546, 1.5020329057695776, nan, 3.5332829057696378, 4.236407905769658, 4.580157905769665, 4.673907905769666, 4.595782905769662, 4.56453290576967, 4.533282905769667, 4.502032905769662, 4.470782905769658, 4.42390790576966, 4.377032905769658, 4.361407905769663, 4.330157905769656, 4.236407905769658, 4.080157905769651, 3.986407905769652, 3.9082829057696484, 3.7989079057696413, 3.6114079057696387, 3.3770329057696324, 2.986407905769625, 2.548907905769607, 2.2364079057696014, 1.8770329057695896, 1.72078290576958, 1.642657905769587, 1.5645329057695845, 1.7364079057695894, 2.0020329057695903, 2.2832829057696022, 2.705157905769612, 2.9395329057696253, 3.2051579057696253, 3.3614079057696338, 3.5489079057696324, 3.736407905769643, 3.845782905769642, 3.9395329057696515, 4.033282905769652, 4.080157905769651], [3.970782905769644, 3.955157905769648, 3.9395329057696515, 3.923907905769645, 3.923907905769645, 3.9395329057696515, 3.970782905769644, 4.033282905769652, 4.142657905769658, 4.267657905769662, 4.439532905769665, 4.595782905769662, 4.783282905769683, 4.955157905769677, 5.048907905769679, 5.095782905769679, 5.095782905769679, 5.080157905769671, 4.970782905769683, 4.861407905769676, 4.689532905769672, 4.517657905769668, 4.377032905769658, 4.267657905769662, 4.189532905769658, 4.111407905769654, 4.064532905769655, 4.017657905769657, 3.986407905769652, 3.955157905769648, 3.955157905769648, 3.970782905769644, 3.986407905769652, 4.017657905769657, 4.064532905769655, 4.142657905769658, 4.283282905769659, 4.470782905769658, 4.61140790576967, 4.767657905769677, 4.892657905769667, 4.9864079057696715, 5.048907905769679, 5.048907905769679, 4.9864079057696715, 4.877032905769681, 4.642657905769674, 4.455157905769661, 4.22078290576965, 4.080157905769651, 3.9082829057696484, 3.783282905769645, 3.7051579057696413, 3.6582829057696413, 3.689532905769645, 3.736407905769643, 3.783282905769645, 3.7676579057696493, 3.7207829057696373, 3.783282905769645, 3.845782905769642, 4.0020329057696475, 4.189532905769658, 4.283282905769659, 4.377032905769658, 4.377032905769658, nan, nan, nan, 4.2520329057696555, 4.314532905769663, 4.377032905769658, nan, nan, nan, nan, 7.189532905769735, 7.127032905769749, 7.0332829057697275, 7.002032905769733, 7.01765790576972], [7.267657905769746, 7.267657905769746, 7.283282905769753, 7.283282905769753, 7.267657905769746, 7.236407905769753, 7.220782905769749, 7.173907905769747, 7.142657905769735, 7.095782905769732, 7.002032905769733, 6.814532905769735, 6.580157905769711, 6.3301579057697275, 4.845782905769669, 4.314532905769663, 4.142657905769658, 4.111407905769654, 3.3770329057696324, 2.9395329057696253, 2.986407905769625, 3.1426579057696307, 4.56453290576967, 6.611407905769725, 6.9864079057697275], [7.189532905769735, 7.189532905769735, 7.189532905769735, 7.189532905769735, 7.220782905769749, 7.236407905769753, 7.267657905769746, 7.267657905769746, 7.25203290576976, 7.236407905769753, 7.25203290576976, 7.236407905769753, 7.236407905769733, 7.236407905769753, 7.267657905769746, 7.314532905769749, 7.439532905769739, 7.752032905769777, 8.127032905769775, 8.595782905769777, 9.345782905769818, 9.970782905769825, 10.502032905769832, 11.048907905769845, 11.345782905769877, 11.564532905769846, 11.705157905769868, 11.736407905769882, 11.767657905769877, 11.783282905769882, 11.814532905769877, 11.798907905769887, 11.752032905769887, 11.689532905769859, 11.59578290576986, 11.50203290576986, 11.345782905769877, 11.205157905769854, 11.048907905769845, 10.75203290576986, 10.47078290576984, 10.189532905769816, 9.892657905769811, 9.564532905769788, 9.408282905769804, 9.111407905769797, 8.923907905769797, 8.752032905769804, 8.595782905769777, 8.47078290576978, 8.236407905769783, 7.845782905769775, 8.533282905769767, 9.627032905769818, 10.033282905769811, 10.283282905769841, 10.502032905769832, 10.798907905769859, 11.095782905769846, 11.955157905769875, 12.080157905769866, 12.15828290576988, 12.142657905769877, 12.03328290576987, 11.908282905769877, 11.767657905769877, 11.689532905769859, 11.564532905769846, 11.455157905769862, 11.26765790576986, 11.080157905769841, 10.845782905769859, 10.580157905769825, 10.345782905769848, 10.064532905769802, 9.72078290576982, 9.595782905769806, 9.470782905769811, 9.33015790576981, 9.220782905769802, 9.205157905769799, 9.205157905769799, 9.252032905769816, 9.205157905769799, 9.189532905769791, 9.28328290576981, 9.37703290576981, 9.502032905769802, 9.689532905769804, 9.939532905769811, 10.158282905769827, 10.517657905769816, 10.845782905769859, 11.189532905769846, 11.470782905769866, 11.736407905769882, 11.93953290576987], [12.298907905769902, 12.252032905769902, 12.220782905769887, 12.205157905769884, 12.173907905769887, 12.252032905769902, 12.220782905769887, 12.236407905769898, 12.267657905769891, 12.267657905769891, 12.283282905769894, 12.267657905769891, 12.283282905769894, 12.298907905769902, 12.252032905769902, 12.15828290576988, 11.970782905769882, 11.720782905769875, 11.455157905769862, 10.75203290576986, 8.908282905769791, nan, nan, nan, nan, nan, nan, nan, nan, nan, nan, nan, nan], [12.205157905769884, 12.236407905769898, 12.252032905769902, 12.220782905769887, 12.205157905769884, 12.283282905769894, 12.345782905769905, 12.283282905769894, 12.11140790576988, 12.11140790576988, 11.955157905769875, nan, nan, nan, nan, nan, nan, nan, 12.15828290576988, nan, nan, nan, nan, nan, nan, nan, nan, nan, nan, nan, nan, nan, nan, nan, nan, nan, nan, nan, nan, nan, nan, nan, nan, nan, nan, nan, nan, nan, nan, nan, nan, nan, nan, nan, nan, nan, nan, nan, nan, nan, nan, nan, nan, nan, nan, nan, nan, nan, nan, nan, nan, nan, nan, nan, nan, nan, nan, nan, nan, nan, nan, nan, nan, nan, nan, nan, nan, nan, nan, nan, nan, nan, nan, nan, nan, nan, nan, nan, nan, nan, 9.048907905769791, 9.064532905769777, 9.048907905769791, 8.923907905769797, 8.970782905769797, 9.080157905769784, 9.189532905769791, 9.267657905769804, 9.28328290576981, 9.267657905769804, 9.252032905769816, 9.28328290576981, 9.345782905769818, 9.408282905769804, 9.455157905769804, 9.486407905769799, nan, nan, nan, 9.830157905769825, 9.95515790576982, 10.064532905769802, 10.158282905769827, 10.236407905769816, 10.408282905769832, 10.59578290576983, 10.736407905769834, 10.830157905769852, 10.986407905769838, 11.12703290576986, 11.26765790576986, 11.439532905769852, 11.517657905769848, 11.611407905769848, 11.642657905769862, 11.736407905769882, 11.798907905769887], [12.111407905769862, 12.080157905769866, 11.861407905769877, 11.861407905769877, 11.87703290576988, 11.87703290576988, 11.845782905769887, 11.642657905769862, 11.564532905769846, 11.861407905769877, 11.908282905769877, 11.93953290576987, 12.017657905769859, 12.064532905769859, 12.048907905769873, 12.111407905769862, 12.11140790576988], [12.017657905769859, 11.970782905769882, 11.970782905769882, 11.955157905769875, 11.93953290576987, 11.923907905769884, 11.908282905769877, 11.87703290576988, 11.861407905769877, 11.814532905769877, 11.720782905769875, 11.580157905769855, 11.470782905769866, 11.36140790576986, 11.26765790576986, 11.220782905769859, 11.220782905769859, 11.189532905769846, 11.220782905769859, 11.26765790576986, 11.283282905769866, 11.330157905769866, 11.392657905769854, 11.423907905769868, 11.486407905769855, 11.564532905769846, 11.314532905769859, 10.923907905769852, 10.09578290576982, 10.75203290576986, 11.095782905769846, 11.12703290576986, 11.189532905769846], [12.330157905769894, 12.314532905769887, 12.314532905769887, 12.330157905769894, 12.345782905769905, 12.345782905769905, 12.345782905769905, 12.314532905769887, 12.298907905769902, 12.205157905769884, 12.080157905769866, 11.98640790576987, 11.93953290576987, 11.861407905769877, 11.689532905769859, 11.533282905769855, 11.392657905769854, 11.220782905769859, 11.002032905769846, 10.75203290576986, 10.59578290576983, 10.392657905769823, 10.236407905769816, 10.080157905769813, 9.939532905769811, 9.736407905769802, 9.627032905769818, 9.502032905769802, 9.470782905769811, 9.42390790576981, 9.392657905769797, 9.37703290576981, 9.33015790576981], [9.205157905769799, 9.205157905769799, 9.173907905769804, 9.158282905769797, 9.189532905769791, 9.220782905769802, 9.252032905769816, 9.314532905769806, 9.37703290576981, 9.408282905769804, 9.42390790576981, 9.42390790576981, 9.408282905769804, 9.37703290576981, 9.298907905769816, 9.173907905769804, 9.095782905769791, 9.048907905769791, 9.002032905769791, 8.98640790576978, 9.03328290576978, 9.111407905769775, 9.158282905769797, 9.189532905769791, 9.267657905769804, 9.314532905769806, 9.345782905769818, 9.345782905769818, 9.314532905769806, 9.314532905769806, 9.267657905769804, 9.189532905769791, 9.064532905769777, 8.923907905769797, 8.798907905769804, 8.705157905769783, 8.689532905769775, 8.798907905769804, 9.111407905769775, 9.595782905769806, 10.080157905769813, 10.517657905769816, 10.923907905769852, 11.26765790576986, 11.736407905769859, 12.470782905769902, 12.720782905769905, 12.298907905769902, nan, nan, nan, nan, nan, nan, nan, nan, nan, nan, nan, nan, 9.252032905769816, 9.439532905769795, 9.642657905769806, 9.72078290576982, 9.892657905769811, 9.79890790576983, 9.705157905769811, 9.611407905769788, 9.267657905769804, 8.720782905769791, 8.28328290576978, 8.033282905769752, 7.78328290576977], [7.15828290576974, 7.127032905769749, 7.127032905769749, 7.142657905769735, 7.189532905769735, 7.220782905769749, 7.189532905769735, 7.127032905769749, 7.002032905769733, 6.798907905769746, 6.752032905769746, 6.752032905769746, 6.642657905769718, 6.439532905769713, 6.033282905769696, 4.580157905769665, 4.22078290576965], [4.392657905769665, 4.455157905769661, 4.502032905769662, 4.56453290576967, 4.673907905769666, 4.752032905769669, 4.798907905769671, 4.845782905769669, 4.830157905769687, 4.830157905769687, 4.752032905769669, 4.595782905769662, 4.470782905769658, 4.267657905769662, 4.080157905769651, 3.955157905769648, 3.783282905769645, 3.7051579057696413, 3.6270329057696378, 3.595782905769634, 3.6270329057696378, 3.673907905769637, 3.7676579057696493, 3.8770329057696444, 4.033282905769652, 4.22078290576965, 4.392657905769665, 4.595782905769662, 4.752032905769669, 4.814532905769679, 4.923907905769684, 4.939532905769669, 4.955157905769677, 4.923907905769684, 4.877032905769681, 4.830157905769687, 4.830157905769687, 4.830157905769687, 4.798907905769671, 4.798907905769671, 4.814532905769679, 4.830157905769687, 4.861407905769676, 4.923907905769684, 4.970782905769683, 5.064532905769662, 5.158282905769685, 5.205157905769687, 5.252032905769705, 5.252032905769705, 5.158282905769685, 5.002032905769676, 4.908282905769674, 4.752032905769669, 4.642657905769674, 4.517657905769668, 4.142657905769658], [4.033282905769652, 4.017657905769657, 4.017657905769657, 4.04890790576965, 4.095782905769646, 4.1582829057696555, 4.267657905769662, 4.361407905769663, 4.42390790576966, 4.42390790576966, 4.361407905769663, 4.283282905769659, 4.173907905769651, 4.033282905769652, 3.923907905769645, 3.81453290576965, 3.752032905769642, 3.7207829057696373, 3.7207829057696373, 3.7989079057696413, 3.9082829057696484, 4.04890790576965, 4.189532905769658, 4.283282905769659, 4.330157905769656, 4.345782905769655, 4.330157905769656, 4.314532905769663, 4.22078290576965, 4.111407905769654, 4.0020329057696475, 3.8926579057696515, 3.81453290576965], [3.783282905769645, 3.7207829057696373, 3.564532905769642, 3.267657905769635, 3.1426579057696307, 3.1895329057696307, 3.2832829057696316, 3.3770329057696324, 3.4707829057696302, 3.6582829057696413, 3.830157905769645, 3.986407905769652, 4.142657905769658, 4.22078290576965, 4.2989079057696555, 4.314532905769663, 4.283282905769659, 4.283282905769659, 4.2520329057696555, 4.22078290576965, 4.189532905769658, 4.127032905769653, 4.064532905769655, 4.017657905769657, 3.8614079057696484, 3.752032905769642, 3.5801579057696387, 3.4239079057696324, 3.2051579057696253, 3.0176579057696253, 2.8301579057696156, 2.6426579057696156, 2.4707829057696022, 2.2832829057696022, 2.1426579057696, 1.9864079057695938, 1.892657905769596, 1.845782905769582, 1.8770329057695896, 1.955157905769589, 2.0957829057695907, 2.3457829057696005, 2.767657905769621, 3.127032905769621, 3.8614079057696484, 4.502032905769662, 4.892657905769667, 5.111407905769684, 5.220782905769692, 5.220782905769692, 5.142657905769676, 5.002032905769676, 4.752032905769669, 4.408282905769661, 3.9082829057696484, 3.642657905769644, 3.2051579057696253, 2.9082829057696196, 2.658282905769611, 2.502032905769603, 2.3770329057696022, 2.2676579057696067, 2.173907905769595, 2.1114079057695987, 2.0801579057695943], [2.0489079057695885, 2.0489079057695885, 2.0489079057695885, 2.017657905769598, 2.017657905769598, 2.0489079057695885, 2.1114079057695987, 2.252032905769597, 2.3770329057696022, 2.502032905769603, 2.7207829057696085, 2.7989079057696133, 2.845782905769612, 2.752032905769612, 2.4239079057695996, 2.0332829057695925, 1.642657905769587, 1.2364079057695745, nan, nan, nan, nan, nan, nan, nan, nan, nan, nan, nan, nan, nan, nan, nan, 0.9551579057695636, 0.8770329057695608, 0.5176579057695538, 0.33015790576954546, 0.20515790576954307, 0.12703290576953913, 0.08015790576953832, 0.0020329057695340482]]}]\n",
            "Name: kalyani_0_song\n",
            "Name: Shankarabharana_song\n"
          ],
          "name": "stdout"
        }
      ]
    },
    {
      "cell_type": "code",
      "metadata": {
        "id": "DN7sEetPZXJ7",
        "colab_type": "code",
        "colab": {
          "base_uri": "https://localhost:8080/",
          "height": 74
        },
        "outputId": "c21bfa2f-a564-4574-93ee-0f9e842a0574"
      },
      "source": [
        "def delete_song_data(name):\n",
        "   with open(\"/content/drive/My Drive/Projects/AA/Audio_data.txt\") as read_json_file: \n",
        "      \n",
        "    # read data line by line  \n",
        "    data = json.load(read_json_file)\n",
        "      \n",
        "# open file in write mode \n",
        "   with open(\"/content/drive/My Drive/Projects/AA/Audio_data.txt\", \"w\") as write_json_file: \n",
        "        for p in data['songs']:\n",
        "           if(p['song_name']==name):\n",
        "             print(\"hi\")\n",
        "             p.clear()\n",
        "          # print(p['song_name'])\n",
        "        print(data)\n",
        "        json.dump(data, write_json_file)    \n",
        "delete_song_data(\"Shankarabharana_song\") "
      ],
      "execution_count": null,
      "outputs": [
        {
          "output_type": "stream",
          "text": [
            "hi\n",
            "{'songs': [{}, {'song_name': 'kalyani_0_song', 'pattern_data': [], 'hist_data': [0.0, 0.0, 0.0, 0.0, 0.0, 0.0, 0.0, 0.0, 0.0, 0.0, 0.0, 0.0, 0.0, 0.0, 0.0, 0.0, 0.0, 0.0, 0.0, 0.0, 0.0, 0.0, 0.0, 0.0, 0.0, 0.0, 0.0, 0.0, 0.0, 0.0, 0.0, 0.0, 0.0, 0.0, 0.0, 0.0, 0.0, 0.0, 0.0, 0.0, 0.0, 0.0, 0.0, 0.0, 0.0, 0.0, 0.0, 0.0, 0.0, 0.0, 0.0, 0.0, 0.0, 0.0, 0.0, 0.0, 0.0, 0.0, 0.0, 0.0, 0.0, 0.0, 0.0, 0.0, 0.0, 0.0, 0.0, 0.0, 0.0, 0.0, 0.0, 0.0, 0.0, 0.0, 0.0, 0.0, 0.0, 0.0, 0.0, 0.0, 0.0, 0.0, 0.0, 0.0, 0.0, 0.0, 0.0, 0.0, 0.0, 0.0, 0.0, 0.0, 0.0, 0.0, 0.0, 0.0, 0.0, 0.0, 0.0, 0.0, 0.0, 0.0, 0.0, 0.0, 0.0, 0.0, 0.0, 0.0, 0.0, 0.0, 0.0, 0.0, 0.0, 0.0, 0.0, 0.0, 0.0, 0.0, 0.0, 0.0, 0.0, 0.0, 0.0, 0.0, 0.0, 0.0, 0.0, 0.0, 0.0, 0.0, 0.0, 0.0, 0.0, 0.0, 0.0, 0.0, 0.0, 0.0, 0.0, 0.0, 0.0, 0.0, 0.0, 0.0, 0.0, 0.0, 0.0, 0.0, 0.0, 0.0, 0.0, 0.0, 0.0, 0.0, 0.0, 0.0, 0.0, 0.0, 0.0, 0.0, 0.0, 0.0, 0.0, 0.0, 0.0, 0.0, 0.0, 0.0, 0.0, 0.0, 0.0, 0.0, 0.0, 0.0, 0.0, 0.0, 0.0, 0.0, 0.0, 0.0, 0.0, 0.0, 0.0, 0.0, 0.0, 0.0, 0.0, 0.0, 0.0, 0.0, 0.0, 0.0, 0.0, 0.0, 0.0, 0.0, 0.0, 0.0, 0.0, 0.0, 0.0, 0.0, 0.0, 0.0, 0.0, 0.0, 0.0, 0.0, 0.0, 0.0, 0.0, 0.0, 0.0, 0.0, 0.0, 0.0, 0.0, 0.0, 0.0, 0.0, 0.0, 0.0, 0.0, 0.0, 0.0, 0.0, 0.0, 0.0, 0.0, 0.0, 0.0, 0.0, 0.0, 0.0, 0.0, 0.0, 0.0, 0.0, 0.0, 0.0, 0.0, 0.0, 0.0, 0.0, 0.0, 0.0, 0.0, 0.0, 0.0, 0.0, 0.0, 0.0, 0.0, 0.0, 0.0, 0.0, 0.0, 0.0, 0.0, 0.0, 0.0, 0.0, 0.0, 0.0, 0.0, 0.0, 0.0, 0.0, 0.0, 0.0, 0.0, 0.0, 0.0, 0.0, 0.0, 0.0, 0.0, 0.0, 0.0, 0.0, 0.0, 0.0, 0.0, 0.0, 0.0, 0.0, 0.0, 0.0, 0.0, 0.0, 0.0, 0.0, 0.0, 0.0, 0.0, 0.0, 0.0, 0.0, 0.0, 0.0, 0.0, 0.0, 0.0, 0.0, 0.0, 0.0, 0.0, 0.0, 0.0, 0.0, 0.0, 0.0, 0.0, 0.0, 0.0, 0.0, 0.0, 0.0, 0.0, 0.0, 0.0, 0.0, 0.0, 0.0, 0.0, 0.0, 0.0, 0.0, 0.0, 0.0, 0.0, 0.0, 0.0, 0.0, 0.0, 0.0, 0.0, 0.0, 0.0, 0.0, 0.0, 0.0, 0.0, 0.0, 0.0, 0.0, 0.0, 0.0, 0.0, 0.0, 0.0, 0.0, 0.0, 0.0, 0.0, 0.0, 0.0, 0.0, 0.0, 0.0, 0.0, 0.0, 0.0, 0.0, 0.0, 0.0, 0.0, 0.0, 0.0, 0.0, 0.0, 0.0, 0.0, 0.0, 0.0, 0.0, 0.0, 0.0, 0.0, 0.0, 0.0, 0.0, 0.0, 0.0, 0.0, 0.0, 0.0, 0.0, 0.0, 0.0, 0.0, 0.0, 0.0, 0.0, 0.0, 0.0, 0.0, 0.0, 0.0, 0.0, 0.0, 0.0, 0.0, 0.0, 0.0, 0.0, 0.0, 0.0, 0.0, 0.0, 0.0, 0.0, 0.0, 0.0, 0.0, 0.0, 0.0, 0.0, 0.0, 0.0, 0.0, 0.0, 0.0, 0.0, 0.0, 0.0, 0.0, 0.0, 0.0, 0.0, 0.0, 0.0, 0.0, 0.0, 0.0, 0.0, 0.0, 0.0, 0.0, 0.0, 0.0, 0.0, 0.0, 0.0, 0.0, 0.0, 0.0, 0.0, 0.0, 0.0, 0.0, 0.0, 0.0, 0.0, 0.0, 0.0, 0.0, 0.0, 0.0, 0.0, 0.0, 0.0, 0.0, 0.0, 0.0, 0.0, 0.0, 0.0, 0.0, 0.0, 0.0, 0.0, 0.0, 0.0, 0.0, 0.0, 0.0, 0.0, 0.0, 0.0, 0.0, 0.0, 0.0, 0.0, 0.0, 0.0, 0.0, 0.0, 0.0, 0.0, 0.0, 0.0, 0.0, 0.0, 0.0, 0.0, 0.0, 0.0, 0.0, 0.0, 0.0, 0.0, 0.0, 0.0, 0.0, 0.0, 0.0, 0.0, 0.0, 0.0, 0.0, 0.0, 0.0, 0.0, 0.0, 0.0, 0.0, 0.0, 0.0, 0.0, 0.0, 0.0, 0.0, 0.0, 0.0, 0.0, 0.0, 0.0, 0.0, 0.0, 0.0, 0.0, 0.0, 0.0, 0.0, 0.0, 0.0, 0.0, 0.0, 0.0, 0.0, 0.0, 0.0, 0.0, 0.0, 0.0, 0.0, 0.0, 0.0, 0.0, 0.0, 0.0, 0.0, 0.0, 0.0, 0.0, 0.0, 0.0, 0.0, 0.0, 0.0, 0.0, 0.0, 0.0, 0.0, 0.0, 0.0, 0.0, 0.0, 0.0, 0.0, 0.0, 0.0, 0.0, 0.0, 0.0, 0.0, 0.0, 0.0, 0.0, 0.0, 0.0, 0.0, 0.0, 0.0, 0.0, 0.0, 0.0, 0.0, 0.0, 0.0, 0.0, 0.0, 0.0, 0.0, 0.0, 0.0, 0.0, 0.0, 0.0, 0.0, 0.0, 0.0, 0.0, 0.0, 0.0, 0.0, 0.0, 0.0, 0.0, 0.0, 0.0, 0.0, 0.0, 0.0, 0.0, 0.0, 0.0, 0.0, 0.0, 0.0, 0.0, 0.0, 0.0, 0.0, 0.0, 0.0, 0.0, 0.0, 0.0, 0.0, 0.0, 0.0, 0.0, 0.0, 0.0, 0.0, 0.0, 0.0, 0.0, 0.0, 0.0, 0.0, 0.0, 0.0, 0.0, 0.0, 0.0, 0.0, 0.0, 0.0, 0.0, 0.0, 0.0, 0.0, 0.0, 0.0, 0.0, 0.0, 0.0, 0.0, 0.0, 0.0, 0.0, 0.0, 0.0, 0.0, 0.0, 0.0, 0.0, 0.0, 0.0, 0.0, 0.0, 0.0, 0.0, 0.0, 0.0, 0.0, 0.0, 0.0, 0.0, 0.0, 0.0, 0.0, 0.0, 0.0, 0.0, 0.0, 0.0, 0.0, 0.0, 0.0, 0.0, 0.0, 0.0, 0.0, 0.0, 0.0, 0.0, 0.0, 0.0, 0.0, 0.0, 0.0, 0.0, 0.0, 0.0, 0.0, 0.0, 0.0, 0.0, 0.0, 0.0, 0.0, 0.0, 0.0, 0.0, 0.0, 0.0, 0.0, 0.0, 0.0, 0.0, 0.0, 0.0, 0.0, 0.0, 0.0, 0.0, 0.0, 0.0, 0.0, 0.0, 0.0, 0.0, 0.0, 0.0, 0.0, 0.0, 0.0, 0.0, 0.0, 0.0, 0.0, 0.0, 0.0, 0.0, 0.0, 0.0, 0.0, 0.0, 0.0, 0.0, 0.0, 0.0, 0.0, 0.0, 0.0, 0.0, 0.0, 0.0, 0.0, 0.0, 0.0, 0.0, 0.0, 0.0, 0.0, 0.0, 0.0, 0.0, 0.0, 0.0, 0.0, 0.0, 0.0, 0.0, 0.0, 0.0, 0.0, 0.0, 0.0, 0.0, 0.0, 0.0, 0.0, 0.0, 0.0, 0.0, 0.0, 0.0, 0.0, 0.0, 0.0, 0.0, 0.0, 0.0, 0.0, 0.0, 0.0, 0.0, 0.0, 0.0, 0.0, 0.0, 0.0, 0.0, 0.0, 0.0, 0.0, 0.0, 0.0, 0.0, 0.0, 0.0, 0.0, 0.0, 0.0, 0.0, 0.0, 0.0, 0.0, 0.0, 0.0, 0.0, 0.0, 0.0, 0.0, 0.0, 0.0, 0.0, 0.0, 0.0, 0.0, 0.0, 0.0, 0.0, 0.0, 0.0, 0.0, 0.0, 0.0, 0.0, 0.0, 0.0, 0.0, 0.0, 0.0, 0.0, 0.0, 0.0, 0.0, 0.0, 0.0, 0.0, 0.0, 0.0, 0.0, 0.0, 0.0, 0.0, 0.0, 0.0, 0.0, 0.0, 0.0, 0.0, 0.0, 0.0, 0.0, 0.0, 0.0, 0.0, 0.0, 0.0, 0.0, 0.0, 0.0, 0.0, 0.0, 0.0, 0.0, 0.0, 0.0, 0.0, 0.0, 0.0, 0.0, 0.0, 0.0, 0.0, 0.0, 0.0, 0.0, 0.0, 0.0, 0.0, 0.0, 0.0, 0.0, 0.0, 0.0, 0.0, 0.0, 0.0, 0.0, 0.0, 0.0, 0.0, 0.0, 0.0, 0.0, 0.0, 0.0, 0.0, 0.0, 0.0, 0.0, 0.0, 0.0, 0.0, 0.0, 0.0, 0.0, 0.0, 0.0, 0.0, 0.0, 0.0, 0.0, 0.0, 0.0, 0.0, 0.0, 0.0, 0.0, 0.0, 0.0, 0.0, 0.0, 0.0, 0.0, 0.0, 0.0, 0.0, 0.0, 0.0, 0.0, 0.0, 0.0, 0.0, 0.0, 0.0, 0.0, 0.0, 0.0, 0.0, 0.0, 0.0, 0.0, 0.0, 0.0, 0.0, 0.0, 0.0, 0.0, 0.0, 0.0, 0.0, 0.0, 0.0, 0.0, 0.0, 0.0, 0.0, 0.0, 0.0, 0.0, 0.0, 0.0, 0.0, 0.0, 0.0, 0.0, 0.0, 0.0, 0.0, 0.0, 0.0, 0.0, 0.0, 0.0, 0.0, 0.0, 0.0, 0.0, 0.0, 0.0, 0.0, 0.0, 0.0, 0.0, 0.0, 0.0, 0.0, 0.0, 0.0, 0.0, 0.0, 0.0, 0.0, 0.0, 0.0, 0.0, 0.0, 0.0, 0.0, 0.0, 0.0, 0.0, 0.0, 0.0, 0.0, 0.0, 0.0, 0.0, 0.0, 0.0, 0.0, 0.0, 0.0, 0.0, 0.0, 0.0, 0.0, 0.0, 0.0, 0.0, 0.0, 0.0, 0.0, 0.0, 0.0, 0.0, 0.0, 0.0, 0.0, 0.0, 0.0, 0.0, 0.0, 0.0, 0.0, 0.0, 0.0, 0.0, 0.0, 0.0, 0.0005141388174807198, 0.0, 0.0, 0.0, 0.0, 0.0, 0.0, 0.0, 0.0, 0.0, 0.0, 0.0005141388174807198, 0.0, 0.0, 0.0, 0.0, 0.0005141388174807198, 0.0, 0.0, 0.0, 0.0, 0.0, 0.0, 0.0, 0.0, 0.0, 0.0, 0.0, 0.0, 0.0, 0.0, 0.0, 0.0, 0.0, 0.0, 0.0, 0.0, 0.0, 0.0, 0.0, 0.0, 0.0, 0.0, 0.0, 0.0, 0.0, 0.0015424164524421595, 0.0, 0.0, 0.0, 0.0, 0.0, 0.0, 0.0010282776349614395, 0.0, 0.0005141388174807198, 0.0, 0.0, 0.0, 0.0, 0.0, 0.0, 0.0, 0.0005141388174807198, 0.0005141388174807198, 0.0, 0.0005141388174807198, 0.0, 0.0, 0.0, 0.0, 0.0, 0.0, 0.0, 0.0, 0.0005141388174807198, 0.0, 0.0, 0.0015424164524421595, 0.0, 0.0, 0.0005141388174807198, 0.0, 0.0005141388174807198, 0.0, 0.0005141388174807198, 0.0005141388174807198, 0.0, 0.0005141388174807198, 0.0010282776349614395, 0.0, 0.0005141388174807198, 0.0005141388174807198, 0.0, 0.0, 0.0, 0.0005141388174807198, 0.0005141388174807198, 0.0, 0.0010282776349614395, 0.0010282776349614395, 0.0, 0.0, 0.0005141388174807198, 0.0, 0.0, 0.0005141388174807198, 0.0, 0.0, 0.0, 0.0010282776349614395, 0.0, 0.0, 0.0, 0.0005141388174807198, 0.0, 0.0005141388174807198, 0.0005141388174807198, 0.0, 0.0005141388174807198, 0.0, 0.0, 0.0015424164524421595, 0.0, 0.0005141388174807198, 0.0010282776349614395, 0.0, 0.0005141388174807198, 0.0010282776349614395, 0.0, 0.0, 0.0010282776349614395, 0.0, 0.0005141388174807198, 0.0, 0.0010282776349614395, 0.0010282776349614395, 0.0, 0.0010282776349614395, 0.002056555269922879, 0.0, 0.002056555269922879, 0.0010282776349614395, 0.0, 0.0015424164524421595, 0.0, 0.0, 0.0015424164524421595, 0.0, 0.0015424164524421595, 0.0015424164524421595, 0.0, 0.0010282776349614395, 0.0035989717223650387, 0.0, 0.003084832904884319, 0.009254498714652956, 0.0, 0.003084832904884319, 0.0, 0.004627249357326478, 0.005141388174807198, 0.0, 0.005141388174807198, 0.005141388174807198, 0.0, 0.006169665809768638, 0.005141388174807198, 0.0, 0.004113110539845758, 0.0, 0.004113110539845758, 0.0005141388174807198, 0.0, 0.0010282776349614395, 0.0010282776349614395, 0.0, 0.0010282776349614395, 0.0005141388174807198, 0.0, 0.0010282776349614395, 0.0005141388174807198, 0.0, 0.0005141388174807198, 0.0, 0.0005141388174807198, 0.0010282776349614395, 0.0, 0.0010282776349614395, 0.0010282776349614395, 0.0, 0.0005141388174807198, 0.002056555269922879, 0.0, 0.0015424164524421595, 0.0, 0.002570694087403599, 0.0005141388174807198, 0.0, 0.0005141388174807198, 0.0005141388174807198, 0.0, 0.0, 0.0015424164524421595, 0.0, 0.0, 0.0005141388174807198, 0.0, 0.0010282776349614395, 0.0, 0.0, 0.0005141388174807198, 0.0, 0.0, 0.0, 0.0, 0.0, 0.0, 0.0, 0.0, 0.0, 0.0, 0.0, 0.0, 0.0, 0.0, 0.0, 0.0, 0.0, 0.0, 0.0, 0.0, 0.0, 0.0, 0.0, 0.0005141388174807198, 0.0005141388174807198, 0.0, 0.0, 0.0, 0.0, 0.0, 0.0, 0.0, 0.0, 0.0, 0.0, 0.0, 0.0, 0.0, 0.0005141388174807198, 0.0, 0.0, 0.0, 0.0, 0.0, 0.0, 0.0, 0.0, 0.0, 0.0, 0.0, 0.0, 0.0005141388174807198, 0.0005141388174807198, 0.0, 0.0, 0.0, 0.0, 0.0, 0.0, 0.0, 0.0005141388174807198, 0.0, 0.0, 0.0, 0.0, 0.0, 0.0, 0.0, 0.0, 0.0, 0.0, 0.0, 0.0, 0.0005141388174807198, 0.0, 0.0, 0.0, 0.0, 0.0, 0.0, 0.0, 0.0, 0.0, 0.0, 0.0, 0.0, 0.0, 0.0, 0.0, 0.0, 0.0, 0.0005141388174807198, 0.0, 0.0, 0.0, 0.0, 0.0, 0.0, 0.0005141388174807198, 0.0, 0.0, 0.0005141388174807198, 0.0, 0.0, 0.0, 0.0005141388174807198, 0.0, 0.0, 0.0, 0.0, 0.0, 0.0, 0.0, 0.0, 0.0, 0.0, 0.0, 0.0, 0.0, 0.0, 0.0, 0.0, 0.0, 0.0, 0.0, 0.0, 0.0, 0.0, 0.0, 0.0, 0.0005141388174807198, 0.0, 0.0010282776349614395, 0.0, 0.0, 0.0005141388174807198, 0.0, 0.0010282776349614395, 0.0015424164524421595, 0.0, 0.004113110539845758, 0.004113110539845758, 0.0, 0.002056555269922879, 0.002056555269922879, 0.0, 0.0005141388174807198, 0.0, 0.0010282776349614395, 0.0010282776349614395, 0.0, 0.0005141388174807198, 0.0010282776349614395, 0.0, 0.002570694087403599, 0.0010282776349614395, 0.0, 0.002570694087403599, 0.0, 0.002056555269922879, 0.0005141388174807198, 0.0, 0.0010282776349614395, 0.0015424164524421595, 0.0, 0.0015424164524421595, 0.0035989717223650387, 0.0, 0.0035989717223650387, 0.004627249357326478, 0.0, 0.0010282776349614395, 0.0, 0.0005141388174807198, 0.0015424164524421595, 0.0, 0.0, 0.0005141388174807198, 0.0, 0.0010282776349614395, 0.0010282776349614395, 0.0, 0.0015424164524421595, 0.0, 0.0, 0.0005141388174807198, 0.0, 0.0005141388174807198, 0.0015424164524421595, 0.0, 0.0010282776349614395, 0.0005141388174807198, 0.0, 0.0, 0.0005141388174807198, 0.0, 0.0005141388174807198, 0.0, 0.0, 0.0005141388174807198, 0.0, 0.0, 0.0, 0.0, 0.0015424164524421595, 0.0005141388174807198, 0.0, 0.0005141388174807198, 0.0, 0.0, 0.0005141388174807198, 0.0, 0.0005141388174807198, 0.0005141388174807198, 0.0, 0.0005141388174807198, 0.0, 0.0, 0.0, 0.0005141388174807198, 0.0, 0.0010282776349614395, 0.0, 0.0, 0.0010282776349614395, 0.0, 0.0005141388174807198, 0.0010282776349614395, 0.0, 0.0, 0.0, 0.0, 0.0, 0.0, 0.0, 0.0010282776349614395, 0.0, 0.0, 0.0005141388174807198, 0.0, 0.0, 0.0005141388174807198, 0.0, 0.0005141388174807198, 0.0005141388174807198, 0.0, 0.0010282776349614395, 0.0, 0.0, 0.0, 0.0, 0.0010282776349614395, 0.0015424164524421595, 0.0, 0.0005141388174807198, 0.0, 0.0, 0.0, 0.0, 0.0, 0.0015424164524421595, 0.0, 0.0010282776349614395, 0.0010282776349614395, 0.0, 0.0015424164524421595, 0.0, 0.0, 0.0, 0.0005141388174807198, 0.0, 0.0005141388174807198, 0.0, 0.0, 0.0010282776349614395, 0.0, 0.0, 0.0010282776349614395, 0.0, 0.0005141388174807198, 0.0010282776349614395, 0.0, 0.0015424164524421595, 0.0, 0.0, 0.0, 0.0, 0.0015424164524421595, 0.002056555269922879, 0.0, 0.0010282776349614395, 0.0010282776349614395, 0.0, 0.002056555269922879, 0.0010282776349614395, 0.0, 0.0015424164524421595, 0.0, 0.0015424164524421595, 0.0, 0.0, 0.002056555269922879, 0.002570694087403599, 0.0, 0.0015424164524421595, 0.0015424164524421595, 0.0, 0.0015424164524421595, 0.0, 0.0015424164524421595, 0.0015424164524421595, 0.0, 0.0015424164524421595, 0.002056555269922879, 0.0, 0.003084832904884319, 0.002056555269922879, 0.0, 0.006169665809768638, 0.002570694087403599, 0.0, 0.002056555269922879, 0.0, 0.0015424164524421595, 0.0015424164524421595, 0.0, 0.0010282776349614395, 0.0010282776349614395, 0.0, 0.0015424164524421595, 0.002570694087403599, 0.0, 0.002570694087403599, 0.0, 0.003084832904884319, 0.004113110539845758, 0.0, 0.002570694087403599, 0.002570694087403599, 0.0, 0.005655526992287918, 0.004113110539845758, 0.0, 0.004627249357326478, 0.002056555269922879, 0.0, 0.002056555269922879, 0.0, 0.0035989717223650387, 0.0010282776349614395, 0.0, 0.003084832904884319, 0.002570694087403599, 0.0, 0.0015424164524421595, 0.0, 0.0, 0.0015424164524421595, 0.0, 0.0010282776349614395, 0.0, 0.0, 0.0005141388174807198, 0.0010282776349614395, 0.0, 0.0010282776349614395, 0.0005141388174807198, 0.0, 0.0005141388174807198, 0.0005141388174807198, 0.0, 0.0015424164524421595, 0.0, 0.0, 0.0015424164524421595, 0.0, 0.0, 0.0, 0.0, 0.0, 0.0005141388174807198, 0.0, 0.0005141388174807198, 0.0, 0.0, 0.0, 0.0, 0.0005141388174807198, 0.0005141388174807198, 0.0, 0.0005141388174807198, 0.0, 0.0, 0.0005141388174807198, 0.0010282776349614395, 0.0, 0.0, 0.0, 0.0, 0.0010282776349614395, 0.0, 0.0, 0.0, 0.0, 0.0005141388174807198, 0.0, 0.0, 0.0, 0.0, 0.0005141388174807198, 0.0, 0.0, 0.0, 0.0, 0.0, 0.0, 0.0, 0.0, 0.0, 0.0010282776349614395, 0.0, 0.0005141388174807198, 0.0, 0.0, 0.0, 0.0, 0.0, 0.0, 0.0, 0.0005141388174807198, 0.0005141388174807198, 0.0, 0.0, 0.0, 0.0005141388174807198, 0.0, 0.0, 0.0, 0.0, 0.0, 0.0010282776349614395, 0.0, 0.0, 0.0, 0.0, 0.0, 0.0, 0.0, 0.0, 0.0, 0.0, 0.0, 0.0005141388174807198, 0.0, 0.0005141388174807198, 0.0, 0.0, 0.0, 0.0, 0.0, 0.0, 0.0, 0.0, 0.0005141388174807198, 0.0, 0.0, 0.0, 0.0, 0.0010282776349614395, 0.0, 0.0, 0.0010282776349614395, 0.0, 0.0, 0.0005141388174807198, 0.0, 0.0, 0.0, 0.0, 0.0, 0.0, 0.0, 0.0, 0.0, 0.0, 0.0, 0.0, 0.0005141388174807198, 0.0005141388174807198, 0.0, 0.0, 0.0005141388174807198, 0.0, 0.0, 0.0, 0.0, 0.0005141388174807198, 0.0, 0.0, 0.0005141388174807198, 0.0, 0.0, 0.0005141388174807198, 0.0, 0.0005141388174807198, 0.0, 0.0, 0.0, 0.0, 0.0, 0.0, 0.0, 0.0005141388174807198, 0.0005141388174807198, 0.0, 0.002056555269922879, 0.0010282776349614395, 0.0, 0.0005141388174807198, 0.0, 0.0, 0.0010282776349614395, 0.0, 0.0, 0.0010282776349614395, 0.0, 0.0, 0.0, 0.0, 0.0010282776349614395, 0.0, 0.0, 0.0010282776349614395, 0.0, 0.0010282776349614395, 0.0005141388174807198, 0.0, 0.0, 0.0, 0.0, 0.0, 0.0010282776349614395, 0.0, 0.0015424164524421595, 0.002056555269922879, 0.0, 0.002570694087403599, 0.0, 0.002056555269922879, 0.002570694087403599, 0.0, 0.003084832904884319, 0.003084832904884319, 0.0, 0.0015424164524421595, 0.002056555269922879, 0.0, 0.0015424164524421595, 0.0, 0.0015424164524421595, 0.0010282776349614395, 0.0, 0.0010282776349614395, 0.003084832904884319, 0.0, 0.0005141388174807198, 0.0005141388174807198, 0.0, 0.0010282776349614395, 0.0010282776349614395, 0.0, 0.0015424164524421595, 0.0, 0.0010282776349614395, 0.0010282776349614395, 0.0, 0.0005141388174807198, 0.0015424164524421595, 0.0, 0.0015424164524421595, 0.0010282776349614395, 0.0, 0.002056555269922879, 0.0, 0.0005141388174807198, 0.0005141388174807198, 0.0, 0.0010282776349614395, 0.0015424164524421595, 0.0, 0.0, 0.0010282776349614395, 0.0, 0.0015424164524421595, 0.0005141388174807198, 0.0, 0.0, 0.0, 0.0015424164524421595, 0.0010282776349614395, 0.0, 0.0005141388174807198, 0.0005141388174807198, 0.0, 0.002056555269922879, 0.002570694087403599, 0.0, 0.0010282776349614395, 0.0, 0.0005141388174807198, 0.002570694087403599, 0.0, 0.0015424164524421595, 0.0010282776349614395, 0.0, 0.0015424164524421595, 0.0005141388174807198, 0.0, 0.002056555269922879, 0.002570694087403599, 0.0, 0.0015424164524421595, 0.0, 0.0015424164524421595, 0.002056555269922879, 0.0, 0.0035989717223650387, 0.003084832904884319, 0.0, 0.005141388174807198, 0.0035989717223650387, 0.0, 0.004113110539845758, 0.0, 0.004627249357326478, 0.002056555269922879, 0.0, 0.003084832904884319, 0.002570694087403599, 0.0, 0.0035989717223650387, 0.005141388174807198, 0.0, 0.002570694087403599, 0.006169665809768638, 0.0, 0.008740359897172237, 0.0, 0.005655526992287918, 0.006169665809768638, 0.0, 0.006683804627249357, 0.003084832904884319, 0.0, 0.002570694087403599, 0.0035989717223650387, 0.0, 0.002570694087403599, 0.0, 0.005141388174807198, 0.005141388174807198, 0.0, 0.0015424164524421595, 0.002570694087403599, 0.0, 0.003084832904884319, 0.005141388174807198, 0.0, 0.002056555269922879, 0.002056555269922879, 0.0, 0.0010282776349614395, 0.0, 0.0035989717223650387, 0.004627249357326478, 0.0, 0.0010282776349614395, 0.0010282776349614395, 0.0, 0.0005141388174807198, 0.0010282776349614395, 0.0, 0.0010282776349614395, 0.0, 0.0, 0.0005141388174807198, 0.0, 0.0005141388174807198, 0.0010282776349614395, 0.0, 0.0, 0.0, 0.0, 0.0010282776349614395, 0.0, 0.0, 0.0, 0.0, 0.0, 0.0, 0.0, 0.0, 0.0005141388174807198, 0.0, 0.0, 0.0, 0.0, 0.0, 0.0, 0.0, 0.0, 0.0, 0.0, 0.0, 0.0, 0.0, 0.0005141388174807198, 0.0, 0.0005141388174807198, 0.0005141388174807198, 0.0, 0.0, 0.0, 0.0005141388174807198, 0.0005141388174807198, 0.0, 0.0, 0.0005141388174807198, 0.0, 0.0005141388174807198, 0.0, 0.0, 0.0, 0.0, 0.0, 0.0, 0.0, 0.0, 0.0, 0.0, 0.0, 0.0, 0.0, 0.0, 0.0005141388174807198, 0.0, 0.0, 0.0, 0.0005141388174807198, 0.0, 0.0, 0.0, 0.0, 0.0, 0.0, 0.0, 0.0, 0.0005141388174807198, 0.0, 0.0, 0.0, 0.0, 0.0005141388174807198, 0.0, 0.0, 0.0, 0.0, 0.0, 0.0, 0.0, 0.0, 0.0, 0.0, 0.0, 0.0, 0.0, 0.0, 0.0, 0.0, 0.0005141388174807198, 0.0005141388174807198, 0.0, 0.0, 0.0, 0.0, 0.0, 0.0, 0.0, 0.0005141388174807198, 0.0, 0.0, 0.0, 0.0, 0.0005141388174807198, 0.0, 0.0, 0.0, 0.0, 0.0, 0.0005141388174807198, 0.0, 0.0010282776349614395, 0.0, 0.0, 0.0, 0.0005141388174807198, 0.0, 0.0005141388174807198, 0.0, 0.0005141388174807198, 0.0015424164524421595, 0.0, 0.0, 0.0015424164524421595, 0.0, 0.0, 0.0010282776349614395, 0.0, 0.0005141388174807198, 0.002056555269922879, 0.0, 0.0015424164524421595, 0.0, 0.0005141388174807198, 0.0010282776349614395, 0.0, 0.0010282776349614395, 0.003084832904884319, 0.0, 0.003084832904884319, 0.0010282776349614395, 0.0, 0.0, 0.0, 0.002570694087403599, 0.0005141388174807198, 0.0, 0.0, 0.0010282776349614395, 0.0, 0.0005141388174807198, 0.0015424164524421595, 0.0, 0.0010282776349614395, 0.002570694087403599, 0.0, 0.002570694087403599, 0.0, 0.0, 0.0010282776349614395, 0.0, 0.0010282776349614395, 0.0, 0.0, 0.0005141388174807198, 0.0005141388174807198, 0.0, 0.0010282776349614395, 0.0, 0.0005141388174807198, 0.0010282776349614395, 0.0, 0.0010282776349614395, 0.0005141388174807198, 0.0, 0.0005141388174807198, 0.0005141388174807198, 0.0, 0.0010282776349614395, 0.0010282776349614395, 0.0, 0.0010282776349614395, 0.0, 0.0005141388174807198, 0.0005141388174807198, 0.0, 0.002056555269922879, 0.002056555269922879, 0.0, 0.0010282776349614395, 0.0010282776349614395, 0.0, 0.0005141388174807198, 0.0, 0.0, 0.0, 0.0, 0.0005141388174807198, 0.0, 0.0, 0.0010282776349614395, 0.0, 0.0, 0.0005141388174807198, 0.0, 0.0, 0.0005141388174807198, 0.0, 0.0005141388174807198, 0.0015424164524421595, 0.0, 0.0, 0.0005141388174807198, 0.0, 0.0, 0.0010282776349614395, 0.0, 0.0, 0.0, 0.0, 0.0, 0.0, 0.0010282776349614395, 0.0005141388174807198, 0.0, 0.0005141388174807198, 0.0, 0.0, 0.0, 0.0, 0.0, 0.0, 0.0, 0.0, 0.0010282776349614395, 0.0, 0.0, 0.0005141388174807198, 0.0, 0.0005141388174807198, 0.0, 0.0, 0.0005141388174807198, 0.0, 0.0005141388174807198, 0.0, 0.0, 0.0010282776349614395, 0.0, 0.0, 0.0, 0.0005141388174807198, 0.0, 0.0, 0.0, 0.0, 0.0015424164524421595, 0.0, 0.0, 0.0005141388174807198, 0.0, 0.0010282776349614395, 0.0, 0.0, 0.0, 0.0010282776349614395, 0.0, 0.0, 0.0, 0.0, 0.0, 0.0, 0.0, 0.0005141388174807198, 0.0, 0.0010282776349614395, 0.0, 0.0, 0.0, 0.0005141388174807198, 0.0, 0.0, 0.0, 0.0, 0.0, 0.0, 0.0005141388174807198, 0.0, 0.0, 0.0, 0.0005141388174807198, 0.0, 0.0, 0.0, 0.0015424164524421595, 0.0005141388174807198, 0.0, 0.0010282776349614395, 0.0, 0.0, 0.0005141388174807198, 0.0005141388174807198, 0.0, 0.0, 0.0, 0.0, 0.0, 0.0, 0.0, 0.0, 0.0, 0.0, 0.0, 0.0, 0.0005141388174807198, 0.0005141388174807198, 0.0, 0.0, 0.0, 0.0005141388174807198, 0.0, 0.0, 0.0005141388174807198, 0.0, 0.0, 0.0, 0.0005141388174807198, 0.0, 0.0005141388174807198, 0.0005141388174807198, 0.0, 0.0, 0.0, 0.0010282776349614395, 0.0010282776349614395, 0.0, 0.0010282776349614395, 0.002056555269922879, 0.0, 0.0005141388174807198, 0.0005141388174807198, 0.0, 0.0005141388174807198, 0.0, 0.0005141388174807198, 0.0, 0.0, 0.0010282776349614395, 0.0, 0.0, 0.0005141388174807198, 0.0005141388174807198, 0.0, 0.0010282776349614395, 0.0, 0.0, 0.0010282776349614395, 0.0, 0.0, 0.0, 0.0, 0.0, 0.0, 0.0, 0.0005141388174807198, 0.0015424164524421595, 0.0, 0.0010282776349614395, 0.0, 0.0015424164524421595, 0.0010282776349614395, 0.0, 0.0005141388174807198, 0.002056555269922879, 0.0, 0.0015424164524421595, 0.0005141388174807198, 0.0, 0.0, 0.0005141388174807198, 0.0, 0.0005141388174807198, 0.0, 0.0005141388174807198, 0.0010282776349614395, 0.0, 0.0010282776349614395, 0.0010282776349614395, 0.0, 0.0005141388174807198, 0.0010282776349614395, 0.0, 0.0010282776349614395, 0.0, 0.0010282776349614395, 0.0005141388174807198, 0.0, 0.0010282776349614395, 0.0, 0.0, 0.0, 0.002056555269922879, 0.0, 0.0010282776349614395, 0.0, 0.0, 0.0010282776349614395, 0.0, 0.0010282776349614395, 0.0010282776349614395, 0.0, 0.0005141388174807198, 0.0005141388174807198, 0.0, 0.0005141388174807198, 0.0010282776349614395, 0.0, 0.0005141388174807198, 0.0, 0.003084832904884319, 0.0, 0.0, 0.003084832904884319, 0.0005141388174807198, 0.0, 0.002056555269922879, 0.0010282776349614395, 0.0, 0.002056555269922879, 0.002056555269922879, 0.0, 0.0015424164524421595, 0.0, 0.0010282776349614395, 0.0015424164524421595, 0.0, 0.0015424164524421595, 0.002056555269922879, 0.0, 0.005655526992287918, 0.004627249357326478, 0.0, 0.006169665809768638, 0.0, 0.006169665809768638, 0.006683804627249357, 0.0, 0.004113110539845758, 0.005655526992287918, 0.0, 0.002570694087403599, 0.0035989717223650387, 0.0, 0.004627249357326478, 0.004627249357326478, 0.0, 0.0071979434447300775, 0.0, 0.005141388174807198, 0.005655526992287918, 0.0, 0.006169665809768638, 0.0071979434447300775, 0.0, 0.0035989717223650387, 0.003084832904884319, 0.0, 0.005141388174807198, 0.0, 0.005655526992287918, 0.003084832904884319, 0.0, 0.0035989717223650387, 0.004113110539845758, 0.0, 0.002056555269922879, 0.003084832904884319, 0.0, 0.0015424164524421595, 0.0005141388174807198, 0.0, 0.0015424164524421595, 0.0, 0.0010282776349614395, 0.0005141388174807198, 0.0, 0.0015424164524421595, 0.0010282776349614395, 0.0, 0.0, 0.0005141388174807198, 0.0, 0.0010282776349614395, 0.0, 0.0010282776349614395, 0.0010282776349614395, 0.0, 0.0, 0.0, 0.0, 0.0, 0.0005141388174807198, 0.0, 0.0, 0.0, 0.0, 0.0, 0.0, 0.0, 0.0, 0.0, 0.0, 0.0, 0.0, 0.0, 0.0, 0.0, 0.0, 0.0, 0.0, 0.0, 0.0, 0.0005141388174807198, 0.0005141388174807198, 0.0, 0.0, 0.0005141388174807198, 0.0, 0.0, 0.0, 0.0, 0.0, 0.0, 0.0, 0.0005141388174807198, 0.0, 0.0, 0.0, 0.0, 0.0, 0.0, 0.0, 0.0, 0.0, 0.0, 0.0, 0.0, 0.0, 0.0, 0.0, 0.0, 0.0, 0.0, 0.0, 0.0, 0.0, 0.0005141388174807198, 0.0, 0.0005141388174807198, 0.0, 0.0, 0.0, 0.0, 0.0, 0.0, 0.0, 0.0, 0.0, 0.0, 0.0, 0.0, 0.0, 0.0005141388174807198, 0.0005141388174807198, 0.0, 0.0005141388174807198, 0.0, 0.0, 0.0, 0.0005141388174807198, 0.0, 0.0, 0.0, 0.0005141388174807198, 0.0, 0.0, 0.0, 0.0, 0.0, 0.0, 0.0010282776349614395, 0.0, 0.0, 0.0, 0.0005141388174807198, 0.0, 0.0, 0.0, 0.0010282776349614395, 0.0, 0.0, 0.0, 0.0, 0.0005141388174807198, 0.0, 0.0, 0.0, 0.0, 0.0005141388174807198, 0.0, 0.0, 0.0005141388174807198, 0.0005141388174807198, 0.0, 0.0010282776349614395, 0.0010282776349614395, 0.0, 0.0010282776349614395, 0.0, 0.0010282776349614395, 0.0005141388174807198, 0.0, 0.0015424164524421595, 0.0010282776349614395, 0.0, 0.0010282776349614395, 0.0, 0.0, 0.0010282776349614395, 0.0005141388174807198, 0.0, 0.002056555269922879, 0.0, 0.0005141388174807198, 0.0005141388174807198, 0.0, 0.0010282776349614395, 0.0005141388174807198, 0.0, 0.0005141388174807198, 0.0010282776349614395, 0.0, 0.0, 0.0, 0.0010282776349614395, 0.0005141388174807198, 0.0, 0.0005141388174807198, 0.0, 0.0, 0.0, 0.0, 0.0, 0.0015424164524421595, 0.0, 0.0, 0.0005141388174807198, 0.0, 0.0010282776349614395, 0.0015424164524421595, 0.0, 0.0010282776349614395, 0.0005141388174807198, 0.0, 0.0015424164524421595, 0.0005141388174807198, 0.0, 0.0, 0.0, 0.0015424164524421595, 0.0005141388174807198, 0.0, 0.0, 0.0, 0.0, 0.0, 0.0, 0.0, 0.0005141388174807198, 0.0010282776349614395, 0.0, 0.0, 0.0, 0.0, 0.0, 0.0, 0.0, 0.0005141388174807198, 0.0, 0.0015424164524421595, 0.0010282776349614395, 0.0, 0.0015424164524421595, 0.0, 0.0, 0.0010282776349614395, 0.0, 0.0, 0.0015424164524421595, 0.0, 0.0005141388174807198, 0.0015424164524421595, 0.0, 0.0010282776349614395, 0.0005141388174807198, 0.0, 0.0, 0.0, 0.0010282776349614395, 0.0005141388174807198, 0.0, 0.0010282776349614395, 0.0, 0.0, 0.0, 0.0005141388174807198, 0.0, 0.0, 0.0, 0.0010282776349614395, 0.0005141388174807198, 0.0, 0.0, 0.0, 0.0, 0.0005141388174807198, 0.0010282776349614395, 0.0, 0.0005141388174807198, 0.0010282776349614395, 0.0, 0.0005141388174807198, 0.0, 0.002056555269922879, 0.0005141388174807198, 0.0, 0.0, 0.0, 0.0, 0.0, 0.0, 0.0, 0.0005141388174807198, 0.0, 0.0, 0.0, 0.0, 0.0, 0.0, 0.0, 0.0, 0.0, 0.0, 0.0, 0.0, 0.0, 0.0, 0.0, 0.0, 0.0005141388174807198, 0.0, 0.0, 0.0005141388174807198, 0.0, 0.0, 0.0, 0.0, 0.0, 0.0, 0.0005141388174807198, 0.0, 0.0, 0.0010282776349614395, 0.0, 0.0, 0.0, 0.0, 0.0, 0.0, 0.0, 0.0, 0.0, 0.0, 0.0005141388174807198, 0.0, 0.0, 0.0, 0.0, 0.0, 0.0, 0.0, 0.0, 0.0005141388174807198, 0.0, 0.0, 0.0, 0.0, 0.0, 0.0, 0.0, 0.0005141388174807198, 0.0, 0.0, 0.0, 0.0, 0.0, 0.0005141388174807198, 0.0, 0.0, 0.0010282776349614395, 0.0, 0.0, 0.0, 0.0, 0.0, 0.0, 0.0, 0.0, 0.0, 0.0, 0.0, 0.0, 0.0, 0.0, 0.0, 0.0, 0.0005141388174807198, 0.0, 0.0, 0.0, 0.0, 0.0, 0.0, 0.0, 0.0, 0.0, 0.0005141388174807198, 0.0, 0.0, 0.0, 0.0005141388174807198, 0.0, 0.0, 0.0, 0.0, 0.0, 0.0, 0.0, 0.0010282776349614395, 0.0, 0.002570694087403599, 0.0, 0.0, 0.0, 0.0, 0.0, 0.0, 0.0, 0.0, 0.0, 0.0, 0.0, 0.0, 0.0, 0.0, 0.0, 0.0, 0.0, 0.0, 0.0, 0.0, 0.0, 0.0, 0.0, 0.0, 0.0, 0.0, 0.0, 0.0, 0.0, 0.0, 0.0, 0.0, 0.0, 0.0, 0.0, 0.0, 0.0, 0.0, 0.0, 0.0, 0.0, 0.0, 0.0, 0.0, 0.0, 0.0, 0.0, 0.0, 0.0, 0.0, 0.0, 0.0, 0.0, 0.0, 0.0, 0.0, 0.0, 0.0, 0.0, 0.0, 0.0, 0.0, 0.0, 0.0, 0.0, 0.0, 0.0, 0.0, 0.0, 0.0, 0.0, 0.0, 0.0, 0.0, 0.0, 0.0, 0.0, 0.0, 0.0, 0.0, 0.0, 0.0, 0.0, 0.0, 0.0, 0.0, 0.0, 0.0, 0.0, 0.0, 0.0, 0.0, 0.0, 0.0, 0.0, 0.0, 0.0, 0.0, 0.0, 0.0, 0.0, 0.0, 0.0, 0.0, 0.0, 0.0, 0.0, 0.0, 0.0, 0.0, 0.0, 0.0, 0.0, 0.0, 0.0, 0.0, 0.0, 0.0, 0.0, 0.0, 0.0, 0.0, 0.0, 0.0, 0.0, 0.0, 0.0, 0.0, 0.0, 0.0, 0.0, 0.0, 0.0, 0.0, 0.0, 0.0, 0.0, 0.0, 0.0, 0.0, 0.0, 0.0, 0.0, 0.0, 0.0, 0.0, 0.0, 0.0, 0.0, 0.0, 0.0, 0.0, 0.0, 0.0, 0.0, 0.0, 0.0, 0.0, 0.0, 0.0, 0.0, 0.0, 0.0, 0.0, 0.0, 0.0, 0.0, 0.0, 0.0, 0.0, 0.0, 0.0, 0.0, 0.0, 0.0, 0.0, 0.0, 0.0, 0.0, 0.0, 0.0, 0.0, 0.0, 0.0, 0.0, 0.0, 0.0, 0.0, 0.0, 0.0, 0.0, 0.0, 0.0, 0.0, 0.0, 0.0, 0.0, 0.0, 0.0, 0.0, 0.0, 0.0, 0.0, 0.0, 0.0, 0.0, 0.0, 0.0, 0.0, 0.0, 0.0, 0.0, 0.0, 0.0, 0.0, 0.0, 0.0, 0.0, 0.0, 0.0, 0.0, 0.0, 0.0, 0.0, 0.0, 0.0, 0.0, 0.0, 0.0, 0.0, 0.0, 0.0, 0.0, 0.0, 0.0, 0.0, 0.0, 0.0, 0.0, 0.0, 0.0, 0.0, 0.0, 0.0, 0.0, 0.0, 0.0, 0.0, 0.0, 0.0, 0.0, 0.0, 0.0, 0.0, 0.0, 0.0, 0.0, 0.0, 0.0, 0.0, 0.0, 0.0, 0.0, 0.0, 0.0, 0.0, 0.0, 0.0, 0.0, 0.0, 0.0, 0.0, 0.0, 0.0, 0.0, 0.0, 0.0, 0.0, 0.0, 0.0, 0.0, 0.0, 0.0, 0.0, 0.0, 0.0, 0.0, 0.0, 0.0, 0.0, 0.0, 0.0, 0.0, 0.0, 0.0, 0.0, 0.0, 0.0, 0.0, 0.0, 0.0, 0.0, 0.0, 0.0, 0.0, 0.0, 0.0, 0.0, 0.0, 0.0, 0.0, 0.0, 0.0, 0.0, 0.0, 0.0, 0.0, 0.0, 0.0, 0.0, 0.0, 0.0, 0.0, 0.0, 0.0, 0.0, 0.0, 0.0, 0.0, 0.0, 0.0, 0.0, 0.0, 0.0, 0.0, 0.0, 0.0, 0.0, 0.0, 0.0, 0.0, 0.0, 0.0, 0.0, 0.0, 0.0, 0.0, 0.0, 0.0, 0.0, 0.0, 0.0, 0.0, 0.0, 0.0, 0.0, 0.0, 0.0, 0.0, 0.0, 0.0, 0.0, 0.0, 0.0, 0.0, 0.0, 0.0, 0.0, 0.0, 0.0, 0.0, 0.0, 0.0, 0.0, 0.0, 0.0, 0.0, 0.0, 0.0, 0.0, 0.0, 0.0, 0.0, 0.0, 0.0, 0.0, 0.0, 0.0, 0.0, 0.0, 0.0, 0.0, 0.0, 0.0, 0.0, 0.0, 0.0, 0.0, 0.0, 0.0, 0.0, 0.0, 0.0, 0.0, 0.0, 0.0, 0.0, 0.0, 0.0, 0.0, 0.0, 0.0, 0.0, 0.0, 0.0, 0.0, 0.0, 0.0, 0.0, 0.0, 0.0, 0.0, 0.0, 0.0, 0.0, 0.0, 0.0, 0.0, 0.0, 0.0, 0.0, 0.0, 0.0, 0.0, 0.0, 0.0, 0.0, 0.0, 0.0, 0.0, 0.0, 0.0, 0.0, 0.0, 0.0, 0.0, 0.0, 0.0, 0.0, 0.0, 0.0, 0.0, 0.0, 0.0, 0.0, 0.0, 0.0, 0.0, 0.0, 0.0, 0.0, 0.0, 0.0, 0.0, 0.0, 0.0, 0.0, 0.0, 0.0, 0.0, 0.0, 0.0, 0.0, 0.0, 0.0, 0.0, 0.0, 0.0, 0.0, 0.0, 0.0, 0.0, 0.0, 0.0, 0.0, 0.0, 0.0, 0.0, 0.0, 0.0, 0.0, 0.0, 0.0, 0.0, 0.0, 0.0, 0.0, 0.0, 0.0, 0.0, 0.0, 0.0, 0.0, 0.0, 0.0, 0.0, 0.0, 0.0, 0.0, 0.0, 0.0, 0.0, 0.0, 0.0, 0.0, 0.0, 0.0, 0.0, 0.0, 0.0, 0.0, 0.0, 0.0, 0.0, 0.0, 0.0, 0.0, 0.0, 0.0, 0.0, 0.0, 0.0, 0.0, 0.0, 0.0, 0.0, 0.0, 0.0, 0.0, 0.0, 0.0, 0.0, 0.0, 0.0, 0.0, 0.0, 0.0, 0.0, 0.0, 0.0, 0.0, 0.0, 0.0, 0.0, 0.0, 0.0, 0.0, 0.0, 0.0, 0.0, 0.0, 0.0, 0.0, 0.0, 0.0, 0.0, 0.0, 0.0, 0.0, 0.0, 0.0, 0.0, 0.0, 0.0, 0.0, 0.0, 0.0, 0.0, 0.0, 0.0, 0.0, 0.0, 0.0, 0.0, 0.0, 0.0, 0.0, 0.0, 0.0, 0.0, 0.0, 0.0, 0.0, 0.0, 0.0, 0.0, 0.0, 0.0, 0.0, 0.0, 0.0, 0.0, 0.0, 0.0, 0.0, 0.0, 0.0, 0.0, 0.0, 0.0, 0.0, 0.0, 0.0, 0.0, 0.0, 0.0, 0.0, 0.0, 0.0, 0.0, 0.0, 0.0, 0.0, 0.0, 0.0, 0.0, 0.0, 0.0, 0.0, 0.0, 0.0, 0.0, 0.0, 0.0, 0.0, 0.0, 0.0, 0.0, 0.0, 0.0, 0.0, 0.0, 0.0, 0.0, 0.0, 0.0, 0.0, 0.0, 0.0, 0.0, 0.0, 0.0, 0.0, 0.0, 0.0, 0.0, 0.0, 0.0, 0.0, 0.0, 0.0, 0.0, 0.0, 0.0, 0.0, 0.0, 0.0, 0.0, 0.0, 0.0, 0.0, 0.0, 0.0, 0.0, 0.0, 0.0, 0.0]}]}\n"
          ],
          "name": "stdout"
        }
      ]
    },
    {
      "cell_type": "code",
      "metadata": {
        "id": "HcxrCW5lvpVq",
        "colab_type": "code",
        "colab": {}
      },
      "source": [
        "class Compare_Audio:\n",
        "\n",
        "  def __init__(self,audio1,audio2):\n",
        "    self.audio1=audio1\n",
        "    self.audio2=audio2\n",
        "    self.compare_tonic()\n",
        "    self.compare_pattern()\n",
        "    self.compare_histogram()\n",
        "    # self.compare_gamaka()\n",
        "    self.find_similarity_index()       \n",
        "\n",
        "    # self.index = 0.1*((audio1.tonic -audio2.tonic)**2)+ 0.3*()\n",
        "\n",
        "  def compare_tonic(self):\n",
        "    normalizing_tonic_factor=90\n",
        "    self.tonic_index=1-(abs(self.audio1.tonic - self.audio2.tonic))/normalizing_tonic_factor\n",
        "\n",
        "    self.tonic_index\n",
        "\n",
        "  def compare_pattern(self):\n",
        "    compare1= list(self.audio1.pattern.keys())\n",
        "    compare2= list(self.audio2.pattern.keys())\n",
        "\n",
        "    unnormalized_ratio=0\n",
        "\n",
        "    for i in compare1:\n",
        "      if (i in compare2):\n",
        "        unnormalized_ratio += 1\n",
        "    self.pattern_index = (unnormalized_ratio)/(min(len(compare1),len(compare2)))\n",
        "\n",
        "\n",
        "  def compare_histogram(self):\n",
        "    self.histogram_index = np.corrcoef([self.audio1.n_hist_y,self.audio2.n_hist_y])[0][1]\n",
        "  def compare_gamaka(self):\n",
        "    # ff = []\n",
        "    # for i in self.audio1.n_bt_cpn:\n",
        "    #   t = stats.zscore([x for x in i if (math.isnan(x) == False)])\n",
        "    #   gg = []\n",
        "    #   for j in self.audio2.n_bt_cpn:\n",
        "    #     tt = stats.zscore([x for x in j if (math.isnan(x) == False)])\n",
        "    #     gg.append(dtw.distance(t,tt))\n",
        "    #   ff.append(min(gg))\n",
        "    # self.gamaka_index = mean(ff)\n",
        "\n",
        "  def find_similarity_index(self):\n",
        "    self.similarity_index = (0.4*self.tonic_index + 10*self.pattern_index + 10*self.histogram_index )/10.4\n"
      ],
      "execution_count": null,
      "outputs": []
    },
    {
      "cell_type": "code",
      "metadata": {
        "id": "iUGTd5dST0G3",
        "colab_type": "code",
        "colab": {}
      },
      "source": [
        "shankarabarana = Audio('/content/drive/My Drive/Projects/AA/Music dataset/Raga_Surabhi_3.wav')\n",
        "# kalyani_1 = Audio('/content/drive/My Drive/Projects/AA/Music dataset/Kalyani/Raga_Kalyani_1.wav')\n",
        "# kalyani_2 = Audio('/content/drive/My Drive/Projects/AA/Music dataset/Kalyani/Raga_Kalyani_2.wav')\n",
        "# kalyani_0 = Audio('/content/drive/My Drive/Projects/AA/Music dataset/Kalyani/Raga_Kalyani_0.wav')\n",
        "# abhogi = Audio('/content/drive/My Drive/Projects/AA/Music dataset/seq_test/abhogi.mp3')\n",
        "# kambhoji = Audio('/content/drive/My Drive/Projects/AA/Music dataset/seq_test/kambhoji.mp3')\n",
        "# mayamalavagowlai= Audio('/content/drive/My Drive/Projects/AA/Music dataset/seq_test/mayamalavagowlai.mp3')\n",
        "# shanmukhapriya = Audio('/content/drive/My Drive/Projects/AA/Music dataset/seq_test/shanmukhapriya.mp3')\n",
        "# trichur_kalyani = Audio('/content/drive/My Drive/Projects/AA/Music dataset/Kalyani/trichur_kalyani.mp3')"
      ],
      "execution_count": null,
      "outputs": []
    },
    {
      "cell_type": "code",
      "metadata": {
        "id": "uzHb1AGAnFFn",
        "colab_type": "code",
        "colab": {}
      },
      "source": [
        "song_array =[vignesh_kalyani,vignesh_sahana,sreevidya_begada,sreevidya_saveri,sreevidya_sahana,sreeevidya_abhogi,dharini_abhogi,dharini_saveri,dharini_mohana,dharini_sahana,vignesh_shree,vignesh_abhogi,vignesh_begada,rkm_abhogi,rkm_kalyani,rkm_mohana,rkm_sahana,rkm_saveri,rkm_shree,badri_kalyani,badri_mohana,badri_saveri,badri_shree,prasanna_kalyani,prasanna_abhogi,prasanna_begada,prasanna_savveri,prasanna_mohana]"
      ],
      "execution_count": null,
      "outputs": []
    },
    {
      "cell_type": "code",
      "metadata": {
        "id": "JJWCZXfvoWnk",
        "colab_type": "code",
        "colab": {}
      },
      "source": [
        "for i in song_array:\n",
        "  store_compare_features(i,\"Shankarabharana_song\")\n"
      ],
      "execution_count": null,
      "outputs": []
    },
    {
      "cell_type": "code",
      "metadata": {
        "id": "XJOTv9mJ1Gpm",
        "colab_type": "code",
        "colab": {}
      },
      "source": [
        "rkm_abhogi=Audio('/content/drive/My Drive/Projects/AA/Music dataset/Audio/223580__gopalkoduri__carnatic-varnam-by-ramakrishnamurthy-in-abhogi-raaga.mp3')\n",
        "rkm_kalyani=Audio('/content/drive/My Drive/Projects/AA/Music dataset/Audio/223588__gopalkoduri__carnatic-varnam-by-ramakrishnamurthy-in-kalyani-raaga.mp3',duration = 30)\n",
        "rkm_mohana=Audio('/content/drive/My Drive/Projects/AA/Music dataset/Audio/223593__gopalkoduri__carnatic-varnam-by-ramakrishnamurthy-in-mohanam-raaga.mp3')\n",
        "rkm_sahana=Audio('/content/drive/My Drive/Projects/AA/Music dataset/Audio/223595__gopalkoduri__carnatic-varnam-by-ramakrishnamurthy-in-sahana-raaga.mp3')\n",
        "rkm_saveri=Audio('/content/drive/My Drive/Projects/AA/Music dataset/Audio/223601__gopalkoduri__carnatic-varnam-by-ramakrishnamurthy-in-saveri-raaga.mp3')\n",
        "rkm_shree=Audio('/content/drive/My Drive/Projects/AA/Music dataset/Audio/223604__gopalkoduri__carnatic-varnam-by-ramakrishnamurthy-in-sri-raaga.mp3')\n",
        "badri_kalyani = Audio('/content/drive/My Drive/Projects/AA/Music dataset/Audio/223586__gopalkoduri__carnatic-varnam-by-badrinarayanan-in-kalyani-raaga.mp3')\n",
        "badri_mohana = Audio('/content/drive/My Drive/Projects/AA/Music dataset/Audio/223590__gopalkoduri__carnatic-varnam-by-badrinarayanan-in-mohanam-raaga.mp3')\n",
        "badri_saveri = Audio(\"/content/drive/My Drive/Projects/AA/Music dataset/Audio/223598__gopalkoduri__carnatic-varnam-by-badrinarayanan-in-saveri-raaga.mp3\")\n",
        "badri_shree = Audio(\"/content/drive/My Drive/Projects/AA/Music dataset/Audio/223603__gopalkoduri__carnatic-varnam-by-badrinarayanan-in-sri-raaga.mp3\")\n",
        "prasanna_kalyani = Audio('/content/drive/My Drive/Projects/AA/Music dataset/Audio/223587__gopalkoduri__carnatic-varnam-by-prasanna-in-kalyani-raaga.mp3')\n",
        "prasanna_abhogi = Audio('/content/drive/My Drive/Projects/AA/Music dataset/Audio/223579__gopalkoduri__carnatic-varnam-by-prasanna-in-abhogi-raaga.mp3')\n",
        "prasanna_begada = Audio('/content/drive/My Drive/Projects/AA/Music dataset/Audio/223583__gopalkoduri__carnatic-varnam-by-prasanna-in-begada-raaga.mp3')\n",
        "prasanna_savveri = Audio(\"/content/drive/My Drive/Projects/AA/Music dataset/Audio/223600__gopalkoduri__carnatic-varnam-by-prasanna-in-saveri-raaga.mp3\")\n",
        "prasanna_mohana = Audio('/content/drive/My Drive/Projects/AA/Music dataset/Audio/223592__gopalkoduri__carnatic-varnam-by-prasanna-in-mohanam-raaga.mp3')\n",
        "vignesh_kalyani= Audio('/content/drive/My Drive/Projects/AA/Music dataset/Audio/223589__gopalkoduri__carnatic-varnam-by-vignesh-in-kalyani-raaga.mp3')\n",
        "vignesh_abhogi = Audio('/content/drive/My Drive/Projects/AA/Music dataset/Audio/223582__gopalkoduri__carnatic-varnam-by-vignesh-in-abhogi-raaga.mp3')\n",
        "vignesh_begada = Audio('/content/drive/My Drive/Projects/AA/Music dataset/Audio/223585__gopalkoduri__carnatic-varnam-by-vignesh-in-begada-raaga.mp3')\n",
        "vignesh_sahana = Audio(\"/content/drive/My Drive/Projects/AA/Music dataset/Audio/223597__gopalkoduri__carnatic-varnam-by-vignesh-in-sahana-raaga.mp3\")\n",
        "vignesh_shree = Audio(\"/content/drive/My Drive/Projects/AA/Music dataset/Audio/223605__gopalkoduri__carnatic-varnam-by-vignesh-in-sri-raaga.mp3\")\n",
        "dharini_abhogi = Audio('/content/drive/My Drive/Projects/AA/Music dataset/Audio/223578__gopalkoduri__carnatic-varnam-by-dharini-in-abhogi-raaga.mp3')\n",
        "dharini_sahana = Audio('/content/drive/My Drive/Projects/AA/Music dataset/Audio/223594__gopalkoduri__carnatic-varnam-by-dharini-in-sahana-raaga.mp3')\n",
        "dharini_mohana = Audio('/content/drive/My Drive/Projects/AA/Music dataset/Audio/223591__gopalkoduri__carnatic-varnam-by-dharini-in-mohanam-raaga.mp3')\n",
        "dharini_saveri = Audio(\"/content/drive/My Drive/Projects/AA/Music dataset/Audio/223599__gopalkoduri__carnatic-varnam-by-dharini-in-saveri-raaga.mp3\")\n",
        "sreeevidya_abhogi = Audio('/content/drive/My Drive/Projects/AA/Music dataset/Audio/223581__gopalkoduri__carnatic-varnam-by-sreevidya-in-abhogi-raaga.mp3')\n",
        "sreevidya_begada = Audio(\"/content/drive/My Drive/Projects/AA/Music dataset/Audio/223584__gopalkoduri__carnatic-varnam-by-sreevidya-in-begada-raaga.mp3\")\n",
        "sreevidya_sahana = Audio(\"/content/drive/My Drive/Projects/AA/Music dataset/Audio/223596__gopalkoduri__carnatic-varnam-by-sreevidya-in-sahana-raaga.mp3\")\n",
        "sreevidya_saveri = Audio(\"/content/drive/My Drive/Projects/AA/Music dataset/Audio/223602__gopalkoduri__carnatic-varnam-by-sreevidya-in-saveri-raaga.mp3\")"
      ],
      "execution_count": null,
      "outputs": []
    },
    {
      "cell_type": "code",
      "metadata": {
        "id": "xI92taldxp8n",
        "colab_type": "code",
        "colab": {
          "base_uri": "https://localhost:8080/",
          "height": 34
        },
        "outputId": "ccec6ac5-427f-40f5-8586-9f29abb79964"
      },
      "source": [
        "compare=Compare_Audio(vignesh_begada,rkm_sahana)\n",
        "compare.pattern_index"
      ],
      "execution_count": null,
      "outputs": [
        {
          "output_type": "execute_result",
          "data": {
            "text/plain": [
              "0.47413793103448276"
            ]
          },
          "metadata": {
            "tags": []
          },
          "execution_count": 66
        }
      ]
    },
    {
      "cell_type": "code",
      "metadata": {
        "id": "iI34mlg9SzaC",
        "colab_type": "code",
        "colab": {
          "base_uri": "https://localhost:8080/",
          "height": 339
        },
        "outputId": "9f5509e8-edb2-44b3-c542-85147b7843e0"
      },
      "source": [
        "vignesh_abhogi.plot(histogram = 1)\n",
        "rkm_abhogi.plot(histogram = 1 )"
      ],
      "execution_count": null,
      "outputs": [
        {
          "output_type": "display_data",
          "data": {
            "image/png": "[encoded data removed]",
            "text/plain": [
              "<Figure size 1440x360 with 1 Axes>"
            ]
          },
          "metadata": {
            "tags": [],
            "needs_background": "light"
          }
        }
      ]
    },
    {
      "cell_type": "code",
      "metadata": {
        "id": "KmwYxxlBCzDR",
        "colab_type": "code",
        "colab": {
          "base_uri": "https://localhost:8080/",
          "height": 51
        },
        "outputId": "519144f9-f0f6-4b60-c6bf-35e8e4ca46b9"
      },
      "source": [
        "# print(shankarabarana.tonic)\n",
        "# print(kalyani_1.tonic)\n",
        "# print(kalyani_2.tonic) \n",
        "# print(kalyani_0.tonic)\n",
        "# print(abhogi.tonic)\n",
        "# print(kambhoji.tonic)\n",
        "# print(mayamalavagowlai.tonic)\n",
        "# print(shanmukhapriya.tonic) \n",
        "# print(trichur_kalyani.tonic)\n",
        "# print(rkm_abhogi.tonic)\n",
        "print(rkm_kalyani.tonic)\n",
        "# print(rkm_mohana.tonic)\n",
        "# print(rkm_sahana.tonic)\n",
        "# print(rkm_saveri.tonic)\n",
        "# print(rkm_shree.dummy)\n",
        "# print(badri_kalyani.tonic)\n",
        "# print(badri_saveri.tonic)\n",
        "# print(prasanna_kalyani.tonic)\n",
        "# print(prasanna_abhogi.tonic)\n",
        "# print(vignesh_abhogi.tonic)\n",
        "print(vignesh_kalyani.tonic)\n",
        "# print(savveri.tonic)\n",
        "# print(vignesh_kalyani.tonic)\n",
        "# print(dharini_abhogi.tonic)\n",
        "# print(sreeevidya_abhogi.tonic)\n",
        "# print(sreevidya_begada)\n",
        "# print(sreevidya_saveri.tonic)\n"
      ],
      "execution_count": null,
      "outputs": [
        {
          "output_type": "stream",
          "text": [
            "148.0\n",
            "137.0\n"
          ],
          "name": "stdout"
        }
      ]
    },
    {
      "cell_type": "code",
      "metadata": {
        "id": "PK0NE6NTrFWz",
        "colab_type": "code",
        "colab": {}
      },
      "source": [
        "important_key = ['n_pitch','time_axis','n_bt_cpn','bt_cpt','tonic','hist_bins','n_hist_y','all_notes','sequence_notes','pattern']\n",
        "def save_features(audio_clip,filename):\n",
        "  srt = dict()\n",
        "  for i in important_key:\n",
        "    x = audio_clip.__dict__[i]\n",
        "    if type(x) == type(np.array([])):\n",
        "      x = list(x)\n",
        "    srt[i] = x\n",
        "  json_dump = json.dumps(srt)\n",
        "  with open(\"/content/drive/My Drive/Projects/AA/Features/{}.json\".format(filename), \"w\") as outfile: \n",
        "      outfile.write(json_dump) "
      ],
      "execution_count": null,
      "outputs": []
    },
    {
      "cell_type": "code",
      "metadata": {
        "id": "WMQeDqvPA0ZF",
        "colab_type": "code",
        "colab": {}
      },
      "source": [
        "save_features(trichur_kalyani,\"trichur_kalyani\")"
      ],
      "execution_count": null,
      "outputs": []
    },
    {
      "cell_type": "code",
      "metadata": {
        "id": "RVOl-qQLo2Dt",
        "colab_type": "code",
        "colab": {}
      },
      "source": [
        "note = [all_normalized_notes['Sa0'],all_normalized_notes['Ri2'],all_normalized_notes['Ga3'],all_normalized_notes['Pa0'],all_normalized_notes['Da2'],all_normalized_notes['Ni3'],all_normalized_notes['Sa2'],all_normalized_notes['Ma1'],all_normalized_notes['Ma2']]"
      ],
      "execution_count": null,
      "outputs": []
    },
    {
      "cell_type": "code",
      "metadata": {
        "id": "uyIYMBe1jpK5",
        "colab_type": "code",
        "colab": {
          "base_uri": "https://localhost:8080/",
          "height": 339
        },
        "outputId": "e6ccabdb-22e4-436e-cc1a-721058183762"
      },
      "source": [
        "vignesh_kalyani.plot(histogram = 1)\n",
        "rkm_kalyani.plot(histogram = 1)"
      ],
      "execution_count": null,
      "outputs": [
        {
          "output_type": "display_data",
          "data": {
            "image/png": "[encoded data removed]",
            "text/plain": [
              "<Figure size 720x360 with 1 Axes>"
            ]
          },
          "metadata": {
            "tags": [],
            "needs_background": "light"
          }
        }
      ]
    },
    {
      "cell_type": "code",
      "metadata": {
        "id": "Bd4kXZHID05z",
        "colab_type": "code",
        "colab": {}
      },
      "source": [
        "import scipy.stats\n",
        "from scipy.spatial import distance as dist\n",
        "\n",
        "def chi2_distance(histA, histB, eps = 1e-10):\n",
        "  # compute the chi-squared distance\n",
        "  d = 0.5 * np.sum([((a - b) ** 2) / (a + b + eps)\n",
        "    for (a, b) in zip(histA, histB)])\n",
        "  # return the chi-squared distance\n",
        "  return d\n",
        "\n",
        "def jensen_shannon_distance(p, q):\n",
        "    \"\"\"\n",
        "    method to compute the Jenson-Shannon Distance \n",
        "    between two probability distributions\n",
        "    \"\"\"\n",
        "\n",
        "    # convert the vectors into numpy arrays in case that they aren't\n",
        "    p = np.array(p)\n",
        "    q = np.array(q)\n",
        "\n",
        "    # calculate m\n",
        "    m = (p + q) / 2\n",
        "\n",
        "    # compute Jensen Shannon Divergence\n",
        "    divergence = (scipy.stats.entropy(p, m) + scipy.stats.entropy(q, m)) / 2\n",
        "\n",
        "    # compute the Jensen Shannon Distance\n",
        "    distance = np.sqrt(divergence)\n",
        "\n",
        "    return distance\n",
        "def euclidean_distance(x,y):\n",
        "  return sqrt(sum(pow(a-b,2) for a, b in zip(x, y)))"
      ],
      "execution_count": null,
      "outputs": []
    },
    {
      "cell_type": "code",
      "metadata": {
        "id": "AtrLUHz09bE4",
        "colab_type": "code",
        "colab": {}
      },
      "source": [
        "values_1 = [ x for x in rkm_kalyani.n_bt_cpn[0] if math.isnan(x) == False]\n",
        "values_2 = [x for x in shankarabarana.n_bt_cpn[1] if math.isnan(x) == False]"
      ],
      "execution_count": null,
      "outputs": []
    },
    {
      "cell_type": "code",
      "metadata": {
        "id": "ZLn9OeAC-jMk",
        "colab_type": "code",
        "colab": {}
      },
      "source": [
        "def dtw(s, t):\n",
        "    n, m = len(s), len(t)\n",
        "    dtw_matrix = np.zeros((n+1, m+1))\n",
        "    for i in range(n+1):\n",
        "        for j in range(m+1):\n",
        "            dtw_matrix[i, j] = np.inf\n",
        "    dtw_matrix[0, 0] = 0\n",
        "    \n",
        "    for i in range(1, n+1):\n",
        "        for j in range(1, m+1):\n",
        "            cost = abs(s[i-1] - t[j-1])\n",
        "            # take last min from a square box\n",
        "            last_min = np.min([dtw_matrix[i-1, j], dtw_matrix[i, j-1], dtw_matrix[i-1, j-1]])\n",
        "            dtw_matrix[i, j] = cost + last_min\n",
        "    return dtw_matrix"
      ],
      "execution_count": null,
      "outputs": []
    },
    {
      "cell_type": "code",
      "metadata": {
        "id": "VFV0ih-AIaDV",
        "colab_type": "code",
        "colab": {
          "base_uri": "https://localhost:8080/",
          "height": 34
        },
        "outputId": "779c474b-cd24-4daf-efcc-8b20aed35866"
      },
      "source": [
        "dtw(values_1,values_2)[-1][-1]"
      ],
      "execution_count": null,
      "outputs": [
        {
          "output_type": "execute_result",
          "data": {
            "text/plain": [
              "102.20312500000307"
            ]
          },
          "metadata": {
            "tags": []
          },
          "execution_count": 94
        }
      ]
    },
    {
      "cell_type": "code",
      "metadata": {
        "id": "LXbwIJHux6q4",
        "colab_type": "code",
        "colab": {
          "base_uri": "https://localhost:8080/",
          "height": 221
        },
        "outputId": "ae50d52b-3fe3-4ed7-d885-d387594bd4a5"
      },
      "source": [
        "!pip install dtaidistance\n"
      ],
      "execution_count": null,
      "outputs": [
        {
          "output_type": "stream",
          "text": [
            "Collecting dtaidistance\n",
            "\u001b[?25l  Downloading https://files.pythonhosted.org/packages/51/d3/9202738edfeb728face004debad59efe9690a44ac8d8494b96b9dc541359/dtaidistance-1.2.3.tar.gz (318kB)\n",
            "\r\u001b[K     |█                               | 10kB 18.7MB/s eta 0:00:01\r\u001b[K     |██                              | 20kB 2.2MB/s eta 0:00:01\r\u001b[K     |███                             | 30kB 2.8MB/s eta 0:00:01\r\u001b[K     |████▏                           | 40kB 3.1MB/s eta 0:00:01\r\u001b[K     |█████▏                          | 51kB 2.5MB/s eta 0:00:01\r\u001b[K     |██████▏                         | 61kB 2.8MB/s eta 0:00:01\r\u001b[K     |███████▏                        | 71kB 3.1MB/s eta 0:00:01\r\u001b[K     |████████▎                       | 81kB 3.4MB/s eta 0:00:01\r\u001b[K     |█████████▎                      | 92kB 3.6MB/s eta 0:00:01\r\u001b[K     |██████████▎                     | 102kB 3.5MB/s eta 0:00:01\r\u001b[K     |███████████▎                    | 112kB 3.5MB/s eta 0:00:01\r\u001b[K     |████████████▍                   | 122kB 3.5MB/s eta 0:00:01\r\u001b[K     |█████████████▍                  | 133kB 3.5MB/s eta 0:00:01\r\u001b[K     |██████████████▍                 | 143kB 3.5MB/s eta 0:00:01\r\u001b[K     |███████████████▍                | 153kB 3.5MB/s eta 0:00:01\r\u001b[K     |████████████████▌               | 163kB 3.5MB/s eta 0:00:01\r\u001b[K     |█████████████████▌              | 174kB 3.5MB/s eta 0:00:01\r\u001b[K     |██████████████████▌             | 184kB 3.5MB/s eta 0:00:01\r\u001b[K     |███████████████████▌            | 194kB 3.5MB/s eta 0:00:01\r\u001b[K     |████████████████████▋           | 204kB 3.5MB/s eta 0:00:01\r\u001b[K     |█████████████████████▋          | 215kB 3.5MB/s eta 0:00:01\r\u001b[K     |██████████████████████▋         | 225kB 3.5MB/s eta 0:00:01\r\u001b[K     |███████████████████████▋        | 235kB 3.5MB/s eta 0:00:01\r\u001b[K     |████████████████████████▊       | 245kB 3.5MB/s eta 0:00:01\r\u001b[K     |█████████████████████████▊      | 256kB 3.5MB/s eta 0:00:01\r\u001b[K     |██████████████████████████▊     | 266kB 3.5MB/s eta 0:00:01\r\u001b[K     |███████████████████████████▊    | 276kB 3.5MB/s eta 0:00:01\r\u001b[K     |████████████████████████████▉   | 286kB 3.5MB/s eta 0:00:01\r\u001b[K     |█████████████████████████████▉  | 296kB 3.5MB/s eta 0:00:01\r\u001b[K     |██████████████████████████████▉ | 307kB 3.5MB/s eta 0:00:01\r\u001b[K     |████████████████████████████████| 317kB 3.5MB/s eta 0:00:01\r\u001b[K     |████████████████████████████████| 327kB 3.5MB/s \n",
            "\u001b[?25hRequirement already satisfied: numpy in /usr/local/lib/python3.6/dist-packages (from dtaidistance) (1.18.4)\n",
            "Requirement already satisfied: cython in /usr/local/lib/python3.6/dist-packages (from dtaidistance) (0.29.18)\n",
            "Building wheels for collected packages: dtaidistance\n",
            "  Building wheel for dtaidistance (setup.py) ... \u001b[?25l\u001b[?25hdone\n",
            "  Created wheel for dtaidistance: filename=dtaidistance-1.2.3-cp36-cp36m-linux_x86_64.whl size=624242 sha256=0a348bac66b6e2f2c1c3ec07c41aa5d2a2995a3dc2a4a0b1995a567155ae539a\n",
            "  Stored in directory: /root/.cache/pip/wheels/9f/9a/74/42c5b9dc714bb5a70b426df08cc860e6a741bc199004873e1b\n",
            "Successfully built dtaidistance\n",
            "Installing collected packages: dtaidistance\n",
            "Successfully installed dtaidistance-1.2.3\n"
          ],
          "name": "stdout"
        }
      ]
    },
    {
      "cell_type": "code",
      "metadata": {
        "id": "hZcdZhGnyACO",
        "colab_type": "code",
        "colab": {}
      },
      "source": [
        "from scipy import stats\n",
        "az = stats.zscore([1,2,3])"
      ],
      "execution_count": null,
      "outputs": []
    }
  ]
}