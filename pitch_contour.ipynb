{
  "nbformat": 4,
  "nbformat_minor": 0,
  "metadata": {
    "colab": {
      "name": "pitch_contour.ipynb",
      "provenance": [],
      "collapsed_sections": [],
      "authorship_tag": "ABX9TyP9+dpG3S9UYr6jXUog4D7V"
    },
    "kernelspec": {
      "name": "python3",
      "display_name": "Python 3"
    }
  },
  "cells": [
    {
      "cell_type": "code",
      "metadata": {
        "id": "PGZr9ht7mIt-",
        "colab_type": "code",
        "outputId": "29d75040-6d47-48d7-f263-eb20bb764cfe",
        "colab": {
          "base_uri": "https://localhost:8080/",
          "height": 122
        }
      },
      "source": [
        "from google.colab import drive\n",
        "drive.mount('/content/drive')"
      ],
      "execution_count": 0,
      "outputs": [
        {
          "output_type": "stream",
          "text": [
            "Go to this URL in a browser: https://accounts.google.com/o/oauth2/auth?client_id=947318989803-6bn6qk8qdgf4n4g3pfee6491hc0brc4i.apps.googleusercontent.com&redirect_uri=urn%3aietf%3awg%3aoauth%3a2.0%3aoob&response_type=code&scope=email%20https%3a%2f%2fwww.googleapis.com%2fauth%2fdocs.test%20https%3a%2f%2fwww.googleapis.com%2fauth%2fdrive%20https%3a%2f%2fwww.googleapis.com%2fauth%2fdrive.photos.readonly%20https%3a%2f%2fwww.googleapis.com%2fauth%2fpeopleapi.readonly\n",
            "\n",
            "Enter your authorization code:\n",
            "··········\n",
            "Mounted at /content/drive\n"
          ],
          "name": "stdout"
        }
      ]
    },
    {
      "cell_type": "code",
      "metadata": {
        "id": "yqLFzLd2mMVQ",
        "colab_type": "code",
        "colab": {}
      },
      "source": [
        "import librosa\n",
        "import librosa.display\n",
        "import numpy as np\n",
        "import matplotlib.pyplot as plt\n",
        "from scipy.fftpack import *\n",
        "from scipy.signal import kaiserord, lfilter, firwin, freqz, spectrogram\n",
        "\n",
        "freq_cqt = librosa.cqt_frequencies(90, fmin=32)"
      ],
      "execution_count": 0,
      "outputs": []
    },
    {
      "cell_type": "code",
      "metadata": {
        "id": "gUlaL8AamWI2",
        "colab_type": "code",
        "colab": {}
      },
      "source": [
        "class Audio:\n",
        "  def __init__(self, path, sr=None, duration = None):\n",
        "    self.x, self.sr1 = librosa.load(path= path, sr=sr,duration=duration)\n",
        "    \n",
        "    nyq_rate = self.sr1 / 2.0\n",
        "    width = 5.0/nyq_rate\n",
        "    N, beta = kaiserord(60.0, width)\n",
        "    taps = firwin(N, [i/nyq_rate for i in [70.0, 500.0]], window=('kaiser', beta),pass_zero=False)\n",
        "    \n",
        "    self.x = lfilter(taps, 1.0, self.x)\n",
        "    self.time = librosa.samples_to_time(self.x,sr=self.sr1)\n",
        "\n",
        "  def spectrogram(self,plot = False):\n",
        "    cqt = librosa.cqt(self.x,sr=self.sr1)\n",
        "    self.logC = librosa.amplitude_to_db(np.abs(cqt),ref = np.max)\n",
        "    if plot:\n",
        "      librosa.display.specshow(self.logC, sr=self.sr1, x_axis='time',y_axis = 'cqt_hz')\n",
        "  def low_pass_digital(self,S, dt = 70, ts = 50):\n",
        "    low = []\n",
        "    alpha = dt/(int(dt)+ts)\n",
        "    low.append((1-alpha)*S[0])\n",
        "    for i in range(1,len(S)):\n",
        "      g = (1-alpha)*S[i] + alpha*low[i-1]\n",
        "      low.append(g)\n",
        "    return low\n",
        "  def pitch_contour(self):\n",
        "    pitch = []\n",
        "    i,j = self.logC.shape\n",
        "    step = np.ones(j)\n",
        "    for k in range(0,j):\n",
        "      temp = np.where(self.logC[:,k]==np.amax(self.logC[:,k]))\n",
        "      pitch.append(temp[0][0])\n",
        "      if np.amax(self.logC[:,k]) < -18:  \n",
        "        step[k] = np.nan\n",
        "    pitch = [ freq_cqt[i] for i in pitch]\n",
        "    pitch = self.low_pass_digital(pitch)\n",
        "    self.pitch = [a*b for a,b in zip(pitch,step)]\n"
      ],
      "execution_count": 0,
      "outputs": []
    },
    {
      "cell_type": "code",
      "metadata": {
        "id": "Cqfhs2mCnogh",
        "colab_type": "code",
        "colab": {}
      },
      "source": [
        "a = Audio('/content/drive/My Drive/Projects/AA/Music dataset/Raga_Surabhi_3.wav')\n",
        "a.spectrogram()\n",
        "a.pitch_contour()"
      ],
      "execution_count": 0,
      "outputs": []
    },
    {
      "cell_type": "code",
      "metadata": {
        "id": "enDUYgVpnric",
        "colab_type": "code",
        "outputId": "f160943f-edce-40af-dbb5-74c00e7bb059",
        "colab": {
          "base_uri": "https://localhost:8080/",
          "height": 286
        }
      },
      "source": [
        "plt.plot(a.pitch)"
      ],
      "execution_count": 0,
      "outputs": [
        {
          "output_type": "execute_result",
          "data": {
            "text/plain": [
              "[<matplotlib.lines.Line2D at 0x7f5599dbc3c8>]"
            ]
          },
          "metadata": {
            "tags": []
          },
          "execution_count": 83
        },
        {
          "output_type": "display_data",
          "data": {
            "image/png": "[encoded data removed]",
            "text/plain": [
              "<Figure size 432x288 with 1 Axes>"
            ]
          },
          "metadata": {
            "tags": []
          }
        }
      ]
    }
  ]
}