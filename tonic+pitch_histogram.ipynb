{
  "nbformat": 4,
  "nbformat_minor": 0,
  "metadata": {
    "colab": {
      "name": "tonic+pitch-histogram.ipynb",
      "provenance": [],
      "collapsed_sections": [],
      "mount_file_id": "1pdiKEeA_wRGqXI7Ea4PNKjJRycQYkh07",
      "authorship_tag": "ABX9TyNcpdr2XBAA3kTF0GK2mZcs",
      "include_colab_link": true
    },
    "kernelspec": {
      "name": "python3",
      "display_name": "Python 3"
    }
  },
  "cells": [
    {
      "cell_type": "markdown",
      "metadata": {
        "id": "view-in-github",
        "colab_type": "text"
      },
      "source": [
        "<a href=\"https://colab.research.google.com/github/Kodhandarama/Audio_Analysis/blob/master/tonic%2Bpitch_histogram.ipynb\" target=\"_parent\"><img src=\"https://colab.research.google.com/assets/colab-badge.svg\" alt=\"Open In Colab\"/></a>"
      ]
    },
    {
      "cell_type": "code",
      "metadata": {
        "id": "TINA3bYSyFwE",
        "colab_type": "code",
        "outputId": "d4316ba5-c199-41cd-854d-32e5bb9125e7",
        "colab": {
          "base_uri": "https://localhost:8080/",
          "height": 54
        }
      },
      "source": [
        "#connects colab to drive\n",
        "from google.colab import drive\n",
        "drive.mount('/content/drive')"
      ],
      "execution_count": 0,
      "outputs": [
        {
          "output_type": "stream",
          "text": [
            "Drive already mounted at /content/drive; to attempt to forcibly remount, call drive.mount(\"/content/drive\", force_remount=True).\n"
          ],
          "name": "stdout"
        }
      ]
    },
    {
      "cell_type": "code",
      "metadata": {
        "id": "bLisXDxOUVsA",
        "colab_type": "code",
        "colab": {
          "base_uri": "https://localhost:8080/",
          "height": 34
        },
        "outputId": "3b2949e8-c613-47d6-f6dd-fa35040d4d3e"
      },
      "source": [
        "print(\"hello\")"
      ],
      "execution_count": 1,
      "outputs": [
        {
          "output_type": "stream",
          "text": [
            "hello\n"
          ],
          "name": "stdout"
        }
      ]
    },
    {
      "cell_type": "code",
      "metadata": {
        "id": "--n8EzeDzCPT",
        "colab_type": "code",
        "colab": {}
      },
      "source": [
        "#importing nessecary libraries\n",
        "import librosa\n",
        "import librosa.display\n",
        "import numpy as np\n",
        "import math\n",
        "import matplotlib.pyplot as plt\n",
        "from scipy.fftpack import *\n",
        "from scipy.signal import kaiserord, lfilter, firwin, freqz, spectrogram\n",
        "plt.rcParams['figure.figsize'] = [10, 5]\n",
        "freq_cqt = librosa.cqt_frequencies(90, fmin=32)\n",
        "                                   "
      ],
      "execution_count": 0,
      "outputs": []
    },
    {
      "cell_type": "code",
      "metadata": {
        "id": "Y1zH4GRVzI8k",
        "colab_type": "code",
        "colab": {}
      },
      "source": [
        "#defining the class \n",
        "#each object of this class is an audio clip that is to be analysed\n",
        "class Audio:\n",
        "  def __init__(self, path, sr=None, duration = None):\n",
        "    \n",
        "    self.x, self.sr1 = librosa.load(path= path, sr=sr,duration=duration)\n",
        "    \n",
        "    nyq_rate = self.sr1 / 2.0\n",
        "    width = 5.0/nyq_rate\n",
        "    N, beta = kaiserord(60.0, width)\n",
        "    taps = firwin(N, [i/nyq_rate for i in [110.0, 500.0]], window=('kaiser', beta),pass_zero=False)\n",
        "    \n",
        "    self.x = lfilter(taps, 1.0, self.x)\n",
        "    self.time = librosa.samples_to_time(np.arange(0,len(librosa.frames_to_time(self.x,sr=self.sr1)),512))/2\n",
        "    \n",
        "    self.spectrogram()\n",
        "    self.pitch_contour()\n",
        "\n",
        "  def spectrogram(self,plot = False):\n",
        "    cqt = librosa.cqt(self.x,sr=self.sr1)\n",
        "    self.logC = librosa.amplitude_to_db(np.abs(cqt),ref = np.max)\n",
        "    if plot:\n",
        "      librosa.display.specshow(self.logC, sr=self.sr1, x_axis='time',y_axis = 'cqt_hz')\n",
        "  \"\"\"\n",
        "  def spectrogram(self,plot = False):\n",
        "    stft = librosa.stft(self.x)\n",
        "    S, phase = librosa.magphase(stft)\n",
        "    self.logC = librosa.amplitude_to_db(S,ref = np.max)\n",
        "    if plot:\n",
        "      librosa.display.specshow(self.logC, sr=self.sr1, x_axis='time',y_axis = 'log')\n",
        "  \"\"\"\n",
        "  def low_pass_digital(self,S, dt = 70, ts = 50): #parameters have to be verified\n",
        "    low = []\n",
        "    alpha = dt/(int(dt)+ts)\n",
        "    low.append((1-alpha)*S[0])\n",
        "    for i in range(1,len(S)):\n",
        "      g = (1-alpha)*S[i] + alpha*low[i-1]\n",
        "      low.append(g)\n",
        "    return low\n",
        "  def pitch_contour(self):\n",
        "    pitch = []\n",
        "    i,j = self.logC.shape\n",
        "    step = np.ones(j)\n",
        "    for k in range(0,j):\n",
        "      temp = np.where(self.logC[:,k]==np.amax(self.logC[:,k]))\n",
        "      pitch.append(temp[0][0])\n",
        "      if np.amax(self.logC[:,k]) < -15:  \n",
        "        step[k] = np.nan\n",
        "    pitch = [ freq_cqt[i] for i in pitch]\n",
        "    pitch = self.low_pass_digital(pitch)\n",
        "    self.pitch = [a*b for a,b in zip(pitch,step)]\n",
        "\n",
        "    def constant_pitch(self):\n",
        "    # normalised pitch by 12*log(to the base 2) (f[i]/f0)\n",
        "    # where f0 is the tonic \n",
        "    self.normalised_pitch=[]\n",
        "    for i in self.pitch:\n",
        "      self.normalised_pitch.append((12*np.log2(i/191.782)))\n",
        "    \n",
        "    # calculating the 1st order difference\n",
        "    self.diff_n = np.diff(self.normalised_pitch)\n",
        "    \n",
        "    k=[]\n",
        "    for i in range(len(self.diff_n)):\n",
        "      # constant note when the slope(of the pitch contour) is within the thershold i.e, delta =  \n",
        "      if(self.diff_n[i]<0.01 and self.diff_n[i]>-0.01):\n",
        "        k.append((self.normalised_pitch[i],self.time[i]))\n",
        "    k = np.array(k)\n",
        "    self.constant_pitch_notes,self.constant_pitch_time = k.T"
      ],
      "execution_count": 0,
      "outputs": []
    },
    {
      "cell_type": "code",
      "metadata": {
        "id": "ucRdejGvzOb7",
        "colab_type": "code",
        "colab": {}
      },
      "source": [
        "test = Audio('/content/drive/My Drive/AA/Music dataset/Audio/223580__gopalkoduri__carnatic-varnam-by-ramakrishnamurthy-in-abhogi-raaga.mp3')"
      ],
      "execution_count": 0,
      "outputs": []
    },
    {
      "cell_type": "code",
      "metadata": {
        "id": "CS9s2AE5cMRu",
        "colab_type": "code",
        "colab": {}
      },
      "source": [
        "test_surabhi = Audio('/content/drive/My Drive/AA/Music dataset/Raga_Surabhi_3.wav')"
      ],
      "execution_count": 0,
      "outputs": []
    },
    {
      "cell_type": "code",
      "metadata": {
        "id": "4uL1nGFYzWZV",
        "colab_type": "code",
        "colab": {}
      },
      "source": [
        "plt.plot(test.pitch)"
      ],
      "execution_count": 0,
      "outputs": []
    },
    {
      "cell_type": "code",
      "metadata": {
        "id": "Cjq33XZd2M0u",
        "colab_type": "code",
        "colab": {}
      },
      "source": [
        "test.pitch"
      ],
      "execution_count": 0,
      "outputs": []
    },
    {
      "cell_type": "code",
      "metadata": {
        "id": "srmQAI4fBrjv",
        "colab_type": "code",
        "colab": {}
      },
      "source": [
        "#checking the ratio of panchama to shadja\n",
        "\n",
        "def most_frequent(List): \n",
        "    counter = 0\n",
        "    num = List[0] \n",
        "      \n",
        "    for i in List: \n",
        "        curr_frequency = List.count(i) \n",
        "        if(curr_frequency> counter): \n",
        "            counter = curr_frequency \n",
        "            num = i \n",
        "  \n",
        "    return num  \n",
        "\n",
        "def tonic(testo):\n",
        "  store_tonic=list()\n",
        "  floored=[]\n",
        "  \n",
        "  uniquepitch=set(testo.pitch)\n",
        "  uniquepitchfloor=[]\n",
        "  for i in uniquepitch:\n",
        "    if(not((math.isnan(i)))):\n",
        "      i=math.floor(i)\n",
        "    uniquepitchfloor.append(i)\n",
        "  for i in uniquepitchfloor:\n",
        "    for j in uniquepitchfloor:\n",
        "        if(not((math.isnan(i)))and (not((math.isnan(j))))):\n",
        "          if(((i/j)>1.49) and ((i/j) <1.51)):\n",
        "            # print(j)\n",
        "            store_tonic.append(j)\n",
        "  \n",
        "  print(most_frequent(store_tonic))\n",
        "  \n",
        "\n",
        "#tonic(test)\n"
      ],
      "execution_count": 0,
      "outputs": []
    },
    {
      "cell_type": "markdown",
      "metadata": {
        "id": "EZl_mpyvneN8",
        "colab_type": "text"
      },
      "source": [
        "The result seems to be consistent with 242 hz as the tonic"
      ]
    },
    {
      "cell_type": "code",
      "metadata": {
        "id": "bk8QAM-VnXxd",
        "colab_type": "code",
        "colab": {}
      },
      "source": [
        "# Now, to test another audio clip\n",
        "test3=Audio('/content/drive/My Drive/AA/Music dataset/Audio/223586__gopalkoduri__carnatic-varnam-by-badrinarayanan-in-kalyani-raaga.mp3',duration = 40)\n",
        "\n"
      ],
      "execution_count": 0,
      "outputs": []
    },
    {
      "cell_type": "code",
      "metadata": {
        "id": "oermBvDs0wDm",
        "colab_type": "code",
        "colab": {}
      },
      "source": [
        "plt.plot(test3.pitch)"
      ],
      "execution_count": 0,
      "outputs": []
    },
    {
      "cell_type": "code",
      "metadata": {
        "id": "MfRYRbgM00Qi",
        "colab_type": "code",
        "colab": {}
      },
      "source": [
        "rkm1=Audio('/content/drive/My Drive/AA/Music dataset/Audio/223580__gopalkoduri__carnatic-varnam-by-ramakrishnamurthy-in-abhogi-raaga.mp3',duration=100)\n",
        "rkm2=Audio('/content/drive/My Drive/AA/Music dataset/Audio/223588__gopalkoduri__carnatic-varnam-by-ramakrishnamurthy-in-kalyani-raaga.mp3',duration=100)"
      ],
      "execution_count": 0,
      "outputs": []
    },
    {
      "cell_type": "code",
      "metadata": {
        "id": "YGApob7E0_qM",
        "colab_type": "code",
        "colab": {}
      },
      "source": [
        "tonic(rkm1)\n",
        "\n"
      ],
      "execution_count": 0,
      "outputs": []
    },
    {
      "cell_type": "code",
      "metadata": {
        "id": "rZ0i2sQlCZTz",
        "colab_type": "code",
        "colab": {}
      },
      "source": [
        "tonic(rkm2)"
      ],
      "execution_count": 0,
      "outputs": []
    },
    {
      "cell_type": "code",
      "metadata": {
        "id": "rkLMNDBHcPra",
        "colab_type": "code",
        "outputId": "62cd860f-530f-41d3-b3d6-30789a571be4",
        "colab": {
          "base_uri": "https://localhost:8080/",
          "height": 337
        }
      },
      "source": [
        "#checking out smooth histograms\n",
        "import seaborn as sns\n",
        "\n",
        "test2=Audio('/content/drive/My Drive/AA/Music dataset/Raga_Surabhi_3.wav')\n",
        "free= test.pitch\n",
        "plt.rcParams['figure.figsize'] = [10, 5]\n",
        "# sns.set_style('darkgrid')\n",
        "sns.distplot(free,bins=200)"
      ],
      "execution_count": 0,
      "outputs": [
        {
          "output_type": "execute_result",
          "data": {
            "text/plain": [
              "<matplotlib.axes._subplots.AxesSubplot at 0x7f7a55bcb438>"
            ]
          },
          "metadata": {
            "tags": []
          },
          "execution_count": 31
        },
        {
          "output_type": "display_data",
          "data": {
            "image/png": "[encoded data removed]",
            "text/plain": [
              "<Figure size 720x360 with 1 Axes>"
            ]
          },
          "metadata": {
            "tags": []
          }
        }
      ]
    },
    {
      "cell_type": "code",
      "metadata": {
        "id": "bYzgBMSscTlf",
        "colab_type": "code",
        "outputId": "8a256086-d8b8-46de-dde6-bd530b2f475b",
        "colab": {
          "base_uri": "https://localhost:8080/",
          "height": 337
        }
      },
      "source": [
        "free2= test2.pitch\n",
        "plt.rcParams['figure.figsize'] = [10, 5]\n",
        "# sns.set_style('darkgrid')\n",
        "sns.distplot(free2,bins=20)"
      ],
      "execution_count": 0,
      "outputs": [
        {
          "output_type": "execute_result",
          "data": {
            "text/plain": [
              "<matplotlib.axes._subplots.AxesSubplot at 0x7f7a4aaffcf8>"
            ]
          },
          "metadata": {
            "tags": []
          },
          "execution_count": 32
        },
        {
          "output_type": "display_data",
          "data": {
            "image/png": "[encoded data removed]",
            "text/plain": [
              "<Figure size 720x360 with 1 Axes>"
            ]
          },
          "metadata": {
            "tags": []
          }
        }
      ]
    },
    {
      "cell_type": "markdown",
      "metadata": {
        "id": "tk_UohOvk3ev",
        "colab_type": "text"
      },
      "source": [
        "https://pages.mtu.edu/~suits/notefreqs.html"
      ]
    },
    {
      "cell_type": "code",
      "metadata": {
        "id": "pVfuVywUk9W7",
        "colab_type": "code",
        "outputId": "26a63ab7-b4a8-4080-bf73-d31dd25436c5",
        "colab": {
          "base_uri": "https://localhost:8080/",
          "height": 34
        }
      },
      "source": [
        "most_frequent([i for i in rkm2.pitch if i>320 and i<325])"
      ],
      "execution_count": 0,
      "outputs": [
        {
          "output_type": "execute_result",
          "data": {
            "text/plain": [
              "321.1790100012322"
            ]
          },
          "metadata": {
            "tags": []
          },
          "execution_count": 23
        }
      ]
    }
  ]
}